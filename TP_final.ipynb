{
  "cells": [
    {
      "cell_type": "markdown",
      "metadata": {
        "id": "view-in-github",
        "colab_type": "text"
      },
      "source": [
        "<a href=\"https://colab.research.google.com/github/lademir/TP-Final-iNF420/blob/main/TP_final.ipynb\" target=\"_parent\"><img src=\"https://colab.research.google.com/assets/colab-badge.svg\" alt=\"Open In Colab\"/></a>"
      ]
    },
    {
      "cell_type": "markdown",
      "metadata": {
        "id": "6IeyMTlj8zf6"
      },
      "source": [
        "# Predicao de quantidade de suicidios\n",
        "\n",
        "## Parametros\n",
        "\n",
        "\n",
        "1.   País\n",
        "2.   \n",
        "\n",
        "\n",
        "\n",
        "## Sumário\n",
        "> 1. Definição\n",
        "> 2. Pre-processamento\n",
        "> 3. Breve análise dos dados obtidos\n",
        "> 4. implementação dos modelos\n",
        "> 5. Resultados\n"
      ]
    },
    {
      "cell_type": "code",
      "execution_count": 2,
      "metadata": {
        "id": "jDWX7Idq5Rsf"
      },
      "outputs": [],
      "source": [
        "import pandas as pd\n",
        "import numpy as np\n",
        "from sklearn.metrics import accuracy_score\n",
        "from sklearn.model_selection import train_test_split\n",
        "from sklearn import preprocessing\n",
        "import matplotlib.pyplot as plt\n",
        "import seaborn as sns"
      ]
    },
    {
      "cell_type": "markdown",
      "metadata": {
        "id": "24EETLRceHXn"
      },
      "source": [
        "## Definicao da classe e funcoes para organizar o modelo"
      ]
    },
    {
      "cell_type": "code",
      "execution_count": 3,
      "metadata": {
        "id": "AkGFTeEkedY7"
      },
      "outputs": [],
      "source": [
        "# Retira as linhas com dados inconsistentes\n",
        "def dropNanFromCsv(dataset):\n",
        "  notNullDataset = dataset.dropna()\n",
        "  return notNullDataset\n",
        "\n",
        "# Verifica a existencia de dados repetidos\n",
        "def hasDuplicated(dataset):\n",
        "  dup = dataset.duplicated()\n",
        "  return np.unique(dup)"
      ]
    },
    {
      "cell_type": "code",
      "execution_count": 4,
      "metadata": {
        "id": "EJla0_3ydp0A"
      },
      "outputs": [],
      "source": [
        "class SuicideTendency:\n",
        "  def __init__(self):\n",
        "    self.suicide_dataset = pd.read_csv(\"/content/drive/MyDrive/Faculdade/2022.1/INF 420/Trabalhos/Trabalho final/base/who_suicide_statistics.csv\")\n",
        "    self.alcohol_dataset = pd.read_csv(\"/content/drive/MyDrive/Faculdade/2022.1/INF 420/Trabalhos/Trabalho final/base/student-mat.csv\")\n",
        "    \n",
        "    self.countries = self.suicide_dataset[\"country\"].unique()\n",
        "    self.ages = self.suicide_dataset[\"age\"].unique()\n",
        "    self.sex = self.suicide_dataset[\"sex\"].unique()\n",
        "\n",
        "  # Realiza o pre-processamento dos dados\n",
        "  def preProcessData(self):\n",
        "    print(\"Iniciando pre-processamento dos dados\")\n",
        "    self.suicide_dataset = dropNanFromCsv(self.suicide_dataset)\n",
        "\n",
        "    le1 = preprocessing.LabelEncoder()\n",
        "    le2 = preprocessing.LabelEncoder()\n",
        "    le3 = preprocessing.LabelEncoder()\n",
        "    le_sex=le1.fit(self.suicide_dataset.sex)\n",
        "    le_age=le2.fit(self.suicide_dataset.age)\n",
        "    le_country=le3.fit(self.suicide_dataset.country)\n",
        "\n",
        "    # Atualiza os valores das celulas com valores numericos\n",
        "    self.suicide_dataset.sex = le_sex.transform(self.suicide_dataset.sex) # female:0 , male:1\n",
        "    self.suicide_dataset.age = le_age.transform(self.suicide_dataset.age) # 15-24: 0, 25-34:1, 35-54:2 , 5-14:3, 55-74:4, 75+:5\n",
        "    self.suicide_dataset.country=le_country.transform(self.suicide_dataset.country)\n",
        "\n",
        "    self.setSpecificAgeOnsuicide_dataset()\n",
        "\n",
        "  def countsuicide_dataset(self):\n",
        "    self.suicide_dataset.count()\n",
        "\n",
        "  # @params: num: quantidade de linhas a partir da linha 0 que vao ser printadas\n",
        "  def head(self, num = 5):\n",
        "    print(self.suicide_dataset.head(num))\n",
        "\n",
        "  def ageUnique(self):\n",
        "    uniqueAge = self.suicide_dataset.age.unique()\n",
        "    print(uniqueAge)\n",
        "\n",
        "  def showCountries(self):\n",
        "    print(\"Quantidade de paises: \" + len(self.countries))\n",
        "    print(self.countries)\n",
        "\n",
        "  def setSpecificAgeOnsuicide_dataset(self):\n",
        "    ANO_DA_PESQUISA = 2017\n",
        "    self.suicide_dataset[\"year_age\"] = ANO_DA_PESQUISA - self.suicide_dataset[\"year\"]\n",
        "\n",
        "  def plotHeatmap(self):\n",
        "    fig, ax = plt.subplots(figsize=(15,12))\n",
        "    ax = sns.heatmap(self.suicide_dataset.corr(), annot=True, vmin=-1, vmax=1, cmap=\"YlGnBu\")\n",
        "\n",
        "  # @params: coluna objetivo, array de coluna de features\n",
        "  # @return: y_train, X_train\n",
        "  def dataForModel(self, objective, features):\n",
        "    y = self.suicide_dataset[objective]\n",
        "    X = self.suicide_dataset[features]\n",
        "\n",
        "    return [X, y]\n",
        "\n",
        "  def groupBy(self, group):\n",
        "    return self.suicide_dataset.groupby([group])\n",
        "\n",
        "    "
      ]
    },
    {
      "cell_type": "code",
      "execution_count": 5,
      "metadata": {
        "colab": {
          "base_uri": "https://localhost:8080/"
        },
        "id": "Cxc3Xod5j90o",
        "outputId": "d8f6a94d-85e9-4c2f-db59-0c86e37de59a"
      },
      "outputs": [
        {
          "output_type": "stream",
          "name": "stdout",
          "text": [
            "Iniciando pre-processamento dos dados\n",
            "     country  year  sex  age  suicides_no  population  year_age\n",
            "24         0  1987    0    0         14.0    289700.0        30\n",
            "25         0  1987    0    1          4.0    257200.0        30\n",
            "26         0  1987    0    2          6.0    278800.0        30\n",
            "27         0  1987    0    3          0.0    311000.0        30\n",
            "28         0  1987    0    4          0.0    144600.0        30\n",
            "..       ...   ...  ...  ...          ...         ...       ...\n",
            "143        0  1996    1    5          2.0     25400.0        21\n",
            "144        0  1997    0    0         21.0    294000.0        20\n",
            "145        0  1997    0    1         16.0    273900.0        20\n",
            "146        0  1997    0    2          7.0    370100.0        20\n",
            "147        0  1997    0    3          6.0    361800.0        20\n",
            "\n",
            "[100 rows x 7 columns]\n"
          ]
        }
      ],
      "source": [
        "st = SuicideTendency()\n",
        "\n",
        "st.preProcessData()\n",
        "st.head(100)\n"
      ]
    },
    {
      "cell_type": "markdown",
      "metadata": {
        "id": "xXJpwuM2Xbi9"
      },
      "source": [
        "# Armazenando o dataset"
      ]
    },
    {
      "cell_type": "code",
      "execution_count": 6,
      "metadata": {
        "colab": {
          "base_uri": "https://localhost:8080/",
          "height": 392
        },
        "id": "rcjA-UmPX3jp",
        "outputId": "7b09063d-d075-4009-d2dd-e28927fc66ac"
      },
      "outputs": [
        {
          "output_type": "execute_result",
          "data": {
            "text/plain": [
              "   country  year     sex          age  suicides_no  population  \\\n",
              "0  Albania  1987    male  15-24 years           21      312900   \n",
              "1  Albania  1987    male  35-54 years           16      308000   \n",
              "2  Albania  1987  female  15-24 years           14      289700   \n",
              "3  Albania  1987    male    75+ years            1       21800   \n",
              "4  Albania  1987    male  25-34 years            9      274300   \n",
              "\n",
              "   suicides/100k pop country-year  HDI for year  gdp_for_year ($)   \\\n",
              "0               6.71  Albania1987           NaN      2,156,624,900   \n",
              "1               5.19  Albania1987           NaN      2,156,624,900   \n",
              "2               4.83  Albania1987           NaN      2,156,624,900   \n",
              "3               4.59  Albania1987           NaN      2,156,624,900   \n",
              "4               3.28  Albania1987           NaN      2,156,624,900   \n",
              "\n",
              "   gdp_per_capita ($)       generation  \n",
              "0                 796     Generation X  \n",
              "1                 796           Silent  \n",
              "2                 796     Generation X  \n",
              "3                 796  G.I. Generation  \n",
              "4                 796          Boomers  "
            ],
            "text/html": [
              "\n",
              "  <div id=\"df-43831751-8083-4bf8-8d33-da9cfe785dc0\">\n",
              "    <div class=\"colab-df-container\">\n",
              "      <div>\n",
              "<style scoped>\n",
              "    .dataframe tbody tr th:only-of-type {\n",
              "        vertical-align: middle;\n",
              "    }\n",
              "\n",
              "    .dataframe tbody tr th {\n",
              "        vertical-align: top;\n",
              "    }\n",
              "\n",
              "    .dataframe thead th {\n",
              "        text-align: right;\n",
              "    }\n",
              "</style>\n",
              "<table border=\"1\" class=\"dataframe\">\n",
              "  <thead>\n",
              "    <tr style=\"text-align: right;\">\n",
              "      <th></th>\n",
              "      <th>country</th>\n",
              "      <th>year</th>\n",
              "      <th>sex</th>\n",
              "      <th>age</th>\n",
              "      <th>suicides_no</th>\n",
              "      <th>population</th>\n",
              "      <th>suicides/100k pop</th>\n",
              "      <th>country-year</th>\n",
              "      <th>HDI for year</th>\n",
              "      <th>gdp_for_year ($)</th>\n",
              "      <th>gdp_per_capita ($)</th>\n",
              "      <th>generation</th>\n",
              "    </tr>\n",
              "  </thead>\n",
              "  <tbody>\n",
              "    <tr>\n",
              "      <th>0</th>\n",
              "      <td>Albania</td>\n",
              "      <td>1987</td>\n",
              "      <td>male</td>\n",
              "      <td>15-24 years</td>\n",
              "      <td>21</td>\n",
              "      <td>312900</td>\n",
              "      <td>6.71</td>\n",
              "      <td>Albania1987</td>\n",
              "      <td>NaN</td>\n",
              "      <td>2,156,624,900</td>\n",
              "      <td>796</td>\n",
              "      <td>Generation X</td>\n",
              "    </tr>\n",
              "    <tr>\n",
              "      <th>1</th>\n",
              "      <td>Albania</td>\n",
              "      <td>1987</td>\n",
              "      <td>male</td>\n",
              "      <td>35-54 years</td>\n",
              "      <td>16</td>\n",
              "      <td>308000</td>\n",
              "      <td>5.19</td>\n",
              "      <td>Albania1987</td>\n",
              "      <td>NaN</td>\n",
              "      <td>2,156,624,900</td>\n",
              "      <td>796</td>\n",
              "      <td>Silent</td>\n",
              "    </tr>\n",
              "    <tr>\n",
              "      <th>2</th>\n",
              "      <td>Albania</td>\n",
              "      <td>1987</td>\n",
              "      <td>female</td>\n",
              "      <td>15-24 years</td>\n",
              "      <td>14</td>\n",
              "      <td>289700</td>\n",
              "      <td>4.83</td>\n",
              "      <td>Albania1987</td>\n",
              "      <td>NaN</td>\n",
              "      <td>2,156,624,900</td>\n",
              "      <td>796</td>\n",
              "      <td>Generation X</td>\n",
              "    </tr>\n",
              "    <tr>\n",
              "      <th>3</th>\n",
              "      <td>Albania</td>\n",
              "      <td>1987</td>\n",
              "      <td>male</td>\n",
              "      <td>75+ years</td>\n",
              "      <td>1</td>\n",
              "      <td>21800</td>\n",
              "      <td>4.59</td>\n",
              "      <td>Albania1987</td>\n",
              "      <td>NaN</td>\n",
              "      <td>2,156,624,900</td>\n",
              "      <td>796</td>\n",
              "      <td>G.I. Generation</td>\n",
              "    </tr>\n",
              "    <tr>\n",
              "      <th>4</th>\n",
              "      <td>Albania</td>\n",
              "      <td>1987</td>\n",
              "      <td>male</td>\n",
              "      <td>25-34 years</td>\n",
              "      <td>9</td>\n",
              "      <td>274300</td>\n",
              "      <td>3.28</td>\n",
              "      <td>Albania1987</td>\n",
              "      <td>NaN</td>\n",
              "      <td>2,156,624,900</td>\n",
              "      <td>796</td>\n",
              "      <td>Boomers</td>\n",
              "    </tr>\n",
              "  </tbody>\n",
              "</table>\n",
              "</div>\n",
              "      <button class=\"colab-df-convert\" onclick=\"convertToInteractive('df-43831751-8083-4bf8-8d33-da9cfe785dc0')\"\n",
              "              title=\"Convert this dataframe to an interactive table.\"\n",
              "              style=\"display:none;\">\n",
              "        \n",
              "  <svg xmlns=\"http://www.w3.org/2000/svg\" height=\"24px\"viewBox=\"0 0 24 24\"\n",
              "       width=\"24px\">\n",
              "    <path d=\"M0 0h24v24H0V0z\" fill=\"none\"/>\n",
              "    <path d=\"M18.56 5.44l.94 2.06.94-2.06 2.06-.94-2.06-.94-.94-2.06-.94 2.06-2.06.94zm-11 1L8.5 8.5l.94-2.06 2.06-.94-2.06-.94L8.5 2.5l-.94 2.06-2.06.94zm10 10l.94 2.06.94-2.06 2.06-.94-2.06-.94-.94-2.06-.94 2.06-2.06.94z\"/><path d=\"M17.41 7.96l-1.37-1.37c-.4-.4-.92-.59-1.43-.59-.52 0-1.04.2-1.43.59L10.3 9.45l-7.72 7.72c-.78.78-.78 2.05 0 2.83L4 21.41c.39.39.9.59 1.41.59.51 0 1.02-.2 1.41-.59l7.78-7.78 2.81-2.81c.8-.78.8-2.07 0-2.86zM5.41 20L4 18.59l7.72-7.72 1.47 1.35L5.41 20z\"/>\n",
              "  </svg>\n",
              "      </button>\n",
              "      \n",
              "  <style>\n",
              "    .colab-df-container {\n",
              "      display:flex;\n",
              "      flex-wrap:wrap;\n",
              "      gap: 12px;\n",
              "    }\n",
              "\n",
              "    .colab-df-convert {\n",
              "      background-color: #E8F0FE;\n",
              "      border: none;\n",
              "      border-radius: 50%;\n",
              "      cursor: pointer;\n",
              "      display: none;\n",
              "      fill: #1967D2;\n",
              "      height: 32px;\n",
              "      padding: 0 0 0 0;\n",
              "      width: 32px;\n",
              "    }\n",
              "\n",
              "    .colab-df-convert:hover {\n",
              "      background-color: #E2EBFA;\n",
              "      box-shadow: 0px 1px 2px rgba(60, 64, 67, 0.3), 0px 1px 3px 1px rgba(60, 64, 67, 0.15);\n",
              "      fill: #174EA6;\n",
              "    }\n",
              "\n",
              "    [theme=dark] .colab-df-convert {\n",
              "      background-color: #3B4455;\n",
              "      fill: #D2E3FC;\n",
              "    }\n",
              "\n",
              "    [theme=dark] .colab-df-convert:hover {\n",
              "      background-color: #434B5C;\n",
              "      box-shadow: 0px 1px 3px 1px rgba(0, 0, 0, 0.15);\n",
              "      filter: drop-shadow(0px 1px 2px rgba(0, 0, 0, 0.3));\n",
              "      fill: #FFFFFF;\n",
              "    }\n",
              "  </style>\n",
              "\n",
              "      <script>\n",
              "        const buttonEl =\n",
              "          document.querySelector('#df-43831751-8083-4bf8-8d33-da9cfe785dc0 button.colab-df-convert');\n",
              "        buttonEl.style.display =\n",
              "          google.colab.kernel.accessAllowed ? 'block' : 'none';\n",
              "\n",
              "        async function convertToInteractive(key) {\n",
              "          const element = document.querySelector('#df-43831751-8083-4bf8-8d33-da9cfe785dc0');\n",
              "          const dataTable =\n",
              "            await google.colab.kernel.invokeFunction('convertToInteractive',\n",
              "                                                     [key], {});\n",
              "          if (!dataTable) return;\n",
              "\n",
              "          const docLinkHtml = 'Like what you see? Visit the ' +\n",
              "            '<a target=\"_blank\" href=https://colab.research.google.com/notebooks/data_table.ipynb>data table notebook</a>'\n",
              "            + ' to learn more about interactive tables.';\n",
              "          element.innerHTML = '';\n",
              "          dataTable['output_type'] = 'display_data';\n",
              "          await google.colab.output.renderOutput(dataTable, element);\n",
              "          const docLink = document.createElement('div');\n",
              "          docLink.innerHTML = docLinkHtml;\n",
              "          element.appendChild(docLink);\n",
              "        }\n",
              "      </script>\n",
              "    </div>\n",
              "  </div>\n",
              "  "
            ]
          },
          "metadata": {},
          "execution_count": 6
        }
      ],
      "source": [
        "df = pd.read_csv(\"/content/drive/MyDrive/Faculdade/2022.1/INF 420/Trabalhos/Trabalho final/base/suicide_rate.csv\")\n",
        "df.head()"
      ]
    },
    {
      "cell_type": "code",
      "execution_count": 7,
      "metadata": {
        "id": "2vK27PubeZNp",
        "colab": {
          "base_uri": "https://localhost:8080/"
        },
        "outputId": "6a781ab3-d277-4c8f-d02e-38e1321ee120"
      },
      "outputs": [
        {
          "output_type": "execute_result",
          "data": {
            "text/plain": [
              "(27820, 12)"
            ]
          },
          "metadata": {},
          "execution_count": 7
        }
      ],
      "source": [
        "df.shape"
      ]
    },
    {
      "cell_type": "code",
      "source": [
        "df.columns"
      ],
      "metadata": {
        "colab": {
          "base_uri": "https://localhost:8080/"
        },
        "id": "BrXy4cqv-PAA",
        "outputId": "38de5ddb-e812-48d2-e409-b4b31a88a107"
      },
      "execution_count": 8,
      "outputs": [
        {
          "output_type": "execute_result",
          "data": {
            "text/plain": [
              "Index(['country', 'year', 'sex', 'age', 'suicides_no', 'population',\n",
              "       'suicides/100k pop', 'country-year', 'HDI for year',\n",
              "       ' gdp_for_year ($) ', 'gdp_per_capita ($)', 'generation'],\n",
              "      dtype='object')"
            ]
          },
          "metadata": {},
          "execution_count": 8
        }
      ]
    },
    {
      "cell_type": "code",
      "source": [
        "df.columns = ['country', 'year', 'gender', 'age_group', 'suicide_count', 'population', 'suicide_rate', 'country-year', 'HDI for year',\n",
        "                'gdp_for_year', 'gdp_per_capita', 'generation']\n",
        "df.columns"
      ],
      "metadata": {
        "colab": {
          "base_uri": "https://localhost:8080/"
        },
        "id": "WPzLSeK_-V7J",
        "outputId": "bcffcefe-a0e1-4708-86fa-1f42bc916700"
      },
      "execution_count": 9,
      "outputs": [
        {
          "output_type": "execute_result",
          "data": {
            "text/plain": [
              "Index(['country', 'year', 'gender', 'age_group', 'suicide_count', 'population',\n",
              "       'suicide_rate', 'country-year', 'HDI for year', 'gdp_for_year',\n",
              "       'gdp_per_capita', 'generation'],\n",
              "      dtype='object')"
            ]
          },
          "metadata": {},
          "execution_count": 9
        }
      ]
    },
    {
      "cell_type": "code",
      "source": [
        "df.info()"
      ],
      "metadata": {
        "colab": {
          "base_uri": "https://localhost:8080/"
        },
        "id": "frECwCXf_HHF",
        "outputId": "854ea932-082b-4e44-f494-42ab7cc644c8"
      },
      "execution_count": 10,
      "outputs": [
        {
          "output_type": "stream",
          "name": "stdout",
          "text": [
            "<class 'pandas.core.frame.DataFrame'>\n",
            "RangeIndex: 27820 entries, 0 to 27819\n",
            "Data columns (total 12 columns):\n",
            " #   Column          Non-Null Count  Dtype  \n",
            "---  ------          --------------  -----  \n",
            " 0   country         27820 non-null  object \n",
            " 1   year            27820 non-null  int64  \n",
            " 2   gender          27820 non-null  object \n",
            " 3   age_group       27820 non-null  object \n",
            " 4   suicide_count   27820 non-null  int64  \n",
            " 5   population      27820 non-null  int64  \n",
            " 6   suicide_rate    27820 non-null  float64\n",
            " 7   country-year    27820 non-null  object \n",
            " 8   HDI for year    8364 non-null   float64\n",
            " 9   gdp_for_year    27820 non-null  object \n",
            " 10  gdp_per_capita  27820 non-null  int64  \n",
            " 11  generation      27820 non-null  object \n",
            "dtypes: float64(2), int64(4), object(6)\n",
            "memory usage: 2.5+ MB\n"
          ]
        }
      ]
    },
    {
      "cell_type": "code",
      "source": [
        "# Dataset depois das mudancas de nome\n",
        "\n",
        "df.head()"
      ],
      "metadata": {
        "colab": {
          "base_uri": "https://localhost:8080/",
          "height": 322
        },
        "id": "WLEs0bSwKEK8",
        "outputId": "469ded5c-8b54-4f3b-9178-d4acb7a62a7b"
      },
      "execution_count": 11,
      "outputs": [
        {
          "output_type": "execute_result",
          "data": {
            "text/plain": [
              "   country  year  gender    age_group  suicide_count  population  \\\n",
              "0  Albania  1987    male  15-24 years             21      312900   \n",
              "1  Albania  1987    male  35-54 years             16      308000   \n",
              "2  Albania  1987  female  15-24 years             14      289700   \n",
              "3  Albania  1987    male    75+ years              1       21800   \n",
              "4  Albania  1987    male  25-34 years              9      274300   \n",
              "\n",
              "   suicide_rate country-year  HDI for year   gdp_for_year  gdp_per_capita  \\\n",
              "0          6.71  Albania1987           NaN  2,156,624,900             796   \n",
              "1          5.19  Albania1987           NaN  2,156,624,900             796   \n",
              "2          4.83  Albania1987           NaN  2,156,624,900             796   \n",
              "3          4.59  Albania1987           NaN  2,156,624,900             796   \n",
              "4          3.28  Albania1987           NaN  2,156,624,900             796   \n",
              "\n",
              "        generation  \n",
              "0     Generation X  \n",
              "1           Silent  \n",
              "2     Generation X  \n",
              "3  G.I. Generation  \n",
              "4          Boomers  "
            ],
            "text/html": [
              "\n",
              "  <div id=\"df-dd2c12a8-33ce-47ae-b57f-40515fdb851b\">\n",
              "    <div class=\"colab-df-container\">\n",
              "      <div>\n",
              "<style scoped>\n",
              "    .dataframe tbody tr th:only-of-type {\n",
              "        vertical-align: middle;\n",
              "    }\n",
              "\n",
              "    .dataframe tbody tr th {\n",
              "        vertical-align: top;\n",
              "    }\n",
              "\n",
              "    .dataframe thead th {\n",
              "        text-align: right;\n",
              "    }\n",
              "</style>\n",
              "<table border=\"1\" class=\"dataframe\">\n",
              "  <thead>\n",
              "    <tr style=\"text-align: right;\">\n",
              "      <th></th>\n",
              "      <th>country</th>\n",
              "      <th>year</th>\n",
              "      <th>gender</th>\n",
              "      <th>age_group</th>\n",
              "      <th>suicide_count</th>\n",
              "      <th>population</th>\n",
              "      <th>suicide_rate</th>\n",
              "      <th>country-year</th>\n",
              "      <th>HDI for year</th>\n",
              "      <th>gdp_for_year</th>\n",
              "      <th>gdp_per_capita</th>\n",
              "      <th>generation</th>\n",
              "    </tr>\n",
              "  </thead>\n",
              "  <tbody>\n",
              "    <tr>\n",
              "      <th>0</th>\n",
              "      <td>Albania</td>\n",
              "      <td>1987</td>\n",
              "      <td>male</td>\n",
              "      <td>15-24 years</td>\n",
              "      <td>21</td>\n",
              "      <td>312900</td>\n",
              "      <td>6.71</td>\n",
              "      <td>Albania1987</td>\n",
              "      <td>NaN</td>\n",
              "      <td>2,156,624,900</td>\n",
              "      <td>796</td>\n",
              "      <td>Generation X</td>\n",
              "    </tr>\n",
              "    <tr>\n",
              "      <th>1</th>\n",
              "      <td>Albania</td>\n",
              "      <td>1987</td>\n",
              "      <td>male</td>\n",
              "      <td>35-54 years</td>\n",
              "      <td>16</td>\n",
              "      <td>308000</td>\n",
              "      <td>5.19</td>\n",
              "      <td>Albania1987</td>\n",
              "      <td>NaN</td>\n",
              "      <td>2,156,624,900</td>\n",
              "      <td>796</td>\n",
              "      <td>Silent</td>\n",
              "    </tr>\n",
              "    <tr>\n",
              "      <th>2</th>\n",
              "      <td>Albania</td>\n",
              "      <td>1987</td>\n",
              "      <td>female</td>\n",
              "      <td>15-24 years</td>\n",
              "      <td>14</td>\n",
              "      <td>289700</td>\n",
              "      <td>4.83</td>\n",
              "      <td>Albania1987</td>\n",
              "      <td>NaN</td>\n",
              "      <td>2,156,624,900</td>\n",
              "      <td>796</td>\n",
              "      <td>Generation X</td>\n",
              "    </tr>\n",
              "    <tr>\n",
              "      <th>3</th>\n",
              "      <td>Albania</td>\n",
              "      <td>1987</td>\n",
              "      <td>male</td>\n",
              "      <td>75+ years</td>\n",
              "      <td>1</td>\n",
              "      <td>21800</td>\n",
              "      <td>4.59</td>\n",
              "      <td>Albania1987</td>\n",
              "      <td>NaN</td>\n",
              "      <td>2,156,624,900</td>\n",
              "      <td>796</td>\n",
              "      <td>G.I. Generation</td>\n",
              "    </tr>\n",
              "    <tr>\n",
              "      <th>4</th>\n",
              "      <td>Albania</td>\n",
              "      <td>1987</td>\n",
              "      <td>male</td>\n",
              "      <td>25-34 years</td>\n",
              "      <td>9</td>\n",
              "      <td>274300</td>\n",
              "      <td>3.28</td>\n",
              "      <td>Albania1987</td>\n",
              "      <td>NaN</td>\n",
              "      <td>2,156,624,900</td>\n",
              "      <td>796</td>\n",
              "      <td>Boomers</td>\n",
              "    </tr>\n",
              "  </tbody>\n",
              "</table>\n",
              "</div>\n",
              "      <button class=\"colab-df-convert\" onclick=\"convertToInteractive('df-dd2c12a8-33ce-47ae-b57f-40515fdb851b')\"\n",
              "              title=\"Convert this dataframe to an interactive table.\"\n",
              "              style=\"display:none;\">\n",
              "        \n",
              "  <svg xmlns=\"http://www.w3.org/2000/svg\" height=\"24px\"viewBox=\"0 0 24 24\"\n",
              "       width=\"24px\">\n",
              "    <path d=\"M0 0h24v24H0V0z\" fill=\"none\"/>\n",
              "    <path d=\"M18.56 5.44l.94 2.06.94-2.06 2.06-.94-2.06-.94-.94-2.06-.94 2.06-2.06.94zm-11 1L8.5 8.5l.94-2.06 2.06-.94-2.06-.94L8.5 2.5l-.94 2.06-2.06.94zm10 10l.94 2.06.94-2.06 2.06-.94-2.06-.94-.94-2.06-.94 2.06-2.06.94z\"/><path d=\"M17.41 7.96l-1.37-1.37c-.4-.4-.92-.59-1.43-.59-.52 0-1.04.2-1.43.59L10.3 9.45l-7.72 7.72c-.78.78-.78 2.05 0 2.83L4 21.41c.39.39.9.59 1.41.59.51 0 1.02-.2 1.41-.59l7.78-7.78 2.81-2.81c.8-.78.8-2.07 0-2.86zM5.41 20L4 18.59l7.72-7.72 1.47 1.35L5.41 20z\"/>\n",
              "  </svg>\n",
              "      </button>\n",
              "      \n",
              "  <style>\n",
              "    .colab-df-container {\n",
              "      display:flex;\n",
              "      flex-wrap:wrap;\n",
              "      gap: 12px;\n",
              "    }\n",
              "\n",
              "    .colab-df-convert {\n",
              "      background-color: #E8F0FE;\n",
              "      border: none;\n",
              "      border-radius: 50%;\n",
              "      cursor: pointer;\n",
              "      display: none;\n",
              "      fill: #1967D2;\n",
              "      height: 32px;\n",
              "      padding: 0 0 0 0;\n",
              "      width: 32px;\n",
              "    }\n",
              "\n",
              "    .colab-df-convert:hover {\n",
              "      background-color: #E2EBFA;\n",
              "      box-shadow: 0px 1px 2px rgba(60, 64, 67, 0.3), 0px 1px 3px 1px rgba(60, 64, 67, 0.15);\n",
              "      fill: #174EA6;\n",
              "    }\n",
              "\n",
              "    [theme=dark] .colab-df-convert {\n",
              "      background-color: #3B4455;\n",
              "      fill: #D2E3FC;\n",
              "    }\n",
              "\n",
              "    [theme=dark] .colab-df-convert:hover {\n",
              "      background-color: #434B5C;\n",
              "      box-shadow: 0px 1px 3px 1px rgba(0, 0, 0, 0.15);\n",
              "      filter: drop-shadow(0px 1px 2px rgba(0, 0, 0, 0.3));\n",
              "      fill: #FFFFFF;\n",
              "    }\n",
              "  </style>\n",
              "\n",
              "      <script>\n",
              "        const buttonEl =\n",
              "          document.querySelector('#df-dd2c12a8-33ce-47ae-b57f-40515fdb851b button.colab-df-convert');\n",
              "        buttonEl.style.display =\n",
              "          google.colab.kernel.accessAllowed ? 'block' : 'none';\n",
              "\n",
              "        async function convertToInteractive(key) {\n",
              "          const element = document.querySelector('#df-dd2c12a8-33ce-47ae-b57f-40515fdb851b');\n",
              "          const dataTable =\n",
              "            await google.colab.kernel.invokeFunction('convertToInteractive',\n",
              "                                                     [key], {});\n",
              "          if (!dataTable) return;\n",
              "\n",
              "          const docLinkHtml = 'Like what you see? Visit the ' +\n",
              "            '<a target=\"_blank\" href=https://colab.research.google.com/notebooks/data_table.ipynb>data table notebook</a>'\n",
              "            + ' to learn more about interactive tables.';\n",
              "          element.innerHTML = '';\n",
              "          dataTable['output_type'] = 'display_data';\n",
              "          await google.colab.output.renderOutput(dataTable, element);\n",
              "          const docLink = document.createElement('div');\n",
              "          docLink.innerHTML = docLinkHtml;\n",
              "          element.appendChild(docLink);\n",
              "        }\n",
              "      </script>\n",
              "    </div>\n",
              "  </div>\n",
              "  "
            ]
          },
          "metadata": {},
          "execution_count": 11
        }
      ]
    },
    {
      "cell_type": "code",
      "source": [
        "print(\"Quantidade de dados com base no grupo: \")\n",
        "\n",
        "print(\"\\nGrupo de idade: \")\n",
        "print(df.age_group.value_counts())\n",
        "\n",
        "print(\"\\nSexo: \")\n",
        "print(df.gender.value_counts())\n",
        "\n",
        "print(\"\\nGeracao: \")\n",
        "df.generation.value_counts()"
      ],
      "metadata": {
        "colab": {
          "base_uri": "https://localhost:8080/"
        },
        "id": "d34mfuwb_NAO",
        "outputId": "9777acf6-cc3d-4060-f036-db5d935a5872"
      },
      "execution_count": 12,
      "outputs": [
        {
          "output_type": "stream",
          "name": "stdout",
          "text": [
            "Quantidade de dados com base no grupo: \n",
            "\n",
            "Grupo de idade: \n",
            "15-24 years    4642\n",
            "35-54 years    4642\n",
            "75+ years      4642\n",
            "25-34 years    4642\n",
            "55-74 years    4642\n",
            "5-14 years     4610\n",
            "Name: age_group, dtype: int64\n",
            "\n",
            "Sexo: \n",
            "male      13910\n",
            "female    13910\n",
            "Name: gender, dtype: int64\n",
            "\n",
            "Geracao: \n"
          ]
        },
        {
          "output_type": "execute_result",
          "data": {
            "text/plain": [
              "Generation X       6408\n",
              "Silent             6364\n",
              "Millenials         5844\n",
              "Boomers            4990\n",
              "G.I. Generation    2744\n",
              "Generation Z       1470\n",
              "Name: generation, dtype: int64"
            ]
          },
          "metadata": {},
          "execution_count": 12
        }
      ]
    },
    {
      "cell_type": "code",
      "source": [
        "countries = df[\"country\"].unique()\n",
        "print(\"Quantidade de paises: \", len(countries))\n",
        "countries"
      ],
      "metadata": {
        "colab": {
          "base_uri": "https://localhost:8080/"
        },
        "id": "GuMp-LkdHdhg",
        "outputId": "bfcb4dcd-23af-4e5e-a344-7bac44399d47"
      },
      "execution_count": 13,
      "outputs": [
        {
          "output_type": "stream",
          "name": "stdout",
          "text": [
            "Quantidade de paises:  101\n"
          ]
        },
        {
          "output_type": "execute_result",
          "data": {
            "text/plain": [
              "array(['Albania', 'Antigua and Barbuda', 'Argentina', 'Armenia', 'Aruba',\n",
              "       'Australia', 'Austria', 'Azerbaijan', 'Bahamas', 'Bahrain',\n",
              "       'Barbados', 'Belarus', 'Belgium', 'Belize',\n",
              "       'Bosnia and Herzegovina', 'Brazil', 'Bulgaria', 'Cabo Verde',\n",
              "       'Canada', 'Chile', 'Colombia', 'Costa Rica', 'Croatia', 'Cuba',\n",
              "       'Cyprus', 'Czech Republic', 'Denmark', 'Dominica', 'Ecuador',\n",
              "       'El Salvador', 'Estonia', 'Fiji', 'Finland', 'France', 'Georgia',\n",
              "       'Germany', 'Greece', 'Grenada', 'Guatemala', 'Guyana', 'Hungary',\n",
              "       'Iceland', 'Ireland', 'Israel', 'Italy', 'Jamaica', 'Japan',\n",
              "       'Kazakhstan', 'Kiribati', 'Kuwait', 'Kyrgyzstan', 'Latvia',\n",
              "       'Lithuania', 'Luxembourg', 'Macau', 'Maldives', 'Malta',\n",
              "       'Mauritius', 'Mexico', 'Mongolia', 'Montenegro', 'Netherlands',\n",
              "       'New Zealand', 'Nicaragua', 'Norway', 'Oman', 'Panama', 'Paraguay',\n",
              "       'Philippines', 'Poland', 'Portugal', 'Puerto Rico', 'Qatar',\n",
              "       'Republic of Korea', 'Romania', 'Russian Federation',\n",
              "       'Saint Kitts and Nevis', 'Saint Lucia',\n",
              "       'Saint Vincent and Grenadines', 'San Marino', 'Serbia',\n",
              "       'Seychelles', 'Singapore', 'Slovakia', 'Slovenia', 'South Africa',\n",
              "       'Spain', 'Sri Lanka', 'Suriname', 'Sweden', 'Switzerland',\n",
              "       'Thailand', 'Trinidad and Tobago', 'Turkey', 'Turkmenistan',\n",
              "       'Ukraine', 'United Arab Emirates', 'United Kingdom',\n",
              "       'United States', 'Uruguay', 'Uzbekistan'], dtype=object)"
            ]
          },
          "metadata": {},
          "execution_count": 13
        }
      ]
    },
    {
      "cell_type": "markdown",
      "source": [
        "# Visualizando o dataset"
      ],
      "metadata": {
        "id": "pFl7Sj4KH0I5"
      }
    },
    {
      "cell_type": "code",
      "source": [
        "df.hist(bins = 50, figsize=(15,11))"
      ],
      "metadata": {
        "colab": {
          "base_uri": "https://localhost:8080/",
          "height": 624
        },
        "id": "IDlTLYtuH7zX",
        "outputId": "90315d11-6c46-46f0-c2ba-d652916532e0"
      },
      "execution_count": 14,
      "outputs": [
        {
          "output_type": "execute_result",
          "data": {
            "text/plain": [
              "array([[<matplotlib.axes._subplots.AxesSubplot object at 0x7f46dab5af10>,\n",
              "        <matplotlib.axes._subplots.AxesSubplot object at 0x7f46daac94d0>],\n",
              "       [<matplotlib.axes._subplots.AxesSubplot object at 0x7f46daa7cb50>,\n",
              "        <matplotlib.axes._subplots.AxesSubplot object at 0x7f46daa3e190>],\n",
              "       [<matplotlib.axes._subplots.AxesSubplot object at 0x7f46da9f4790>,\n",
              "        <matplotlib.axes._subplots.AxesSubplot object at 0x7f46da9a9d90>]],\n",
              "      dtype=object)"
            ]
          },
          "metadata": {},
          "execution_count": 14
        },
        {
          "output_type": "display_data",
          "data": {
            "text/plain": [
              "<Figure size 1080x792 with 6 Axes>"
            ],
            "image/png": "[encoded data removed]"
          },
          "metadata": {
            "needs_background": "light"
          }
        }
      ]
    },
    {
      "cell_type": "code",
      "source": [
        "# Genero e suicidio\n",
        "\n",
        "plt.figure(figsize=(10,3))\n",
        "sns.barplot(df.suicide_count, df.gender)\n",
        "plt.title(\"Genero - Suicidio\")\n",
        "plt.show()"
      ],
      "metadata": {
        "colab": {
          "base_uri": "https://localhost:8080/",
          "height": 91
        },
        "id": "V7v_TqxqIFRj",
        "outputId": "5e9fbc0f-ba64-4864-d5c3-2097f2f0717a"
      },
      "execution_count": 15,
      "outputs": [
        {
          "output_type": "stream",
          "name": "stderr",
          "text": [
            "/usr/local/lib/python3.7/dist-packages/seaborn/_decorators.py:43: FutureWarning: Pass the following variables as keyword args: x, y. From version 0.12, the only valid positional argument will be `data`, and passing other arguments without an explicit keyword will result in an error or misinterpretation.\n",
            "  FutureWarning\n"
          ]
        },
        {
          "output_type": "display_data",
          "data": {
            "text/plain": [
              "<Figure size 720x216 with 1 Axes>"
            ],
            "image/png": "[encoded data removed]"
          },
          "metadata": {
            "needs_background": "light"
          }
        }
      ]
    },
    {
      "cell_type": "code",
      "source": [
        "# Baseado no grupo de idade \n",
        "\n",
        "plt.figure(figsize=(10,3))\n",
        "sns.barplot(x = \"age_group\", y = \"suicide_count\", hue = \"gender\", data = df)\n",
        "plt.title(\"Age Group - Count Bar Plot Grouped by Gender\")\n",
        "plt.show()"
      ],
      "metadata": {
        "colab": {
          "base_uri": "https://localhost:8080/",
          "height": 54
        },
        "id": "CDR8R6qnI09R",
        "outputId": "025889b7-75d0-4d0d-8f3b-e1100d0544bb"
      },
      "execution_count": 16,
      "outputs": [
        {
          "output_type": "display_data",
          "data": {
            "text/plain": [
              "<Figure size 720x216 with 1 Axes>"
            ],
            "image/png": "[encoded data removed]"
          },
          "metadata": {
            "needs_background": "light"
          }
        }
      ]
    },
    {
      "cell_type": "code",
      "source": [
        "#Generation - Count Bar Plot grouped by Gender\n",
        "\n",
        "plt.figure(figsize=(9,5))\n",
        "sns.barplot(x = \"generation\", y = \"suicide_count\", hue = \"gender\", data = df)\n",
        "plt.title('Generation - Count Bar Plot grouped by Gender')\n",
        "plt.show()"
      ],
      "metadata": {
        "colab": {
          "base_uri": "https://localhost:8080/",
          "height": 54
        },
        "id": "x454daU5JOkW",
        "outputId": "690ab0f7-3210-4a1a-dcc9-64dcb4774408"
      },
      "execution_count": 17,
      "outputs": [
        {
          "output_type": "display_data",
          "data": {
            "text/plain": [
              "<Figure size 648x360 with 1 Axes>"
            ],
            "image/png": "[encoded data removed]"
          },
          "metadata": {
            "needs_background": "light"
          }
        }
      ]
    },
    {
      "cell_type": "code",
      "source": [
        "# Suicides by gender and country\n",
        "\n",
        "plt.figure(figsize=(55,23))\n",
        "sns.barplot(x = \"country\", y = \"suicide_count\", hue = \"gender\", data = df.sort_values('suicide_count'))\n",
        "plt.xlabel(\"Pais\", size=25)\n",
        "plt.ylabel(\"Numero de suicidios\", size=25)\n",
        "plt.tight_layout()\n",
        "plt.title(\"Country - Count bar plot grouped by gender\")\n",
        "plt.show()"
      ],
      "metadata": {
        "colab": {
          "base_uri": "https://localhost:8080/",
          "height": 54
        },
        "id": "FN1PMX0uXoJT",
        "outputId": "9ab6b84f-497d-46b7-ef8f-2fbdeb6eff09"
      },
      "execution_count": 18,
      "outputs": [
        {
          "output_type": "display_data",
          "data": {
            "text/plain": [
              "<Figure size 3960x1656 with 1 Axes>"
            ],
            "image/png": "[encoded data removed]"
          },
          "metadata": {
            "needs_background": "light"
          }
        }
      ]
    },
    {
      "cell_type": "code",
      "source": [
        "#Line plpot of year and suicide_rate\n",
        "\n",
        "df[['year','suicide_rate']].groupby(['year']).sum().plot()"
      ],
      "metadata": {
        "colab": {
          "base_uri": "https://localhost:8080/",
          "height": 109
        },
        "id": "7s4Y1l0iJqP1",
        "outputId": "0f96d371-e6a9-40a2-b7bc-2b45c90424a1"
      },
      "execution_count": 19,
      "outputs": [
        {
          "output_type": "execute_result",
          "data": {
            "text/plain": [
              "<matplotlib.axes._subplots.AxesSubplot at 0x7f46d9ceb7d0>"
            ]
          },
          "metadata": {},
          "execution_count": 19
        },
        {
          "output_type": "display_data",
          "data": {
            "text/plain": [
              "<Figure size 432x288 with 1 Axes>"
            ],
            "image/png": "[encoded data removed]"
          },
          "metadata": {
            "needs_background": "light"
          }
        }
      ]
    },
    {
      "cell_type": "markdown",
      "source": [
        "# Preprocessing data"
      ],
      "metadata": {
        "id": "Eu4C5G9sIQc0"
      }
    },
    {
      "cell_type": "code",
      "execution_count": 20,
      "metadata": {
        "id": "RomeYSCYegxw"
      },
      "outputs": [],
      "source": [
        "# Retira as linhas com dados inconsistentes\n",
        "def dropNanFromCsv(dataset):\n",
        "  notNullDataset = dataset.dropna()\n",
        "  return notNullDataset\n",
        "\n",
        "  \n",
        "def groupBy(self, group):\n",
        "  return self.suicide_dataset.groupby([group])"
      ]
    },
    {
      "cell_type": "code",
      "source": [
        "# Analizando quantos dos dados sao inconsistentes (null)\n",
        "\n",
        "df.isnull().sum()"
      ],
      "metadata": {
        "colab": {
          "base_uri": "https://localhost:8080/"
        },
        "id": "KAmsw3HoKPQD",
        "outputId": "b33a05b5-2035-47ec-af45-b0a36797d30d"
      },
      "execution_count": 21,
      "outputs": [
        {
          "output_type": "execute_result",
          "data": {
            "text/plain": [
              "country               0\n",
              "year                  0\n",
              "gender                0\n",
              "age_group             0\n",
              "suicide_count         0\n",
              "population            0\n",
              "suicide_rate          0\n",
              "country-year          0\n",
              "HDI for year      19456\n",
              "gdp_for_year          0\n",
              "gdp_per_capita        0\n",
              "generation            0\n",
              "dtype: int64"
            ]
          },
          "metadata": {},
          "execution_count": 21
        }
      ]
    },
    {
      "cell_type": "code",
      "source": [
        "# Como a maioria das linhas possuem HDI_for_year null, vamos remove-la do dataframe\n",
        "\n",
        "df = df.drop([\"HDI for year\"], axis=1)\n",
        "\n",
        "df.head()\n",
        "\n"
      ],
      "metadata": {
        "colab": {
          "base_uri": "https://localhost:8080/",
          "height": 305
        },
        "id": "TNcFe-GqKazp",
        "outputId": "606e678e-4011-4d35-80c9-f1c57c82a298"
      },
      "execution_count": 22,
      "outputs": [
        {
          "output_type": "execute_result",
          "data": {
            "text/plain": [
              "   country  year  gender    age_group  suicide_count  population  \\\n",
              "0  Albania  1987    male  15-24 years             21      312900   \n",
              "1  Albania  1987    male  35-54 years             16      308000   \n",
              "2  Albania  1987  female  15-24 years             14      289700   \n",
              "3  Albania  1987    male    75+ years              1       21800   \n",
              "4  Albania  1987    male  25-34 years              9      274300   \n",
              "\n",
              "   suicide_rate country-year   gdp_for_year  gdp_per_capita       generation  \n",
              "0          6.71  Albania1987  2,156,624,900             796     Generation X  \n",
              "1          5.19  Albania1987  2,156,624,900             796           Silent  \n",
              "2          4.83  Albania1987  2,156,624,900             796     Generation X  \n",
              "3          4.59  Albania1987  2,156,624,900             796  G.I. Generation  \n",
              "4          3.28  Albania1987  2,156,624,900             796          Boomers  "
            ],
            "text/html": [
              "\n",
              "  <div id=\"df-c09f4ac1-81c0-41f5-8da1-804b5e6bb273\">\n",
              "    <div class=\"colab-df-container\">\n",
              "      <div>\n",
              "<style scoped>\n",
              "    .dataframe tbody tr th:only-of-type {\n",
              "        vertical-align: middle;\n",
              "    }\n",
              "\n",
              "    .dataframe tbody tr th {\n",
              "        vertical-align: top;\n",
              "    }\n",
              "\n",
              "    .dataframe thead th {\n",
              "        text-align: right;\n",
              "    }\n",
              "</style>\n",
              "<table border=\"1\" class=\"dataframe\">\n",
              "  <thead>\n",
              "    <tr style=\"text-align: right;\">\n",
              "      <th></th>\n",
              "      <th>country</th>\n",
              "      <th>year</th>\n",
              "      <th>gender</th>\n",
              "      <th>age_group</th>\n",
              "      <th>suicide_count</th>\n",
              "      <th>population</th>\n",
              "      <th>suicide_rate</th>\n",
              "      <th>country-year</th>\n",
              "      <th>gdp_for_year</th>\n",
              "      <th>gdp_per_capita</th>\n",
              "      <th>generation</th>\n",
              "    </tr>\n",
              "  </thead>\n",
              "  <tbody>\n",
              "    <tr>\n",
              "      <th>0</th>\n",
              "      <td>Albania</td>\n",
              "      <td>1987</td>\n",
              "      <td>male</td>\n",
              "      <td>15-24 years</td>\n",
              "      <td>21</td>\n",
              "      <td>312900</td>\n",
              "      <td>6.71</td>\n",
              "      <td>Albania1987</td>\n",
              "      <td>2,156,624,900</td>\n",
              "      <td>796</td>\n",
              "      <td>Generation X</td>\n",
              "    </tr>\n",
              "    <tr>\n",
              "      <th>1</th>\n",
              "      <td>Albania</td>\n",
              "      <td>1987</td>\n",
              "      <td>male</td>\n",
              "      <td>35-54 years</td>\n",
              "      <td>16</td>\n",
              "      <td>308000</td>\n",
              "      <td>5.19</td>\n",
              "      <td>Albania1987</td>\n",
              "      <td>2,156,624,900</td>\n",
              "      <td>796</td>\n",
              "      <td>Silent</td>\n",
              "    </tr>\n",
              "    <tr>\n",
              "      <th>2</th>\n",
              "      <td>Albania</td>\n",
              "      <td>1987</td>\n",
              "      <td>female</td>\n",
              "      <td>15-24 years</td>\n",
              "      <td>14</td>\n",
              "      <td>289700</td>\n",
              "      <td>4.83</td>\n",
              "      <td>Albania1987</td>\n",
              "      <td>2,156,624,900</td>\n",
              "      <td>796</td>\n",
              "      <td>Generation X</td>\n",
              "    </tr>\n",
              "    <tr>\n",
              "      <th>3</th>\n",
              "      <td>Albania</td>\n",
              "      <td>1987</td>\n",
              "      <td>male</td>\n",
              "      <td>75+ years</td>\n",
              "      <td>1</td>\n",
              "      <td>21800</td>\n",
              "      <td>4.59</td>\n",
              "      <td>Albania1987</td>\n",
              "      <td>2,156,624,900</td>\n",
              "      <td>796</td>\n",
              "      <td>G.I. Generation</td>\n",
              "    </tr>\n",
              "    <tr>\n",
              "      <th>4</th>\n",
              "      <td>Albania</td>\n",
              "      <td>1987</td>\n",
              "      <td>male</td>\n",
              "      <td>25-34 years</td>\n",
              "      <td>9</td>\n",
              "      <td>274300</td>\n",
              "      <td>3.28</td>\n",
              "      <td>Albania1987</td>\n",
              "      <td>2,156,624,900</td>\n",
              "      <td>796</td>\n",
              "      <td>Boomers</td>\n",
              "    </tr>\n",
              "  </tbody>\n",
              "</table>\n",
              "</div>\n",
              "      <button class=\"colab-df-convert\" onclick=\"convertToInteractive('df-c09f4ac1-81c0-41f5-8da1-804b5e6bb273')\"\n",
              "              title=\"Convert this dataframe to an interactive table.\"\n",
              "              style=\"display:none;\">\n",
              "        \n",
              "  <svg xmlns=\"http://www.w3.org/2000/svg\" height=\"24px\"viewBox=\"0 0 24 24\"\n",
              "       width=\"24px\">\n",
              "    <path d=\"M0 0h24v24H0V0z\" fill=\"none\"/>\n",
              "    <path d=\"M18.56 5.44l.94 2.06.94-2.06 2.06-.94-2.06-.94-.94-2.06-.94 2.06-2.06.94zm-11 1L8.5 8.5l.94-2.06 2.06-.94-2.06-.94L8.5 2.5l-.94 2.06-2.06.94zm10 10l.94 2.06.94-2.06 2.06-.94-2.06-.94-.94-2.06-.94 2.06-2.06.94z\"/><path d=\"M17.41 7.96l-1.37-1.37c-.4-.4-.92-.59-1.43-.59-.52 0-1.04.2-1.43.59L10.3 9.45l-7.72 7.72c-.78.78-.78 2.05 0 2.83L4 21.41c.39.39.9.59 1.41.59.51 0 1.02-.2 1.41-.59l7.78-7.78 2.81-2.81c.8-.78.8-2.07 0-2.86zM5.41 20L4 18.59l7.72-7.72 1.47 1.35L5.41 20z\"/>\n",
              "  </svg>\n",
              "      </button>\n",
              "      \n",
              "  <style>\n",
              "    .colab-df-container {\n",
              "      display:flex;\n",
              "      flex-wrap:wrap;\n",
              "      gap: 12px;\n",
              "    }\n",
              "\n",
              "    .colab-df-convert {\n",
              "      background-color: #E8F0FE;\n",
              "      border: none;\n",
              "      border-radius: 50%;\n",
              "      cursor: pointer;\n",
              "      display: none;\n",
              "      fill: #1967D2;\n",
              "      height: 32px;\n",
              "      padding: 0 0 0 0;\n",
              "      width: 32px;\n",
              "    }\n",
              "\n",
              "    .colab-df-convert:hover {\n",
              "      background-color: #E2EBFA;\n",
              "      box-shadow: 0px 1px 2px rgba(60, 64, 67, 0.3), 0px 1px 3px 1px rgba(60, 64, 67, 0.15);\n",
              "      fill: #174EA6;\n",
              "    }\n",
              "\n",
              "    [theme=dark] .colab-df-convert {\n",
              "      background-color: #3B4455;\n",
              "      fill: #D2E3FC;\n",
              "    }\n",
              "\n",
              "    [theme=dark] .colab-df-convert:hover {\n",
              "      background-color: #434B5C;\n",
              "      box-shadow: 0px 1px 3px 1px rgba(0, 0, 0, 0.15);\n",
              "      filter: drop-shadow(0px 1px 2px rgba(0, 0, 0, 0.3));\n",
              "      fill: #FFFFFF;\n",
              "    }\n",
              "  </style>\n",
              "\n",
              "      <script>\n",
              "        const buttonEl =\n",
              "          document.querySelector('#df-c09f4ac1-81c0-41f5-8da1-804b5e6bb273 button.colab-df-convert');\n",
              "        buttonEl.style.display =\n",
              "          google.colab.kernel.accessAllowed ? 'block' : 'none';\n",
              "\n",
              "        async function convertToInteractive(key) {\n",
              "          const element = document.querySelector('#df-c09f4ac1-81c0-41f5-8da1-804b5e6bb273');\n",
              "          const dataTable =\n",
              "            await google.colab.kernel.invokeFunction('convertToInteractive',\n",
              "                                                     [key], {});\n",
              "          if (!dataTable) return;\n",
              "\n",
              "          const docLinkHtml = 'Like what you see? Visit the ' +\n",
              "            '<a target=\"_blank\" href=https://colab.research.google.com/notebooks/data_table.ipynb>data table notebook</a>'\n",
              "            + ' to learn more about interactive tables.';\n",
              "          element.innerHTML = '';\n",
              "          dataTable['output_type'] = 'display_data';\n",
              "          await google.colab.output.renderOutput(dataTable, element);\n",
              "          const docLink = document.createElement('div');\n",
              "          docLink.innerHTML = docLinkHtml;\n",
              "          element.appendChild(docLink);\n",
              "        }\n",
              "      </script>\n",
              "    </div>\n",
              "  </div>\n",
              "  "
            ]
          },
          "metadata": {},
          "execution_count": 22
        }
      ]
    },
    {
      "cell_type": "code",
      "source": [
        "# a coluna countr-year eh apenas uma juncao do pais com o ano, nao sera util para nosso estudo, entao vamos remove-la do dataframe\n",
        "\n",
        "df = df.drop([\"country-year\"], axis=1)\n",
        "\n",
        "df.head()"
      ],
      "metadata": {
        "colab": {
          "base_uri": "https://localhost:8080/",
          "height": 288
        },
        "id": "7HJkEe8VKzZ4",
        "outputId": "ba2435ee-92ee-4131-9e8d-0762f50d1219"
      },
      "execution_count": 23,
      "outputs": [
        {
          "output_type": "execute_result",
          "data": {
            "text/plain": [
              "   country  year  gender    age_group  suicide_count  population  \\\n",
              "0  Albania  1987    male  15-24 years             21      312900   \n",
              "1  Albania  1987    male  35-54 years             16      308000   \n",
              "2  Albania  1987  female  15-24 years             14      289700   \n",
              "3  Albania  1987    male    75+ years              1       21800   \n",
              "4  Albania  1987    male  25-34 years              9      274300   \n",
              "\n",
              "   suicide_rate   gdp_for_year  gdp_per_capita       generation  \n",
              "0          6.71  2,156,624,900             796     Generation X  \n",
              "1          5.19  2,156,624,900             796           Silent  \n",
              "2          4.83  2,156,624,900             796     Generation X  \n",
              "3          4.59  2,156,624,900             796  G.I. Generation  \n",
              "4          3.28  2,156,624,900             796          Boomers  "
            ],
            "text/html": [
              "\n",
              "  <div id=\"df-f26769a5-e9d0-48b8-9abf-9251abd7df4b\">\n",
              "    <div class=\"colab-df-container\">\n",
              "      <div>\n",
              "<style scoped>\n",
              "    .dataframe tbody tr th:only-of-type {\n",
              "        vertical-align: middle;\n",
              "    }\n",
              "\n",
              "    .dataframe tbody tr th {\n",
              "        vertical-align: top;\n",
              "    }\n",
              "\n",
              "    .dataframe thead th {\n",
              "        text-align: right;\n",
              "    }\n",
              "</style>\n",
              "<table border=\"1\" class=\"dataframe\">\n",
              "  <thead>\n",
              "    <tr style=\"text-align: right;\">\n",
              "      <th></th>\n",
              "      <th>country</th>\n",
              "      <th>year</th>\n",
              "      <th>gender</th>\n",
              "      <th>age_group</th>\n",
              "      <th>suicide_count</th>\n",
              "      <th>population</th>\n",
              "      <th>suicide_rate</th>\n",
              "      <th>gdp_for_year</th>\n",
              "      <th>gdp_per_capita</th>\n",
              "      <th>generation</th>\n",
              "    </tr>\n",
              "  </thead>\n",
              "  <tbody>\n",
              "    <tr>\n",
              "      <th>0</th>\n",
              "      <td>Albania</td>\n",
              "      <td>1987</td>\n",
              "      <td>male</td>\n",
              "      <td>15-24 years</td>\n",
              "      <td>21</td>\n",
              "      <td>312900</td>\n",
              "      <td>6.71</td>\n",
              "      <td>2,156,624,900</td>\n",
              "      <td>796</td>\n",
              "      <td>Generation X</td>\n",
              "    </tr>\n",
              "    <tr>\n",
              "      <th>1</th>\n",
              "      <td>Albania</td>\n",
              "      <td>1987</td>\n",
              "      <td>male</td>\n",
              "      <td>35-54 years</td>\n",
              "      <td>16</td>\n",
              "      <td>308000</td>\n",
              "      <td>5.19</td>\n",
              "      <td>2,156,624,900</td>\n",
              "      <td>796</td>\n",
              "      <td>Silent</td>\n",
              "    </tr>\n",
              "    <tr>\n",
              "      <th>2</th>\n",
              "      <td>Albania</td>\n",
              "      <td>1987</td>\n",
              "      <td>female</td>\n",
              "      <td>15-24 years</td>\n",
              "      <td>14</td>\n",
              "      <td>289700</td>\n",
              "      <td>4.83</td>\n",
              "      <td>2,156,624,900</td>\n",
              "      <td>796</td>\n",
              "      <td>Generation X</td>\n",
              "    </tr>\n",
              "    <tr>\n",
              "      <th>3</th>\n",
              "      <td>Albania</td>\n",
              "      <td>1987</td>\n",
              "      <td>male</td>\n",
              "      <td>75+ years</td>\n",
              "      <td>1</td>\n",
              "      <td>21800</td>\n",
              "      <td>4.59</td>\n",
              "      <td>2,156,624,900</td>\n",
              "      <td>796</td>\n",
              "      <td>G.I. Generation</td>\n",
              "    </tr>\n",
              "    <tr>\n",
              "      <th>4</th>\n",
              "      <td>Albania</td>\n",
              "      <td>1987</td>\n",
              "      <td>male</td>\n",
              "      <td>25-34 years</td>\n",
              "      <td>9</td>\n",
              "      <td>274300</td>\n",
              "      <td>3.28</td>\n",
              "      <td>2,156,624,900</td>\n",
              "      <td>796</td>\n",
              "      <td>Boomers</td>\n",
              "    </tr>\n",
              "  </tbody>\n",
              "</table>\n",
              "</div>\n",
              "      <button class=\"colab-df-convert\" onclick=\"convertToInteractive('df-f26769a5-e9d0-48b8-9abf-9251abd7df4b')\"\n",
              "              title=\"Convert this dataframe to an interactive table.\"\n",
              "              style=\"display:none;\">\n",
              "        \n",
              "  <svg xmlns=\"http://www.w3.org/2000/svg\" height=\"24px\"viewBox=\"0 0 24 24\"\n",
              "       width=\"24px\">\n",
              "    <path d=\"M0 0h24v24H0V0z\" fill=\"none\"/>\n",
              "    <path d=\"M18.56 5.44l.94 2.06.94-2.06 2.06-.94-2.06-.94-.94-2.06-.94 2.06-2.06.94zm-11 1L8.5 8.5l.94-2.06 2.06-.94-2.06-.94L8.5 2.5l-.94 2.06-2.06.94zm10 10l.94 2.06.94-2.06 2.06-.94-2.06-.94-.94-2.06-.94 2.06-2.06.94z\"/><path d=\"M17.41 7.96l-1.37-1.37c-.4-.4-.92-.59-1.43-.59-.52 0-1.04.2-1.43.59L10.3 9.45l-7.72 7.72c-.78.78-.78 2.05 0 2.83L4 21.41c.39.39.9.59 1.41.59.51 0 1.02-.2 1.41-.59l7.78-7.78 2.81-2.81c.8-.78.8-2.07 0-2.86zM5.41 20L4 18.59l7.72-7.72 1.47 1.35L5.41 20z\"/>\n",
              "  </svg>\n",
              "      </button>\n",
              "      \n",
              "  <style>\n",
              "    .colab-df-container {\n",
              "      display:flex;\n",
              "      flex-wrap:wrap;\n",
              "      gap: 12px;\n",
              "    }\n",
              "\n",
              "    .colab-df-convert {\n",
              "      background-color: #E8F0FE;\n",
              "      border: none;\n",
              "      border-radius: 50%;\n",
              "      cursor: pointer;\n",
              "      display: none;\n",
              "      fill: #1967D2;\n",
              "      height: 32px;\n",
              "      padding: 0 0 0 0;\n",
              "      width: 32px;\n",
              "    }\n",
              "\n",
              "    .colab-df-convert:hover {\n",
              "      background-color: #E2EBFA;\n",
              "      box-shadow: 0px 1px 2px rgba(60, 64, 67, 0.3), 0px 1px 3px 1px rgba(60, 64, 67, 0.15);\n",
              "      fill: #174EA6;\n",
              "    }\n",
              "\n",
              "    [theme=dark] .colab-df-convert {\n",
              "      background-color: #3B4455;\n",
              "      fill: #D2E3FC;\n",
              "    }\n",
              "\n",
              "    [theme=dark] .colab-df-convert:hover {\n",
              "      background-color: #434B5C;\n",
              "      box-shadow: 0px 1px 3px 1px rgba(0, 0, 0, 0.15);\n",
              "      filter: drop-shadow(0px 1px 2px rgba(0, 0, 0, 0.3));\n",
              "      fill: #FFFFFF;\n",
              "    }\n",
              "  </style>\n",
              "\n",
              "      <script>\n",
              "        const buttonEl =\n",
              "          document.querySelector('#df-f26769a5-e9d0-48b8-9abf-9251abd7df4b button.colab-df-convert');\n",
              "        buttonEl.style.display =\n",
              "          google.colab.kernel.accessAllowed ? 'block' : 'none';\n",
              "\n",
              "        async function convertToInteractive(key) {\n",
              "          const element = document.querySelector('#df-f26769a5-e9d0-48b8-9abf-9251abd7df4b');\n",
              "          const dataTable =\n",
              "            await google.colab.kernel.invokeFunction('convertToInteractive',\n",
              "                                                     [key], {});\n",
              "          if (!dataTable) return;\n",
              "\n",
              "          const docLinkHtml = 'Like what you see? Visit the ' +\n",
              "            '<a target=\"_blank\" href=https://colab.research.google.com/notebooks/data_table.ipynb>data table notebook</a>'\n",
              "            + ' to learn more about interactive tables.';\n",
              "          element.innerHTML = '';\n",
              "          dataTable['output_type'] = 'display_data';\n",
              "          await google.colab.output.renderOutput(dataTable, element);\n",
              "          const docLink = document.createElement('div');\n",
              "          docLink.innerHTML = docLinkHtml;\n",
              "          element.appendChild(docLink);\n",
              "        }\n",
              "      </script>\n",
              "    </div>\n",
              "  </div>\n",
              "  "
            ]
          },
          "metadata": {},
          "execution_count": 23
        }
      ]
    },
    {
      "cell_type": "code",
      "source": [
        "# Agora temos nenhuma linha com dados inconsistentes\n",
        "\n",
        "df.isnull().sum()"
      ],
      "metadata": {
        "colab": {
          "base_uri": "https://localhost:8080/"
        },
        "id": "eSPm3A-RLGyZ",
        "outputId": "cab676f9-edb3-4a1f-d931-b4682fa3cf45"
      },
      "execution_count": 24,
      "outputs": [
        {
          "output_type": "execute_result",
          "data": {
            "text/plain": [
              "country           0\n",
              "year              0\n",
              "gender            0\n",
              "age_group         0\n",
              "suicide_count     0\n",
              "population        0\n",
              "suicide_rate      0\n",
              "gdp_for_year      0\n",
              "gdp_per_capita    0\n",
              "generation        0\n",
              "dtype: int64"
            ]
          },
          "metadata": {},
          "execution_count": 24
        }
      ]
    },
    {
      "cell_type": "markdown",
      "source": [
        "## Transformando as celulas de dados categoricos em numeros (label enconding)"
      ],
      "metadata": {
        "id": "WrRELvLTLRkX"
      }
    },
    {
      "cell_type": "code",
      "source": [
        "# copiando o dataset antes de fazer o encoder para fins de comparacao\n",
        "\n",
        "clean_dataset = df.copy()\n",
        "clean_dataset"
      ],
      "metadata": {
        "colab": {
          "base_uri": "https://localhost:8080/",
          "height": 505
        },
        "id": "mVpuJRwgAsgs",
        "outputId": "21d1f212-f29b-4c2a-bea5-36780545d3b0"
      },
      "execution_count": 25,
      "outputs": [
        {
          "output_type": "execute_result",
          "data": {
            "text/plain": [
              "          country  year  gender    age_group  suicide_count  population  \\\n",
              "0         Albania  1987    male  15-24 years             21      312900   \n",
              "1         Albania  1987    male  35-54 years             16      308000   \n",
              "2         Albania  1987  female  15-24 years             14      289700   \n",
              "3         Albania  1987    male    75+ years              1       21800   \n",
              "4         Albania  1987    male  25-34 years              9      274300   \n",
              "...           ...   ...     ...          ...            ...         ...   \n",
              "27815  Uzbekistan  2014  female  35-54 years            107     3620833   \n",
              "27816  Uzbekistan  2014  female    75+ years              9      348465   \n",
              "27817  Uzbekistan  2014    male   5-14 years             60     2762158   \n",
              "27818  Uzbekistan  2014  female   5-14 years             44     2631600   \n",
              "27819  Uzbekistan  2014  female  55-74 years             21     1438935   \n",
              "\n",
              "       suicide_rate    gdp_for_year  gdp_per_capita       generation  \n",
              "0              6.71   2,156,624,900             796     Generation X  \n",
              "1              5.19   2,156,624,900             796           Silent  \n",
              "2              4.83   2,156,624,900             796     Generation X  \n",
              "3              4.59   2,156,624,900             796  G.I. Generation  \n",
              "4              3.28   2,156,624,900             796          Boomers  \n",
              "...             ...             ...             ...              ...  \n",
              "27815          2.96  63,067,077,179            2309     Generation X  \n",
              "27816          2.58  63,067,077,179            2309           Silent  \n",
              "27817          2.17  63,067,077,179            2309     Generation Z  \n",
              "27818          1.67  63,067,077,179            2309     Generation Z  \n",
              "27819          1.46  63,067,077,179            2309          Boomers  \n",
              "\n",
              "[27820 rows x 10 columns]"
            ],
            "text/html": [
              "\n",
              "  <div id=\"df-a2d7c694-75db-43cc-9abe-d8fde072a4b5\">\n",
              "    <div class=\"colab-df-container\">\n",
              "      <div>\n",
              "<style scoped>\n",
              "    .dataframe tbody tr th:only-of-type {\n",
              "        vertical-align: middle;\n",
              "    }\n",
              "\n",
              "    .dataframe tbody tr th {\n",
              "        vertical-align: top;\n",
              "    }\n",
              "\n",
              "    .dataframe thead th {\n",
              "        text-align: right;\n",
              "    }\n",
              "</style>\n",
              "<table border=\"1\" class=\"dataframe\">\n",
              "  <thead>\n",
              "    <tr style=\"text-align: right;\">\n",
              "      <th></th>\n",
              "      <th>country</th>\n",
              "      <th>year</th>\n",
              "      <th>gender</th>\n",
              "      <th>age_group</th>\n",
              "      <th>suicide_count</th>\n",
              "      <th>population</th>\n",
              "      <th>suicide_rate</th>\n",
              "      <th>gdp_for_year</th>\n",
              "      <th>gdp_per_capita</th>\n",
              "      <th>generation</th>\n",
              "    </tr>\n",
              "  </thead>\n",
              "  <tbody>\n",
              "    <tr>\n",
              "      <th>0</th>\n",
              "      <td>Albania</td>\n",
              "      <td>1987</td>\n",
              "      <td>male</td>\n",
              "      <td>15-24 years</td>\n",
              "      <td>21</td>\n",
              "      <td>312900</td>\n",
              "      <td>6.71</td>\n",
              "      <td>2,156,624,900</td>\n",
              "      <td>796</td>\n",
              "      <td>Generation X</td>\n",
              "    </tr>\n",
              "    <tr>\n",
              "      <th>1</th>\n",
              "      <td>Albania</td>\n",
              "      <td>1987</td>\n",
              "      <td>male</td>\n",
              "      <td>35-54 years</td>\n",
              "      <td>16</td>\n",
              "      <td>308000</td>\n",
              "      <td>5.19</td>\n",
              "      <td>2,156,624,900</td>\n",
              "      <td>796</td>\n",
              "      <td>Silent</td>\n",
              "    </tr>\n",
              "    <tr>\n",
              "      <th>2</th>\n",
              "      <td>Albania</td>\n",
              "      <td>1987</td>\n",
              "      <td>female</td>\n",
              "      <td>15-24 years</td>\n",
              "      <td>14</td>\n",
              "      <td>289700</td>\n",
              "      <td>4.83</td>\n",
              "      <td>2,156,624,900</td>\n",
              "      <td>796</td>\n",
              "      <td>Generation X</td>\n",
              "    </tr>\n",
              "    <tr>\n",
              "      <th>3</th>\n",
              "      <td>Albania</td>\n",
              "      <td>1987</td>\n",
              "      <td>male</td>\n",
              "      <td>75+ years</td>\n",
              "      <td>1</td>\n",
              "      <td>21800</td>\n",
              "      <td>4.59</td>\n",
              "      <td>2,156,624,900</td>\n",
              "      <td>796</td>\n",
              "      <td>G.I. Generation</td>\n",
              "    </tr>\n",
              "    <tr>\n",
              "      <th>4</th>\n",
              "      <td>Albania</td>\n",
              "      <td>1987</td>\n",
              "      <td>male</td>\n",
              "      <td>25-34 years</td>\n",
              "      <td>9</td>\n",
              "      <td>274300</td>\n",
              "      <td>3.28</td>\n",
              "      <td>2,156,624,900</td>\n",
              "      <td>796</td>\n",
              "      <td>Boomers</td>\n",
              "    </tr>\n",
              "    <tr>\n",
              "      <th>...</th>\n",
              "      <td>...</td>\n",
              "      <td>...</td>\n",
              "      <td>...</td>\n",
              "      <td>...</td>\n",
              "      <td>...</td>\n",
              "      <td>...</td>\n",
              "      <td>...</td>\n",
              "      <td>...</td>\n",
              "      <td>...</td>\n",
              "      <td>...</td>\n",
              "    </tr>\n",
              "    <tr>\n",
              "      <th>27815</th>\n",
              "      <td>Uzbekistan</td>\n",
              "      <td>2014</td>\n",
              "      <td>female</td>\n",
              "      <td>35-54 years</td>\n",
              "      <td>107</td>\n",
              "      <td>3620833</td>\n",
              "      <td>2.96</td>\n",
              "      <td>63,067,077,179</td>\n",
              "      <td>2309</td>\n",
              "      <td>Generation X</td>\n",
              "    </tr>\n",
              "    <tr>\n",
              "      <th>27816</th>\n",
              "      <td>Uzbekistan</td>\n",
              "      <td>2014</td>\n",
              "      <td>female</td>\n",
              "      <td>75+ years</td>\n",
              "      <td>9</td>\n",
              "      <td>348465</td>\n",
              "      <td>2.58</td>\n",
              "      <td>63,067,077,179</td>\n",
              "      <td>2309</td>\n",
              "      <td>Silent</td>\n",
              "    </tr>\n",
              "    <tr>\n",
              "      <th>27817</th>\n",
              "      <td>Uzbekistan</td>\n",
              "      <td>2014</td>\n",
              "      <td>male</td>\n",
              "      <td>5-14 years</td>\n",
              "      <td>60</td>\n",
              "      <td>2762158</td>\n",
              "      <td>2.17</td>\n",
              "      <td>63,067,077,179</td>\n",
              "      <td>2309</td>\n",
              "      <td>Generation Z</td>\n",
              "    </tr>\n",
              "    <tr>\n",
              "      <th>27818</th>\n",
              "      <td>Uzbekistan</td>\n",
              "      <td>2014</td>\n",
              "      <td>female</td>\n",
              "      <td>5-14 years</td>\n",
              "      <td>44</td>\n",
              "      <td>2631600</td>\n",
              "      <td>1.67</td>\n",
              "      <td>63,067,077,179</td>\n",
              "      <td>2309</td>\n",
              "      <td>Generation Z</td>\n",
              "    </tr>\n",
              "    <tr>\n",
              "      <th>27819</th>\n",
              "      <td>Uzbekistan</td>\n",
              "      <td>2014</td>\n",
              "      <td>female</td>\n",
              "      <td>55-74 years</td>\n",
              "      <td>21</td>\n",
              "      <td>1438935</td>\n",
              "      <td>1.46</td>\n",
              "      <td>63,067,077,179</td>\n",
              "      <td>2309</td>\n",
              "      <td>Boomers</td>\n",
              "    </tr>\n",
              "  </tbody>\n",
              "</table>\n",
              "<p>27820 rows × 10 columns</p>\n",
              "</div>\n",
              "      <button class=\"colab-df-convert\" onclick=\"convertToInteractive('df-a2d7c694-75db-43cc-9abe-d8fde072a4b5')\"\n",
              "              title=\"Convert this dataframe to an interactive table.\"\n",
              "              style=\"display:none;\">\n",
              "        \n",
              "  <svg xmlns=\"http://www.w3.org/2000/svg\" height=\"24px\"viewBox=\"0 0 24 24\"\n",
              "       width=\"24px\">\n",
              "    <path d=\"M0 0h24v24H0V0z\" fill=\"none\"/>\n",
              "    <path d=\"M18.56 5.44l.94 2.06.94-2.06 2.06-.94-2.06-.94-.94-2.06-.94 2.06-2.06.94zm-11 1L8.5 8.5l.94-2.06 2.06-.94-2.06-.94L8.5 2.5l-.94 2.06-2.06.94zm10 10l.94 2.06.94-2.06 2.06-.94-2.06-.94-.94-2.06-.94 2.06-2.06.94z\"/><path d=\"M17.41 7.96l-1.37-1.37c-.4-.4-.92-.59-1.43-.59-.52 0-1.04.2-1.43.59L10.3 9.45l-7.72 7.72c-.78.78-.78 2.05 0 2.83L4 21.41c.39.39.9.59 1.41.59.51 0 1.02-.2 1.41-.59l7.78-7.78 2.81-2.81c.8-.78.8-2.07 0-2.86zM5.41 20L4 18.59l7.72-7.72 1.47 1.35L5.41 20z\"/>\n",
              "  </svg>\n",
              "      </button>\n",
              "      \n",
              "  <style>\n",
              "    .colab-df-container {\n",
              "      display:flex;\n",
              "      flex-wrap:wrap;\n",
              "      gap: 12px;\n",
              "    }\n",
              "\n",
              "    .colab-df-convert {\n",
              "      background-color: #E8F0FE;\n",
              "      border: none;\n",
              "      border-radius: 50%;\n",
              "      cursor: pointer;\n",
              "      display: none;\n",
              "      fill: #1967D2;\n",
              "      height: 32px;\n",
              "      padding: 0 0 0 0;\n",
              "      width: 32px;\n",
              "    }\n",
              "\n",
              "    .colab-df-convert:hover {\n",
              "      background-color: #E2EBFA;\n",
              "      box-shadow: 0px 1px 2px rgba(60, 64, 67, 0.3), 0px 1px 3px 1px rgba(60, 64, 67, 0.15);\n",
              "      fill: #174EA6;\n",
              "    }\n",
              "\n",
              "    [theme=dark] .colab-df-convert {\n",
              "      background-color: #3B4455;\n",
              "      fill: #D2E3FC;\n",
              "    }\n",
              "\n",
              "    [theme=dark] .colab-df-convert:hover {\n",
              "      background-color: #434B5C;\n",
              "      box-shadow: 0px 1px 3px 1px rgba(0, 0, 0, 0.15);\n",
              "      filter: drop-shadow(0px 1px 2px rgba(0, 0, 0, 0.3));\n",
              "      fill: #FFFFFF;\n",
              "    }\n",
              "  </style>\n",
              "\n",
              "      <script>\n",
              "        const buttonEl =\n",
              "          document.querySelector('#df-a2d7c694-75db-43cc-9abe-d8fde072a4b5 button.colab-df-convert');\n",
              "        buttonEl.style.display =\n",
              "          google.colab.kernel.accessAllowed ? 'block' : 'none';\n",
              "\n",
              "        async function convertToInteractive(key) {\n",
              "          const element = document.querySelector('#df-a2d7c694-75db-43cc-9abe-d8fde072a4b5');\n",
              "          const dataTable =\n",
              "            await google.colab.kernel.invokeFunction('convertToInteractive',\n",
              "                                                     [key], {});\n",
              "          if (!dataTable) return;\n",
              "\n",
              "          const docLinkHtml = 'Like what you see? Visit the ' +\n",
              "            '<a target=\"_blank\" href=https://colab.research.google.com/notebooks/data_table.ipynb>data table notebook</a>'\n",
              "            + ' to learn more about interactive tables.';\n",
              "          element.innerHTML = '';\n",
              "          dataTable['output_type'] = 'display_data';\n",
              "          await google.colab.output.renderOutput(dataTable, element);\n",
              "          const docLink = document.createElement('div');\n",
              "          docLink.innerHTML = docLinkHtml;\n",
              "          element.appendChild(docLink);\n",
              "        }\n",
              "      </script>\n",
              "    </div>\n",
              "  </div>\n",
              "  "
            ]
          },
          "metadata": {},
          "execution_count": 25
        }
      ]
    },
    {
      "cell_type": "code",
      "source": [
        "\n",
        "from sklearn.preprocessing import LabelEncoder\n",
        "categorical = ['country', 'year','age_group', 'gender', 'generation']\n",
        "le = LabelEncoder()\n",
        "\n",
        "for column in categorical:\n",
        "    df[column] = le.fit_transform(df[column])\n",
        "\n",
        "df.head()"
      ],
      "metadata": {
        "colab": {
          "base_uri": "https://localhost:8080/",
          "height": 270
        },
        "id": "SF8gtK51Lcg5",
        "outputId": "c79ab223-db8a-4b71-971f-54bb44479aed"
      },
      "execution_count": 26,
      "outputs": [
        {
          "output_type": "execute_result",
          "data": {
            "text/plain": [
              "   country  year  gender  age_group  suicide_count  population  suicide_rate  \\\n",
              "0        0     2       1          0             21      312900          6.71   \n",
              "1        0     2       1          2             16      308000          5.19   \n",
              "2        0     2       0          0             14      289700          4.83   \n",
              "3        0     2       1          5              1       21800          4.59   \n",
              "4        0     2       1          1              9      274300          3.28   \n",
              "\n",
              "    gdp_for_year  gdp_per_capita  generation  \n",
              "0  2,156,624,900             796           2  \n",
              "1  2,156,624,900             796           5  \n",
              "2  2,156,624,900             796           2  \n",
              "3  2,156,624,900             796           1  \n",
              "4  2,156,624,900             796           0  "
            ],
            "text/html": [
              "\n",
              "  <div id=\"df-ec7797b1-1929-42a1-8b90-0a89371e1bdd\">\n",
              "    <div class=\"colab-df-container\">\n",
              "      <div>\n",
              "<style scoped>\n",
              "    .dataframe tbody tr th:only-of-type {\n",
              "        vertical-align: middle;\n",
              "    }\n",
              "\n",
              "    .dataframe tbody tr th {\n",
              "        vertical-align: top;\n",
              "    }\n",
              "\n",
              "    .dataframe thead th {\n",
              "        text-align: right;\n",
              "    }\n",
              "</style>\n",
              "<table border=\"1\" class=\"dataframe\">\n",
              "  <thead>\n",
              "    <tr style=\"text-align: right;\">\n",
              "      <th></th>\n",
              "      <th>country</th>\n",
              "      <th>year</th>\n",
              "      <th>gender</th>\n",
              "      <th>age_group</th>\n",
              "      <th>suicide_count</th>\n",
              "      <th>population</th>\n",
              "      <th>suicide_rate</th>\n",
              "      <th>gdp_for_year</th>\n",
              "      <th>gdp_per_capita</th>\n",
              "      <th>generation</th>\n",
              "    </tr>\n",
              "  </thead>\n",
              "  <tbody>\n",
              "    <tr>\n",
              "      <th>0</th>\n",
              "      <td>0</td>\n",
              "      <td>2</td>\n",
              "      <td>1</td>\n",
              "      <td>0</td>\n",
              "      <td>21</td>\n",
              "      <td>312900</td>\n",
              "      <td>6.71</td>\n",
              "      <td>2,156,624,900</td>\n",
              "      <td>796</td>\n",
              "      <td>2</td>\n",
              "    </tr>\n",
              "    <tr>\n",
              "      <th>1</th>\n",
              "      <td>0</td>\n",
              "      <td>2</td>\n",
              "      <td>1</td>\n",
              "      <td>2</td>\n",
              "      <td>16</td>\n",
              "      <td>308000</td>\n",
              "      <td>5.19</td>\n",
              "      <td>2,156,624,900</td>\n",
              "      <td>796</td>\n",
              "      <td>5</td>\n",
              "    </tr>\n",
              "    <tr>\n",
              "      <th>2</th>\n",
              "      <td>0</td>\n",
              "      <td>2</td>\n",
              "      <td>0</td>\n",
              "      <td>0</td>\n",
              "      <td>14</td>\n",
              "      <td>289700</td>\n",
              "      <td>4.83</td>\n",
              "      <td>2,156,624,900</td>\n",
              "      <td>796</td>\n",
              "      <td>2</td>\n",
              "    </tr>\n",
              "    <tr>\n",
              "      <th>3</th>\n",
              "      <td>0</td>\n",
              "      <td>2</td>\n",
              "      <td>1</td>\n",
              "      <td>5</td>\n",
              "      <td>1</td>\n",
              "      <td>21800</td>\n",
              "      <td>4.59</td>\n",
              "      <td>2,156,624,900</td>\n",
              "      <td>796</td>\n",
              "      <td>1</td>\n",
              "    </tr>\n",
              "    <tr>\n",
              "      <th>4</th>\n",
              "      <td>0</td>\n",
              "      <td>2</td>\n",
              "      <td>1</td>\n",
              "      <td>1</td>\n",
              "      <td>9</td>\n",
              "      <td>274300</td>\n",
              "      <td>3.28</td>\n",
              "      <td>2,156,624,900</td>\n",
              "      <td>796</td>\n",
              "      <td>0</td>\n",
              "    </tr>\n",
              "  </tbody>\n",
              "</table>\n",
              "</div>\n",
              "      <button class=\"colab-df-convert\" onclick=\"convertToInteractive('df-ec7797b1-1929-42a1-8b90-0a89371e1bdd')\"\n",
              "              title=\"Convert this dataframe to an interactive table.\"\n",
              "              style=\"display:none;\">\n",
              "        \n",
              "  <svg xmlns=\"http://www.w3.org/2000/svg\" height=\"24px\"viewBox=\"0 0 24 24\"\n",
              "       width=\"24px\">\n",
              "    <path d=\"M0 0h24v24H0V0z\" fill=\"none\"/>\n",
              "    <path d=\"M18.56 5.44l.94 2.06.94-2.06 2.06-.94-2.06-.94-.94-2.06-.94 2.06-2.06.94zm-11 1L8.5 8.5l.94-2.06 2.06-.94-2.06-.94L8.5 2.5l-.94 2.06-2.06.94zm10 10l.94 2.06.94-2.06 2.06-.94-2.06-.94-.94-2.06-.94 2.06-2.06.94z\"/><path d=\"M17.41 7.96l-1.37-1.37c-.4-.4-.92-.59-1.43-.59-.52 0-1.04.2-1.43.59L10.3 9.45l-7.72 7.72c-.78.78-.78 2.05 0 2.83L4 21.41c.39.39.9.59 1.41.59.51 0 1.02-.2 1.41-.59l7.78-7.78 2.81-2.81c.8-.78.8-2.07 0-2.86zM5.41 20L4 18.59l7.72-7.72 1.47 1.35L5.41 20z\"/>\n",
              "  </svg>\n",
              "      </button>\n",
              "      \n",
              "  <style>\n",
              "    .colab-df-container {\n",
              "      display:flex;\n",
              "      flex-wrap:wrap;\n",
              "      gap: 12px;\n",
              "    }\n",
              "\n",
              "    .colab-df-convert {\n",
              "      background-color: #E8F0FE;\n",
              "      border: none;\n",
              "      border-radius: 50%;\n",
              "      cursor: pointer;\n",
              "      display: none;\n",
              "      fill: #1967D2;\n",
              "      height: 32px;\n",
              "      padding: 0 0 0 0;\n",
              "      width: 32px;\n",
              "    }\n",
              "\n",
              "    .colab-df-convert:hover {\n",
              "      background-color: #E2EBFA;\n",
              "      box-shadow: 0px 1px 2px rgba(60, 64, 67, 0.3), 0px 1px 3px 1px rgba(60, 64, 67, 0.15);\n",
              "      fill: #174EA6;\n",
              "    }\n",
              "\n",
              "    [theme=dark] .colab-df-convert {\n",
              "      background-color: #3B4455;\n",
              "      fill: #D2E3FC;\n",
              "    }\n",
              "\n",
              "    [theme=dark] .colab-df-convert:hover {\n",
              "      background-color: #434B5C;\n",
              "      box-shadow: 0px 1px 3px 1px rgba(0, 0, 0, 0.15);\n",
              "      filter: drop-shadow(0px 1px 2px rgba(0, 0, 0, 0.3));\n",
              "      fill: #FFFFFF;\n",
              "    }\n",
              "  </style>\n",
              "\n",
              "      <script>\n",
              "        const buttonEl =\n",
              "          document.querySelector('#df-ec7797b1-1929-42a1-8b90-0a89371e1bdd button.colab-df-convert');\n",
              "        buttonEl.style.display =\n",
              "          google.colab.kernel.accessAllowed ? 'block' : 'none';\n",
              "\n",
              "        async function convertToInteractive(key) {\n",
              "          const element = document.querySelector('#df-ec7797b1-1929-42a1-8b90-0a89371e1bdd');\n",
              "          const dataTable =\n",
              "            await google.colab.kernel.invokeFunction('convertToInteractive',\n",
              "                                                     [key], {});\n",
              "          if (!dataTable) return;\n",
              "\n",
              "          const docLinkHtml = 'Like what you see? Visit the ' +\n",
              "            '<a target=\"_blank\" href=https://colab.research.google.com/notebooks/data_table.ipynb>data table notebook</a>'\n",
              "            + ' to learn more about interactive tables.';\n",
              "          element.innerHTML = '';\n",
              "          dataTable['output_type'] = 'display_data';\n",
              "          await google.colab.output.renderOutput(dataTable, element);\n",
              "          const docLink = document.createElement('div');\n",
              "          docLink.innerHTML = docLinkHtml;\n",
              "          element.appendChild(docLink);\n",
              "        }\n",
              "      </script>\n",
              "    </div>\n",
              "  </div>\n",
              "  "
            ]
          },
          "metadata": {},
          "execution_count": 26
        }
      ]
    },
    {
      "cell_type": "code",
      "source": [
        "# Convertendo a columa de string para float\n",
        "\n",
        "df['gdp_for_year'] = df['gdp_for_year'].str.replace(',','').astype(float)\n"
      ],
      "metadata": {
        "id": "S66r90qeLtdG"
      },
      "execution_count": 27,
      "outputs": []
    },
    {
      "cell_type": "code",
      "source": [
        "# Scaling the numerical data columns with RobustScalar\n",
        "\n",
        "# numerical = ['population', 'suicide_rate', \n",
        "#               'gdp_for_year','gdp_per_capita', 'suicide_count']\n",
        "\n",
        "# from sklearn.preprocessing import RobustScaler\n",
        "\n",
        "# rc = RobustScaler()\n",
        "# df[numerical] = rc.fit_transform(df[numerical])\n",
        "\n",
        "# df.head()"
      ],
      "metadata": {
        "id": "9QdBTXajMB8Q"
      },
      "execution_count": 28,
      "outputs": []
    },
    {
      "cell_type": "markdown",
      "source": [
        "# Implementacao do modelo"
      ],
      "metadata": {
        "id": "UK75nW2sM4AC"
      }
    },
    {
      "cell_type": "markdown",
      "source": [
        "## Separando o dataframe em teste e validacao"
      ],
      "metadata": {
        "id": "vD-KrghCM8PA"
      }
    },
    {
      "cell_type": "code",
      "source": [
        "y = df[\"suicide_count\"]\n",
        "X = df.drop([\"suicide_rate\", \"gdp_for_year\", \"gdp_per_capita\", \"suicide_count\", \"generation\"], axis=1)\n",
        "\n",
        "\n",
        "print(y.shape)\n",
        "print(X.shape)"
      ],
      "metadata": {
        "colab": {
          "base_uri": "https://localhost:8080/"
        },
        "id": "XM9FNxYwM_aJ",
        "outputId": "20f51126-6250-45c4-e559-8843349f133b"
      },
      "execution_count": 29,
      "outputs": [
        {
          "output_type": "stream",
          "name": "stdout",
          "text": [
            "(27820,)\n",
            "(27820, 5)\n"
          ]
        }
      ]
    },
    {
      "cell_type": "code",
      "source": [
        "x_train, x_test, y_train, y_test = train_test_split(X, y, test_size=0.25, random_state=12)\n",
        "\n",
        "print(x_train.shape)\n",
        "print(y_train.shape)\n",
        "print(x_test.shape)\n",
        "print(y_test.shape)"
      ],
      "metadata": {
        "colab": {
          "base_uri": "https://localhost:8080/"
        },
        "id": "_E6HyHqgNSSe",
        "outputId": "38790ed6-cf04-41b8-da07-2f2c61e79820"
      },
      "execution_count": 30,
      "outputs": [
        {
          "output_type": "stream",
          "name": "stdout",
          "text": [
            "(20865, 5)\n",
            "(20865,)\n",
            "(6955, 5)\n",
            "(6955,)\n"
          ]
        }
      ]
    },
    {
      "cell_type": "markdown",
      "source": [
        "## Dados de comparacao entre os metodos"
      ],
      "metadata": {
        "id": "_V4fcmWvc_jr"
      }
    },
    {
      "cell_type": "code",
      "source": [
        "# Creating holders to store the model performance results\n",
        "ML_Model = []\n",
        "acc_train_res = []\n",
        "acc_test_res = []\n",
        "rmse_train_res = []\n",
        "rmse_test_res = []\n",
        "r2score_res = []\n",
        "maxError_res = []\n",
        "\n",
        "#function to call for storing the results\n",
        "def storeResults(model, acc_train, acc_test, rmse_train, rmse_test, r2, max):\n",
        "    ML_Model.append(model)\n",
        "    acc_train_res.append(round(acc_train, 3))\n",
        "    acc_test_res.append(round(acc_test, 3))\n",
        "    rmse_train_res.append(round(rmse_train, 3))\n",
        "    rmse_test_res.append(round(rmse_test, 3))\n",
        "    r2score_res.append(round(r2))\n",
        "    maxError_res.append(round(max))"
      ],
      "metadata": {
        "id": "K8x45oN6dCuB"
      },
      "execution_count": 31,
      "outputs": []
    },
    {
      "cell_type": "markdown",
      "source": [
        "## Random Forest Regressor"
      ],
      "metadata": {
        "id": "Lin9eDQdNw7G"
      }
    },
    {
      "cell_type": "markdown",
      "source": [
        "### Implementando o modelo"
      ],
      "metadata": {
        "id": "hwF9HwpsN-Fu"
      }
    },
    {
      "cell_type": "code",
      "source": [
        "# RANDOM FOREST REGRESSOR\n",
        "\n",
        "from sklearn.ensemble import RandomForestRegressor\n",
        "\n",
        "# instantiate the model\n",
        "forest = RandomForestRegressor(max_depth=20)\n",
        "\n",
        "# fit the model \n",
        "forest.fit(x_train, y_train)"
      ],
      "metadata": {
        "colab": {
          "base_uri": "https://localhost:8080/"
        },
        "id": "-VWiuaOWNy8f",
        "outputId": "d3e17a6c-f1ac-4e49-f12b-eebe4a0c59cc"
      },
      "execution_count": 32,
      "outputs": [
        {
          "output_type": "execute_result",
          "data": {
            "text/plain": [
              "RandomForestRegressor(max_depth=20)"
            ]
          },
          "metadata": {},
          "execution_count": 32
        }
      ]
    },
    {
      "cell_type": "code",
      "source": [
        "#predicting the target value from the model for the samples\n",
        "y_test_forest = forest.predict(x_test)\n",
        "y_train_forest = forest.predict(x_train)"
      ],
      "metadata": {
        "id": "22WXL_TROBBe"
      },
      "execution_count": 33,
      "outputs": []
    },
    {
      "cell_type": "markdown",
      "source": [
        "### Metricas"
      ],
      "metadata": {
        "id": "kUi-WBvTjjcc"
      }
    },
    {
      "cell_type": "code",
      "source": [
        "from sklearn.metrics import mean_squared_error\n",
        "\n",
        "#computing the accuracy of the model performance\n",
        "acc_train_forest = forest.score(x_train, y_train) * 100\n",
        "acc_test_forest = forest.score(x_test, y_test) * 100\n",
        "\n",
        "#computing root mean squared error (RMSE)\n",
        "rmse_train_forest = np.sqrt(mean_squared_error(y_train, y_train_forest))\n",
        "rmse_test_forest = np.sqrt(mean_squared_error(y_test, y_test_forest))\n",
        "\n",
        "print(\"Random Forest: Acuracia de treino: {:.3f}%\".format(acc_train_forest))\n",
        "print(\"Random Forest: Acuracia de validacao: {:.3f}%\".format(acc_test_forest))\n",
        "\n",
        "print(\"\\nErro medio de treino: \", rmse_train_forest)\n",
        "print(\"Erro medio de validacao: \", rmse_test_forest)"
      ],
      "metadata": {
        "colab": {
          "base_uri": "https://localhost:8080/"
        },
        "id": "qi24lMF6PGCO",
        "outputId": "a2107ad6-437f-4071-92ef-1782c45086c6"
      },
      "execution_count": 34,
      "outputs": [
        {
          "output_type": "stream",
          "name": "stdout",
          "text": [
            "Random Forest: Acuracia de treino: 99.742%\n",
            "Random Forest: Acuracia de validacao: 99.036%\n",
            "\n",
            "Erro medio de treino:  46.23151847611363\n",
            "Erro medio de validacao:  86.08116624725\n"
          ]
        }
      ]
    },
    {
      "cell_type": "code",
      "source": [
        "from sklearn.metrics import r2_score\n",
        "\n",
        "r2score = r2_score(y_test, y_test_forest) * 100\n",
        "\n",
        "print(\"Random Forest R2 score: {:.3f}%\".format(r2score))"
      ],
      "metadata": {
        "colab": {
          "base_uri": "https://localhost:8080/"
        },
        "id": "LPs76jmfjlwC",
        "outputId": "7e650de1-f249-48c0-bd82-68256764d277"
      },
      "execution_count": 35,
      "outputs": [
        {
          "output_type": "stream",
          "name": "stdout",
          "text": [
            "Random Forest R2 score: 99.036%\n"
          ]
        }
      ]
    },
    {
      "cell_type": "code",
      "source": [
        "from sklearn.metrics import max_error\n",
        "\n",
        "maxError = max_error(y_test, y_test_forest)\n",
        "\n",
        "print(\"Random Forest erro maximo: {:.3f}\".format(maxError))"
      ],
      "metadata": {
        "colab": {
          "base_uri": "https://localhost:8080/"
        },
        "id": "-_K9CbkplCsi",
        "outputId": "de24bfb1-4c36-40d1-cc09-42ffbf8c0788"
      },
      "execution_count": 36,
      "outputs": [
        {
          "output_type": "stream",
          "name": "stdout",
          "text": [
            "Random Forest erro maximo: 2342.330\n"
          ]
        }
      ]
    },
    {
      "cell_type": "markdown",
      "source": [
        "### Problemas de overfitting?"
      ],
      "metadata": {
        "id": "P_xjULT4T2TT"
      }
    },
    {
      "cell_type": "code",
      "source": [
        "training_accuracy = []\n",
        "test_accuracy = []\n",
        "# try max_depth from 1 to 30\n",
        "depth = range(1, 31)\n",
        "for n in depth:\n",
        "    # fit the model\n",
        "    tree = RandomForestRegressor(max_depth=n)\n",
        "    tree.fit(x_train, y_train)\n",
        "    # record training set accuracy\n",
        "    training_accuracy.append(tree.score(x_train, y_train))\n",
        "    # record generalization accuracy\n",
        "    test_accuracy.append(tree.score(x_test, y_test))\n",
        "\n",
        "#plotting the training & testing accuracy for max_depth from 1 to 30\n",
        "plt.plot(depth, training_accuracy, label=\"treino\")\n",
        "plt.plot(depth, test_accuracy, label=\"validacao\")\n",
        "plt.ylabel(\"Acuracia\")  \n",
        "plt.xlabel(\"Profundidade\")\n",
        "plt.legend()"
      ],
      "metadata": {
        "colab": {
          "base_uri": "https://localhost:8080/",
          "height": 297
        },
        "id": "QAcJuw8OT5je",
        "outputId": "9c84acdc-106a-4be5-c901-1d86e1f6f80e"
      },
      "execution_count": 37,
      "outputs": [
        {
          "output_type": "execute_result",
          "data": {
            "text/plain": [
              "<matplotlib.legend.Legend at 0x7f46d4ee3850>"
            ]
          },
          "metadata": {},
          "execution_count": 37
        },
        {
          "output_type": "display_data",
          "data": {
            "text/plain": [
              "<Figure size 432x288 with 1 Axes>"
            ],
            "image/png": "[encoded data removed]"
          },
          "metadata": {
            "needs_background": "light"
          }
        }
      ]
    },
    {
      "cell_type": "code",
      "source": [
        "# instantiate the model\n",
        "forest = RandomForestRegressor(max_depth=7)\n",
        "\n",
        "# fit the model \n",
        "forest.fit(x_train, y_train)"
      ],
      "metadata": {
        "colab": {
          "base_uri": "https://localhost:8080/"
        },
        "id": "NqrpKzjqWFiq",
        "outputId": "d551d7d2-d9c9-4f53-a243-c8e1b38bf2c8"
      },
      "execution_count": 38,
      "outputs": [
        {
          "output_type": "execute_result",
          "data": {
            "text/plain": [
              "RandomForestRegressor(max_depth=7)"
            ]
          },
          "metadata": {},
          "execution_count": 38
        }
      ]
    },
    {
      "cell_type": "code",
      "source": [
        "#predicting the target value from the model for the samples\n",
        "y_test_forest = forest.predict(x_test)\n",
        "y_train_forest = forest.predict(x_train)"
      ],
      "metadata": {
        "id": "-4_P1--FmMLu"
      },
      "execution_count": 55,
      "outputs": []
    },
    {
      "cell_type": "code",
      "source": [
        "acc_train_forest = forest.score(x_train, y_train) * 100\n",
        "acc_test_forest = forest.score(x_test, y_test) * 100\n",
        "\n",
        "#computing root mean squared error (RMSE)\n",
        "rmse_train_forest = np.sqrt(mean_squared_error(y_train, y_train_forest))\n",
        "rmse_test_forest = np.sqrt(mean_squared_error(y_test, y_test_forest))\n",
        "\n",
        "print(\"Random Forest: Acuracia de treino: {:.3f}%\".format(acc_train_forest))\n",
        "print(\"Random Forest: Acuracia de validacao: {:.3f}%\".format(acc_test_forest))\n",
        "\n",
        "print(\"\\nErro medio de treino: \", rmse_train_forest)\n",
        "print(\"Erro medio de validacao: \", rmse_test_forest)\n",
        "\n",
        "from sklearn.metrics import r2_score\n",
        "\n",
        "r2score = r2_score(y_test, y_test_forest) * 100\n",
        "\n",
        "print(\"\\nRandom Forest R2 score: {:.3f}%\".format(r2score))\n",
        "\n",
        "from sklearn.metrics import max_error\n",
        "\n",
        "maxError = max_error(y_test, y_test_forest)\n",
        "\n",
        "print(\"\\nRandom Forest erro maximo: {:.3f}\".format(maxError))"
      ],
      "metadata": {
        "colab": {
          "base_uri": "https://localhost:8080/"
        },
        "id": "gxWTLZDeWLvw",
        "outputId": "cba4f276-cfee-43e1-a65b-69bca531090a"
      },
      "execution_count": 56,
      "outputs": [
        {
          "output_type": "stream",
          "name": "stdout",
          "text": [
            "Random Forest: Acuracia de treino: 94.166%\n",
            "Random Forest: Acuracia de validacao: 92.234%\n",
            "\n",
            "Erro medio de treino:  219.86462619280388\n",
            "Erro medio de validacao:  244.34024246075862\n",
            "\n",
            "Random Forest R2 score: 92.234%\n",
            "\n",
            "Random Forest erro maximo: 4399.361\n"
          ]
        }
      ]
    },
    {
      "cell_type": "code",
      "source": [
        "# Armazenando para comparacao\n",
        "\n",
        "storeResults(\"RandomForest\", acc_test=acc_test_forest, acc_train=acc_train_forest, rmse_train=rmse_train_forest, rmse_test=rmse_test_forest, r2=r2score, max=maxError)"
      ],
      "metadata": {
        "id": "SSZ7045JdRwW"
      },
      "execution_count": 57,
      "outputs": []
    },
    {
      "cell_type": "markdown",
      "source": [
        "### Predicao de uma amostra de tamanho 1"
      ],
      "metadata": {
        "id": "MEtzSG9_OUEN"
      }
    },
    {
      "cell_type": "code",
      "source": [
        "# country, year, gender, age_group, suicide_count, population, gdp_for_year, gdp_per_capta, generation\n",
        "\n",
        "# gdp = PIB\n",
        "\n",
        "\n",
        "# male = 1 | female = 0\n",
        "\n",
        "# 0: 15-24\n",
        "# 1: 25-34\n",
        "# 2: 35-54\n",
        "# 3: 5-14\n",
        "# 4: 55-74\n",
        "# 5: 75+\n",
        "\n",
        "# male: 1 | female: 0\n",
        "\n",
        "# Boomer: 0\n",
        "# GI Generation: 1\n",
        "# Geracao X: 2\n",
        "# Geracao Z: 3\n",
        "# Millenials: 4\n",
        "# Silent: 5\n",
        "\n",
        "total_sucide = 0\n",
        "\n",
        "# SINGLE PREDICTION\n",
        "\n",
        "data = {\n",
        "    'country': [87],\n",
        "    'year': [37],\n",
        "    'gender': [0],\n",
        "    'age_group': [3],\n",
        "    'population': [200000000],\n",
        "}\n",
        "\n",
        "pred_feat = pd.DataFrame(data)\n",
        "\n",
        "pred = forest.predict(pred_feat)\n",
        "\n",
        "print(\"Tera {} suicidios aproximadamente\".format(max(pred)))\n",
        "\n",
        "#2973.80"
      ],
      "metadata": {
        "colab": {
          "base_uri": "https://localhost:8080/"
        },
        "id": "jr_wRtxTu9gU",
        "outputId": "b084bc7c-c16b-4289-dfae-f7efd3dce255"
      },
      "execution_count": 41,
      "outputs": [
        {
          "output_type": "stream",
          "name": "stdout",
          "text": [
            "Tera 3613.4605158730155 suicidios aproximadamente\n"
          ]
        }
      ]
    },
    {
      "cell_type": "code",
      "source": [
        "def make_prediction(data, model, range, feature):\n",
        "  suicides = []\n",
        "  for i in range:\n",
        "    data[feature] = [i]\n",
        "    pred_feat = pd.DataFrame(data)\n",
        "    pred = model.predict(data)\n",
        "    suicides.append(pred)\n",
        "  return suicides                      "
      ],
      "metadata": {
        "id": "llzEt2Ye7Dg-"
      },
      "execution_count": 42,
      "outputs": []
    },
    {
      "cell_type": "code",
      "source": [
        "a = range(0,6)\n",
        "\n",
        "suicide_per_age_group = []\n",
        "\n",
        "for i in a:\n",
        "  data = {\n",
        "    'country': [57],\n",
        "    'year': [37],\n",
        "    'gender': [1],\n",
        "    'age_group': [i],\n",
        "    'population': [200000000],\n",
        "  }\n",
        "\n",
        "  pred_feat = pd.DataFrame(data)\n",
        "\n",
        "  pred = forest.predict(pred_feat)\n",
        "\n",
        "  suicide_per_age_group.append(pred)\n",
        "\n",
        "print(pd.DataFrame(suicide_per_age_group))\n",
        "\n",
        "pred_feat = pd.DataFrame(data)\n",
        "\n",
        "print(make_prediction(pred_feat, forest, range(0,102), \"country\"))"
      ],
      "metadata": {
        "colab": {
          "base_uri": "https://localhost:8080/"
        },
        "id": "VAka0LvnWwD_",
        "outputId": "78e9b414-075f-4385-fba2-02c304238872"
      },
      "execution_count": 43,
      "outputs": [
        {
          "output_type": "stream",
          "name": "stdout",
          "text": [
            "             0\n",
            "0  3294.092962\n",
            "1  3304.965886\n",
            "2  5030.330642\n",
            "3   740.081382\n",
            "4  4952.385592\n",
            "5  4952.385592\n",
            "[array([4705.88441925]), array([4705.88441925]), array([4705.88441925]), array([4705.88441925]), array([4705.88441925]), array([4705.88441925]), array([4705.88441925]), array([4705.88441925]), array([4705.88441925]), array([4705.88441925]), array([4705.88441925]), array([4705.88441925]), array([4705.88441925]), array([4705.88441925]), array([4705.88441925]), array([4705.88441925]), array([4705.88441925]), array([4705.88441925]), array([4705.88441925]), array([4705.88441925]), array([4705.88441925]), array([4705.88441925]), array([4705.88441925]), array([4705.88441925]), array([4705.88441925]), array([4710.21100185]), array([4946.41403359]), array([4946.41403359]), array([4946.41403359]), array([4946.41403359]), array([4946.41403359]), array([5251.58747804]), array([5251.58747804]), array([5251.58747804]), array([5251.58747804]), array([5251.58747804]), array([5251.58747804]), array([5251.58747804]), array([5251.58747804]), array([5251.58747804]), array([5233.78217749]), array([5648.72418072]), array([5648.72418072]), array([5648.72418072]), array([5648.72418072]), array([5648.72418072]), array([5711.11289867]), array([5711.11289867]), array([5711.11289867]), array([5711.11289867]), array([5711.11289867]), array([5711.11289867]), array([5711.11289867]), array([4952.38559156]), array([4952.38559156]), array([4952.38559156]), array([4952.38559156]), array([4952.38559156]), array([4952.38559156]), array([4952.38559156]), array([4952.38559156]), array([4980.83559156]), array([4980.83559156]), array([4980.83559156]), array([4980.83559156]), array([4980.83559156]), array([4980.83559156]), array([5085.80559156]), array([5085.80559156]), array([5085.80559156]), array([5085.80559156]), array([5236.70225822]), array([10179.87725395]), array([10179.87725395]), array([10179.87725395]), array([10179.87725395]), array([10179.87725395]), array([10179.87725395]), array([10179.87725395]), array([10179.87725395]), array([10179.87725395]), array([10179.87725395]), array([10179.87725395]), array([10179.87725395]), array([10805.90450178]), array([10762.00700178]), array([10762.00700178]), array([10819.22471607]), array([10819.22471607]), array([10819.22471607]), array([10819.22471607]), array([10819.22471607]), array([10819.22471607]), array([10819.22471607]), array([10819.22471607]), array([10819.22471607]), array([10819.22471607]), array([10819.22471607]), array([10819.22471607]), array([10819.22471607]), array([10819.22471607]), array([10819.22471607])]\n"
          ]
        }
      ]
    },
    {
      "cell_type": "markdown",
      "source": [
        "## Decision tree"
      ],
      "metadata": {
        "id": "TO9vqiXYxGCy"
      }
    },
    {
      "cell_type": "markdown",
      "source": [
        "### Implementando o modelo"
      ],
      "metadata": {
        "id": "hNdW1TJvOGXJ"
      }
    },
    {
      "cell_type": "code",
      "source": [
        "# DECISION TREE\n",
        "\n",
        "from sklearn.tree import DecisionTreeRegressor\n",
        "\n",
        "tree = DecisionTreeRegressor(max_depth = 20)\n",
        "\n",
        "tree.fit(x_train, y_train)"
      ],
      "metadata": {
        "id": "Y-s1mOtcFRMa",
        "colab": {
          "base_uri": "https://localhost:8080/"
        },
        "outputId": "2b81bcf4-470d-4e7e-d11c-e2a37620b06e"
      },
      "execution_count": 44,
      "outputs": [
        {
          "output_type": "execute_result",
          "data": {
            "text/plain": [
              "DecisionTreeRegressor(max_depth=20)"
            ]
          },
          "metadata": {},
          "execution_count": 44
        }
      ]
    },
    {
      "cell_type": "markdown",
      "source": [
        "### Metricas"
      ],
      "metadata": {
        "id": "CCj4m9b6NvSX"
      }
    },
    {
      "cell_type": "code",
      "source": [
        "y_test_tree = tree.predict(x_test)\n",
        "y_train_tree = tree.predict(x_train)"
      ],
      "metadata": {
        "id": "m_nbBlZMGOC8"
      },
      "execution_count": 45,
      "outputs": []
    },
    {
      "cell_type": "code",
      "source": [
        "# Erro quadratico medio (mean_squared_error)\n",
        "\n",
        "acc_train_tree = tree.score(x_train, y_train) * 100\n",
        "acc_test_tree = tree.score(x_test, y_test) * 100\n",
        "\n",
        "#computing root mean squared error (RMSE)\n",
        "rmse_train_tree = np.sqrt(mean_squared_error(y_train, y_train_tree))\n",
        "rmse_test_tree = np.sqrt(mean_squared_error(y_test, y_test_tree))\n",
        "\n",
        "print(\"Decision Tree: Acuracia nos dados de treino: {:.5f}%\".format(acc_train_tree))\n",
        "print(\"Decision Tree: Accuracia nos dados de validacao: {:.5f}%\".format(acc_test_tree))\n",
        "print('\\nDecision Tree: A raiz do Erro meio quadrado nos dados de treino:', rmse_train_tree)\n",
        "print('Decision Tree: A raiz do Erro medio quadrado nos dados de validacao:', rmse_test_tree)"
      ],
      "metadata": {
        "id": "uLISbbrdGeY_",
        "colab": {
          "base_uri": "https://localhost:8080/"
        },
        "outputId": "930f1b37-2762-4ffd-f52b-ae19e5870537"
      },
      "execution_count": 46,
      "outputs": [
        {
          "output_type": "stream",
          "name": "stdout",
          "text": [
            "Decision Tree: Acuracia nos dados de treino: 99.99872%\n",
            "Decision Tree: Accuracia nos dados de validacao: 99.04982%\n",
            "\n",
            "Decision Tree: A raiz do Erro meio quadrado nos dados de treino: 3.256034586731305\n",
            "Decision Tree: A raiz do Erro medio quadrado nos dados de validacao: 85.46523681016765\n"
          ]
        }
      ]
    },
    {
      "cell_type": "code",
      "source": [
        "from sklearn.metrics import r2_score\n",
        "\n",
        "r2score = r2_score(y_test, y_test_tree) * 100\n",
        "\n",
        "print(\"Arvore de decisao R2 score: {:.5f}%\".format(r2score))"
      ],
      "metadata": {
        "id": "0dKifAKOOa_d",
        "colab": {
          "base_uri": "https://localhost:8080/"
        },
        "outputId": "23a5d76c-5baa-4caa-a1d6-ddbbcdd11b45"
      },
      "execution_count": 47,
      "outputs": [
        {
          "output_type": "stream",
          "name": "stdout",
          "text": [
            "Arvore de decisao R2 score: 99.04982%\n"
          ]
        }
      ]
    },
    {
      "cell_type": "code",
      "source": [
        "from sklearn.metrics import max_error\n",
        "\n",
        "maxError = max_error(y_test, y_test_tree)\n",
        "\n",
        "print(\"Random Forest erro maximo: {:.3f}\".format(maxError))"
      ],
      "metadata": {
        "id": "mvQa4D2rOiIl",
        "colab": {
          "base_uri": "https://localhost:8080/"
        },
        "outputId": "14cc6948-e9e5-449d-f9d8-217199337a0b"
      },
      "execution_count": 48,
      "outputs": [
        {
          "output_type": "stream",
          "name": "stdout",
          "text": [
            "Random Forest erro maximo: 1589.000\n"
          ]
        }
      ]
    },
    {
      "cell_type": "markdown",
      "source": [
        "### Problemas de overfitting?\n",
        "\n",
        "> Vamos entao procurar qual seria a melhor profundida maxima interessante para nao termos um problema de overfitting"
      ],
      "metadata": {
        "id": "xAo70sXfRShZ"
      }
    },
    {
      "cell_type": "code",
      "source": [
        "training_accuracy = []\n",
        "test_accuracy = []\n",
        "# try max_depth from 1 to 30\n",
        "depth = range(1, 31)\n",
        "for n in depth:\n",
        "    # fit the model\n",
        "    tree = DecisionTreeRegressor(max_depth=n)\n",
        "    tree.fit(x_train, y_train)\n",
        "    # record training set accuracy\n",
        "    training_accuracy.append(tree.score(x_train, y_train))\n",
        "    # record generalization accuracy\n",
        "    test_accuracy.append(tree.score(x_test, y_test))\n",
        "\n",
        "#plotting the training & testing accuracy for max_depth from 1 to 30\n",
        "plt.plot(depth, training_accuracy, label=\"treino\")\n",
        "plt.plot(depth, test_accuracy, label=\"validacao\")\n",
        "plt.ylabel(\"Acuracia\")  \n",
        "plt.xlabel(\"Profundidade\")\n",
        "plt.legend()\n",
        "\n",
        "\n",
        "# A partir desse grafico podemos observar que a profundidade maximo a partir de 10 chegamos em um problema de overfitting\n",
        "# portanto é mais interessante manter a profundidade em 9 para nao ter esse problema"
      ],
      "metadata": {
        "id": "b9LKZjNYRXN3",
        "colab": {
          "base_uri": "https://localhost:8080/",
          "height": 297
        },
        "outputId": "882e96f5-c75c-4125-c897-10950338d7ef"
      },
      "execution_count": 49,
      "outputs": [
        {
          "output_type": "execute_result",
          "data": {
            "text/plain": [
              "<matplotlib.legend.Legend at 0x7f46d4eeef90>"
            ]
          },
          "metadata": {},
          "execution_count": 49
        },
        {
          "output_type": "display_data",
          "data": {
            "text/plain": [
              "<Figure size 432x288 with 1 Axes>"
            ],
            "image/png": "[encoded data removed]"
          },
          "metadata": {
            "needs_background": "light"
          }
        }
      ]
    },
    {
      "cell_type": "code",
      "source": [
        "tree = DecisionTreeRegressor(max_depth = 9)\n",
        "\n",
        "tree.fit(x_train, y_train)"
      ],
      "metadata": {
        "id": "cszah5mvTHRf",
        "colab": {
          "base_uri": "https://localhost:8080/"
        },
        "outputId": "4964d24f-bae6-4bd3-93d7-4e8b1ec0e7e2"
      },
      "execution_count": 50,
      "outputs": [
        {
          "output_type": "execute_result",
          "data": {
            "text/plain": [
              "DecisionTreeRegressor(max_depth=9)"
            ]
          },
          "metadata": {},
          "execution_count": 50
        }
      ]
    },
    {
      "cell_type": "code",
      "source": [
        "# Erro quadratico medio (mean_squared_error)\n",
        "\n",
        "acc_train_tree = tree.score(x_train, y_train) * 100\n",
        "acc_test_tree = tree.score(x_test, y_test) * 100\n",
        "\n",
        "#computing root mean squared error (RMSE)\n",
        "rmse_train_tree = np.sqrt(mean_squared_error(y_train, y_train_tree))\n",
        "rmse_test_tree = np.sqrt(mean_squared_error(y_test, y_test_tree))\n",
        "\n",
        "print(\"Decision Tree: Acuracia nos dados de treino: {:.3f}%\".format(acc_train_tree))\n",
        "print(\"Decision Tree: Accuracia nos dados de validacao: {:.3f}%\".format(acc_test_tree))\n",
        "print('\\nDecision Tree: A raiz do Erro meio quadrado nos dados de treino:', rmse_train_tree)\n",
        "print('Decision Tree: A raiz do Erro medio quadrado nos dados de validacao:', rmse_test_tree)\n",
        "\n",
        "\n",
        "\n",
        "from sklearn.metrics import r2_score\n",
        "\n",
        "r2score_tree = r2_score(y_test, y_test_tree) * 100\n",
        "\n",
        "print(\"\\nArvore de decisao R2 score: {:.5f}%\".format(r2score))\n",
        "\n",
        "\n",
        "from sklearn.metrics import max_error\n",
        "\n",
        "maxError_tree = max_error(y_test, y_test_tree)\n",
        "\n",
        "print(\"\\nRandom Forest erro maximo: {:.3f}\".format(maxError))"
      ],
      "metadata": {
        "id": "69q7x1xyTWBd",
        "colab": {
          "base_uri": "https://localhost:8080/"
        },
        "outputId": "fef01ce7-0bcd-4673-82dc-324443f3f581"
      },
      "execution_count": 51,
      "outputs": [
        {
          "output_type": "stream",
          "name": "stdout",
          "text": [
            "Decision Tree: Acuracia nos dados de treino: 97.484%\n",
            "Decision Tree: Accuracia nos dados de validacao: 95.350%\n",
            "\n",
            "Decision Tree: A raiz do Erro meio quadrado nos dados de treino: 3.256034586731305\n",
            "Decision Tree: A raiz do Erro medio quadrado nos dados de validacao: 85.46523681016765\n",
            "\n",
            "Arvore de decisao R2 score: 99.04982%\n",
            "\n",
            "Random Forest erro maximo: 1589.000\n"
          ]
        }
      ]
    },
    {
      "cell_type": "code",
      "source": [
        "storeResults(\"DecisionTree\", acc_test=acc_test_tree, acc_train=acc_train_tree, rmse_train=rmse_train_tree, rmse_test=rmse_test_tree, r2=r2score_tree, max=maxError_tree)"
      ],
      "metadata": {
        "id": "1IngFOCues6u"
      },
      "execution_count": 52,
      "outputs": []
    },
    {
      "cell_type": "markdown",
      "source": [
        "### Predicao de uma amostra de tamanho 1"
      ],
      "metadata": {
        "id": "gcb5QYBzOqRN"
      }
    },
    {
      "cell_type": "code",
      "source": [
        "# SINGLE PREDICTION\n",
        "\n",
        "data = {\n",
        "    'country': [57],\n",
        "    'year': [37],\n",
        "    'gender': [1],\n",
        "    'age_group': [2],\n",
        "    'population': [90000007676700],\n",
        "}\n",
        "\n",
        "pred_feat = pd.DataFrame(data)\n",
        "\n",
        "pred = tree.predict(pred_feat)\n",
        "\n",
        "print(\"Tera {:.3f} suicidios aproximadamente\".format(max(pred)))"
      ],
      "metadata": {
        "id": "yIW_AJf3Oxll",
        "colab": {
          "base_uri": "https://localhost:8080/"
        },
        "outputId": "a34e2934-92a0-4615-87b5-c81f93ad722d"
      },
      "execution_count": 53,
      "outputs": [
        {
          "output_type": "stream",
          "name": "stdout",
          "text": [
            "Tera 7323.583 suicidios aproximadamente\n"
          ]
        }
      ]
    },
    {
      "cell_type": "markdown",
      "source": [
        "## Comparacao entre os modelos"
      ],
      "metadata": {
        "id": "afqztTzhe0F3"
      }
    },
    {
      "cell_type": "code",
      "source": [
        "results = pd.DataFrame({ 'ML Model': ML_Model,    \n",
        "    'Treino Acuracia': acc_train_res,\n",
        "    'Teste Acuracia': acc_test_res,\n",
        "    'Raiz EMQ treio': rmse_train_res,\n",
        "    'Raiz EMQ validacao': rmse_test_res,\n",
        "    'R2 Score': r2score_res,\n",
        "    'Erro máximo': maxError_res\n",
        "    })\n",
        "\n",
        "results"
      ],
      "metadata": {
        "id": "OwurGTTSe1uy",
        "colab": {
          "base_uri": "https://localhost:8080/",
          "height": 143
        },
        "outputId": "f4421b53-9b42-4302-e7ac-527d93b8731f"
      },
      "execution_count": 58,
      "outputs": [
        {
          "output_type": "execute_result",
          "data": {
            "text/plain": [
              "       ML Model  Treino Acuracia  Teste Acuracia  Raiz EMQ treio  \\\n",
              "0  RandomForest           94.166          92.234          46.232   \n",
              "1  DecisionTree           97.484          95.350           3.256   \n",
              "2  RandomForest           94.166          92.234         219.865   \n",
              "\n",
              "   Raiz EMQ validacao  R2 Score  Erro máximo  \n",
              "0              86.081        99         2342  \n",
              "1              85.465        99         1589  \n",
              "2             244.340        92         4399  "
            ],
            "text/html": [
              "\n",
              "  <div id=\"df-9206350a-0ab6-4084-978e-78178a12575e\">\n",
              "    <div class=\"colab-df-container\">\n",
              "      <div>\n",
              "<style scoped>\n",
              "    .dataframe tbody tr th:only-of-type {\n",
              "        vertical-align: middle;\n",
              "    }\n",
              "\n",
              "    .dataframe tbody tr th {\n",
              "        vertical-align: top;\n",
              "    }\n",
              "\n",
              "    .dataframe thead th {\n",
              "        text-align: right;\n",
              "    }\n",
              "</style>\n",
              "<table border=\"1\" class=\"dataframe\">\n",
              "  <thead>\n",
              "    <tr style=\"text-align: right;\">\n",
              "      <th></th>\n",
              "      <th>ML Model</th>\n",
              "      <th>Treino Acuracia</th>\n",
              "      <th>Teste Acuracia</th>\n",
              "      <th>Raiz EMQ treio</th>\n",
              "      <th>Raiz EMQ validacao</th>\n",
              "      <th>R2 Score</th>\n",
              "      <th>Erro máximo</th>\n",
              "    </tr>\n",
              "  </thead>\n",
              "  <tbody>\n",
              "    <tr>\n",
              "      <th>0</th>\n",
              "      <td>RandomForest</td>\n",
              "      <td>94.166</td>\n",
              "      <td>92.234</td>\n",
              "      <td>46.232</td>\n",
              "      <td>86.081</td>\n",
              "      <td>99</td>\n",
              "      <td>2342</td>\n",
              "    </tr>\n",
              "    <tr>\n",
              "      <th>1</th>\n",
              "      <td>DecisionTree</td>\n",
              "      <td>97.484</td>\n",
              "      <td>95.350</td>\n",
              "      <td>3.256</td>\n",
              "      <td>85.465</td>\n",
              "      <td>99</td>\n",
              "      <td>1589</td>\n",
              "    </tr>\n",
              "    <tr>\n",
              "      <th>2</th>\n",
              "      <td>RandomForest</td>\n",
              "      <td>94.166</td>\n",
              "      <td>92.234</td>\n",
              "      <td>219.865</td>\n",
              "      <td>244.340</td>\n",
              "      <td>92</td>\n",
              "      <td>4399</td>\n",
              "    </tr>\n",
              "  </tbody>\n",
              "</table>\n",
              "</div>\n",
              "      <button class=\"colab-df-convert\" onclick=\"convertToInteractive('df-9206350a-0ab6-4084-978e-78178a12575e')\"\n",
              "              title=\"Convert this dataframe to an interactive table.\"\n",
              "              style=\"display:none;\">\n",
              "        \n",
              "  <svg xmlns=\"http://www.w3.org/2000/svg\" height=\"24px\"viewBox=\"0 0 24 24\"\n",
              "       width=\"24px\">\n",
              "    <path d=\"M0 0h24v24H0V0z\" fill=\"none\"/>\n",
              "    <path d=\"M18.56 5.44l.94 2.06.94-2.06 2.06-.94-2.06-.94-.94-2.06-.94 2.06-2.06.94zm-11 1L8.5 8.5l.94-2.06 2.06-.94-2.06-.94L8.5 2.5l-.94 2.06-2.06.94zm10 10l.94 2.06.94-2.06 2.06-.94-2.06-.94-.94-2.06-.94 2.06-2.06.94z\"/><path d=\"M17.41 7.96l-1.37-1.37c-.4-.4-.92-.59-1.43-.59-.52 0-1.04.2-1.43.59L10.3 9.45l-7.72 7.72c-.78.78-.78 2.05 0 2.83L4 21.41c.39.39.9.59 1.41.59.51 0 1.02-.2 1.41-.59l7.78-7.78 2.81-2.81c.8-.78.8-2.07 0-2.86zM5.41 20L4 18.59l7.72-7.72 1.47 1.35L5.41 20z\"/>\n",
              "  </svg>\n",
              "      </button>\n",
              "      \n",
              "  <style>\n",
              "    .colab-df-container {\n",
              "      display:flex;\n",
              "      flex-wrap:wrap;\n",
              "      gap: 12px;\n",
              "    }\n",
              "\n",
              "    .colab-df-convert {\n",
              "      background-color: #E8F0FE;\n",
              "      border: none;\n",
              "      border-radius: 50%;\n",
              "      cursor: pointer;\n",
              "      display: none;\n",
              "      fill: #1967D2;\n",
              "      height: 32px;\n",
              "      padding: 0 0 0 0;\n",
              "      width: 32px;\n",
              "    }\n",
              "\n",
              "    .colab-df-convert:hover {\n",
              "      background-color: #E2EBFA;\n",
              "      box-shadow: 0px 1px 2px rgba(60, 64, 67, 0.3), 0px 1px 3px 1px rgba(60, 64, 67, 0.15);\n",
              "      fill: #174EA6;\n",
              "    }\n",
              "\n",
              "    [theme=dark] .colab-df-convert {\n",
              "      background-color: #3B4455;\n",
              "      fill: #D2E3FC;\n",
              "    }\n",
              "\n",
              "    [theme=dark] .colab-df-convert:hover {\n",
              "      background-color: #434B5C;\n",
              "      box-shadow: 0px 1px 3px 1px rgba(0, 0, 0, 0.15);\n",
              "      filter: drop-shadow(0px 1px 2px rgba(0, 0, 0, 0.3));\n",
              "      fill: #FFFFFF;\n",
              "    }\n",
              "  </style>\n",
              "\n",
              "      <script>\n",
              "        const buttonEl =\n",
              "          document.querySelector('#df-9206350a-0ab6-4084-978e-78178a12575e button.colab-df-convert');\n",
              "        buttonEl.style.display =\n",
              "          google.colab.kernel.accessAllowed ? 'block' : 'none';\n",
              "\n",
              "        async function convertToInteractive(key) {\n",
              "          const element = document.querySelector('#df-9206350a-0ab6-4084-978e-78178a12575e');\n",
              "          const dataTable =\n",
              "            await google.colab.kernel.invokeFunction('convertToInteractive',\n",
              "                                                     [key], {});\n",
              "          if (!dataTable) return;\n",
              "\n",
              "          const docLinkHtml = 'Like what you see? Visit the ' +\n",
              "            '<a target=\"_blank\" href=https://colab.research.google.com/notebooks/data_table.ipynb>data table notebook</a>'\n",
              "            + ' to learn more about interactive tables.';\n",
              "          element.innerHTML = '';\n",
              "          dataTable['output_type'] = 'display_data';\n",
              "          await google.colab.output.renderOutput(dataTable, element);\n",
              "          const docLink = document.createElement('div');\n",
              "          docLink.innerHTML = docLinkHtml;\n",
              "          element.appendChild(docLink);\n",
              "        }\n",
              "      </script>\n",
              "    </div>\n",
              "  </div>\n",
              "  "
            ]
          },
          "metadata": {},
          "execution_count": 58
        }
      ]
    }
  ],
  "metadata": {
    "colab": {
      "collapsed_sections": [
        "24EETLRceHXn",
        "xXJpwuM2Xbi9",
        "Eu4C5G9sIQc0",
        "WrRELvLTLRkX",
        "_V4fcmWvc_jr",
        "afqztTzhe0F3"
      ],
      "name": "TP-final.ipynb",
      "provenance": [],
      "mount_file_id": "14gzMjCHt8t_h00fHe_HNccfYJhpnnUIl",
      "authorship_tag": "ABX9TyMOol8leWTjEnzLG4yo7ilQ",
      "include_colab_link": true
    },
    "kernelspec": {
      "display_name": "Python 3",
      "name": "python3"
    },
    "language_info": {
      "name": "python"
    }
  },
  "nbformat": 4,
  "nbformat_minor": 0
}