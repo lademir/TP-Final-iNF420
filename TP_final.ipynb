{
  "cells": [
    {
      "cell_type": "markdown",
      "metadata": {
        "id": "view-in-github",
        "colab_type": "text"
      },
      "source": [
        "<a href=\"https://colab.research.google.com/github/lademir/TP-Final-iNF420/blob/main/TP_final.ipynb\" target=\"_parent\"><img src=\"https://colab.research.google.com/assets/colab-badge.svg\" alt=\"Open In Colab\"/></a>"
      ]
    },
    {
      "cell_type": "markdown",
      "metadata": {
        "id": "6IeyMTlj8zf6"
      },
      "source": [
        "# Predicao de quantidade de suicidios (DecisionTree & RandomForest)\n",
        "\n",
        "## Sumário\n",
        "> 1. Definição e armazenamento do dataset\n",
        "> 2. Visualizacao rapida do dataset\n",
        "> 3. Pre-processamento dos dados\n",
        "> 4. implementação dos modelos\n",
        "> 5. Comparacao entre os dois modelos\n"
      ]
    },
    {
      "cell_type": "code",
      "execution_count": 1,
      "metadata": {
        "id": "jDWX7Idq5Rsf"
      },
      "outputs": [],
      "source": [
        "import pandas as pd\n",
        "import numpy as np\n",
        "from sklearn.metrics import accuracy_score\n",
        "from sklearn.model_selection import train_test_split\n",
        "from sklearn import preprocessing\n",
        "import matplotlib.pyplot as plt\n",
        "import seaborn as sns"
      ]
    },
    {
      "cell_type": "markdown",
      "metadata": {
        "id": "xXJpwuM2Xbi9"
      },
      "source": [
        "## Armazenando o dataset"
      ]
    },
    {
      "cell_type": "code",
      "execution_count": 2,
      "metadata": {
        "colab": {
          "base_uri": "https://localhost:8080/",
          "height": 392
        },
        "id": "rcjA-UmPX3jp",
        "outputId": "1d7b12a7-dd9a-4c33-b6b6-bdc5755c6636"
      },
      "outputs": [
        {
          "output_type": "execute_result",
          "data": {
            "text/plain": [
              "   country  year     sex          age  suicides_no  population  \\\n",
              "0  Albania  1987    male  15-24 years           21      312900   \n",
              "1  Albania  1987    male  35-54 years           16      308000   \n",
              "2  Albania  1987  female  15-24 years           14      289700   \n",
              "3  Albania  1987    male    75+ years            1       21800   \n",
              "4  Albania  1987    male  25-34 years            9      274300   \n",
              "\n",
              "   suicides/100k pop country-year  HDI for year  gdp_for_year ($)   \\\n",
              "0               6.71  Albania1987           NaN      2,156,624,900   \n",
              "1               5.19  Albania1987           NaN      2,156,624,900   \n",
              "2               4.83  Albania1987           NaN      2,156,624,900   \n",
              "3               4.59  Albania1987           NaN      2,156,624,900   \n",
              "4               3.28  Albania1987           NaN      2,156,624,900   \n",
              "\n",
              "   gdp_per_capita ($)       generation  \n",
              "0                 796     Generation X  \n",
              "1                 796           Silent  \n",
              "2                 796     Generation X  \n",
              "3                 796  G.I. Generation  \n",
              "4                 796          Boomers  "
            ],
            "text/html": [
              "\n",
              "  <div id=\"df-506af7b7-7095-4a93-97a6-9e80cf41f631\">\n",
              "    <div class=\"colab-df-container\">\n",
              "      <div>\n",
              "<style scoped>\n",
              "    .dataframe tbody tr th:only-of-type {\n",
              "        vertical-align: middle;\n",
              "    }\n",
              "\n",
              "    .dataframe tbody tr th {\n",
              "        vertical-align: top;\n",
              "    }\n",
              "\n",
              "    .dataframe thead th {\n",
              "        text-align: right;\n",
              "    }\n",
              "</style>\n",
              "<table border=\"1\" class=\"dataframe\">\n",
              "  <thead>\n",
              "    <tr style=\"text-align: right;\">\n",
              "      <th></th>\n",
              "      <th>country</th>\n",
              "      <th>year</th>\n",
              "      <th>sex</th>\n",
              "      <th>age</th>\n",
              "      <th>suicides_no</th>\n",
              "      <th>population</th>\n",
              "      <th>suicides/100k pop</th>\n",
              "      <th>country-year</th>\n",
              "      <th>HDI for year</th>\n",
              "      <th>gdp_for_year ($)</th>\n",
              "      <th>gdp_per_capita ($)</th>\n",
              "      <th>generation</th>\n",
              "    </tr>\n",
              "  </thead>\n",
              "  <tbody>\n",
              "    <tr>\n",
              "      <th>0</th>\n",
              "      <td>Albania</td>\n",
              "      <td>1987</td>\n",
              "      <td>male</td>\n",
              "      <td>15-24 years</td>\n",
              "      <td>21</td>\n",
              "      <td>312900</td>\n",
              "      <td>6.71</td>\n",
              "      <td>Albania1987</td>\n",
              "      <td>NaN</td>\n",
              "      <td>2,156,624,900</td>\n",
              "      <td>796</td>\n",
              "      <td>Generation X</td>\n",
              "    </tr>\n",
              "    <tr>\n",
              "      <th>1</th>\n",
              "      <td>Albania</td>\n",
              "      <td>1987</td>\n",
              "      <td>male</td>\n",
              "      <td>35-54 years</td>\n",
              "      <td>16</td>\n",
              "      <td>308000</td>\n",
              "      <td>5.19</td>\n",
              "      <td>Albania1987</td>\n",
              "      <td>NaN</td>\n",
              "      <td>2,156,624,900</td>\n",
              "      <td>796</td>\n",
              "      <td>Silent</td>\n",
              "    </tr>\n",
              "    <tr>\n",
              "      <th>2</th>\n",
              "      <td>Albania</td>\n",
              "      <td>1987</td>\n",
              "      <td>female</td>\n",
              "      <td>15-24 years</td>\n",
              "      <td>14</td>\n",
              "      <td>289700</td>\n",
              "      <td>4.83</td>\n",
              "      <td>Albania1987</td>\n",
              "      <td>NaN</td>\n",
              "      <td>2,156,624,900</td>\n",
              "      <td>796</td>\n",
              "      <td>Generation X</td>\n",
              "    </tr>\n",
              "    <tr>\n",
              "      <th>3</th>\n",
              "      <td>Albania</td>\n",
              "      <td>1987</td>\n",
              "      <td>male</td>\n",
              "      <td>75+ years</td>\n",
              "      <td>1</td>\n",
              "      <td>21800</td>\n",
              "      <td>4.59</td>\n",
              "      <td>Albania1987</td>\n",
              "      <td>NaN</td>\n",
              "      <td>2,156,624,900</td>\n",
              "      <td>796</td>\n",
              "      <td>G.I. Generation</td>\n",
              "    </tr>\n",
              "    <tr>\n",
              "      <th>4</th>\n",
              "      <td>Albania</td>\n",
              "      <td>1987</td>\n",
              "      <td>male</td>\n",
              "      <td>25-34 years</td>\n",
              "      <td>9</td>\n",
              "      <td>274300</td>\n",
              "      <td>3.28</td>\n",
              "      <td>Albania1987</td>\n",
              "      <td>NaN</td>\n",
              "      <td>2,156,624,900</td>\n",
              "      <td>796</td>\n",
              "      <td>Boomers</td>\n",
              "    </tr>\n",
              "  </tbody>\n",
              "</table>\n",
              "</div>\n",
              "      <button class=\"colab-df-convert\" onclick=\"convertToInteractive('df-506af7b7-7095-4a93-97a6-9e80cf41f631')\"\n",
              "              title=\"Convert this dataframe to an interactive table.\"\n",
              "              style=\"display:none;\">\n",
              "        \n",
              "  <svg xmlns=\"http://www.w3.org/2000/svg\" height=\"24px\"viewBox=\"0 0 24 24\"\n",
              "       width=\"24px\">\n",
              "    <path d=\"M0 0h24v24H0V0z\" fill=\"none\"/>\n",
              "    <path d=\"M18.56 5.44l.94 2.06.94-2.06 2.06-.94-2.06-.94-.94-2.06-.94 2.06-2.06.94zm-11 1L8.5 8.5l.94-2.06 2.06-.94-2.06-.94L8.5 2.5l-.94 2.06-2.06.94zm10 10l.94 2.06.94-2.06 2.06-.94-2.06-.94-.94-2.06-.94 2.06-2.06.94z\"/><path d=\"M17.41 7.96l-1.37-1.37c-.4-.4-.92-.59-1.43-.59-.52 0-1.04.2-1.43.59L10.3 9.45l-7.72 7.72c-.78.78-.78 2.05 0 2.83L4 21.41c.39.39.9.59 1.41.59.51 0 1.02-.2 1.41-.59l7.78-7.78 2.81-2.81c.8-.78.8-2.07 0-2.86zM5.41 20L4 18.59l7.72-7.72 1.47 1.35L5.41 20z\"/>\n",
              "  </svg>\n",
              "      </button>\n",
              "      \n",
              "  <style>\n",
              "    .colab-df-container {\n",
              "      display:flex;\n",
              "      flex-wrap:wrap;\n",
              "      gap: 12px;\n",
              "    }\n",
              "\n",
              "    .colab-df-convert {\n",
              "      background-color: #E8F0FE;\n",
              "      border: none;\n",
              "      border-radius: 50%;\n",
              "      cursor: pointer;\n",
              "      display: none;\n",
              "      fill: #1967D2;\n",
              "      height: 32px;\n",
              "      padding: 0 0 0 0;\n",
              "      width: 32px;\n",
              "    }\n",
              "\n",
              "    .colab-df-convert:hover {\n",
              "      background-color: #E2EBFA;\n",
              "      box-shadow: 0px 1px 2px rgba(60, 64, 67, 0.3), 0px 1px 3px 1px rgba(60, 64, 67, 0.15);\n",
              "      fill: #174EA6;\n",
              "    }\n",
              "\n",
              "    [theme=dark] .colab-df-convert {\n",
              "      background-color: #3B4455;\n",
              "      fill: #D2E3FC;\n",
              "    }\n",
              "\n",
              "    [theme=dark] .colab-df-convert:hover {\n",
              "      background-color: #434B5C;\n",
              "      box-shadow: 0px 1px 3px 1px rgba(0, 0, 0, 0.15);\n",
              "      filter: drop-shadow(0px 1px 2px rgba(0, 0, 0, 0.3));\n",
              "      fill: #FFFFFF;\n",
              "    }\n",
              "  </style>\n",
              "\n",
              "      <script>\n",
              "        const buttonEl =\n",
              "          document.querySelector('#df-506af7b7-7095-4a93-97a6-9e80cf41f631 button.colab-df-convert');\n",
              "        buttonEl.style.display =\n",
              "          google.colab.kernel.accessAllowed ? 'block' : 'none';\n",
              "\n",
              "        async function convertToInteractive(key) {\n",
              "          const element = document.querySelector('#df-506af7b7-7095-4a93-97a6-9e80cf41f631');\n",
              "          const dataTable =\n",
              "            await google.colab.kernel.invokeFunction('convertToInteractive',\n",
              "                                                     [key], {});\n",
              "          if (!dataTable) return;\n",
              "\n",
              "          const docLinkHtml = 'Like what you see? Visit the ' +\n",
              "            '<a target=\"_blank\" href=https://colab.research.google.com/notebooks/data_table.ipynb>data table notebook</a>'\n",
              "            + ' to learn more about interactive tables.';\n",
              "          element.innerHTML = '';\n",
              "          dataTable['output_type'] = 'display_data';\n",
              "          await google.colab.output.renderOutput(dataTable, element);\n",
              "          const docLink = document.createElement('div');\n",
              "          docLink.innerHTML = docLinkHtml;\n",
              "          element.appendChild(docLink);\n",
              "        }\n",
              "      </script>\n",
              "    </div>\n",
              "  </div>\n",
              "  "
            ]
          },
          "metadata": {},
          "execution_count": 2
        }
      ],
      "source": [
        "df = pd.read_csv(\"/content/drive/MyDrive/Faculdade/2022.1/INF 420/Trabalhos/Trabalho final/base/suicide_rate.csv\")\n",
        "df.head()"
      ]
    },
    {
      "cell_type": "code",
      "execution_count": 3,
      "metadata": {
        "id": "2vK27PubeZNp",
        "colab": {
          "base_uri": "https://localhost:8080/"
        },
        "outputId": "da09af34-0b7b-42f8-816a-e00f9022feb0"
      },
      "outputs": [
        {
          "output_type": "execute_result",
          "data": {
            "text/plain": [
              "(27820, 12)"
            ]
          },
          "metadata": {},
          "execution_count": 3
        }
      ],
      "source": [
        "df.shape"
      ]
    },
    {
      "cell_type": "code",
      "source": [
        "df.columns"
      ],
      "metadata": {
        "colab": {
          "base_uri": "https://localhost:8080/"
        },
        "id": "BrXy4cqv-PAA",
        "outputId": "dc3bff72-e7d6-4730-cafa-978691e7b810"
      },
      "execution_count": 4,
      "outputs": [
        {
          "output_type": "execute_result",
          "data": {
            "text/plain": [
              "Index(['country', 'year', 'sex', 'age', 'suicides_no', 'population',\n",
              "       'suicides/100k pop', 'country-year', 'HDI for year',\n",
              "       ' gdp_for_year ($) ', 'gdp_per_capita ($)', 'generation'],\n",
              "      dtype='object')"
            ]
          },
          "metadata": {},
          "execution_count": 4
        }
      ]
    },
    {
      "cell_type": "code",
      "source": [
        "df.columns = ['country', 'year', 'gender', 'age_group', 'suicide_count', 'population', 'suicide_rate', 'country-year', 'HDI for year',\n",
        "                'gdp_for_year', 'gdp_per_capita', 'generation']\n",
        "df.columns"
      ],
      "metadata": {
        "colab": {
          "base_uri": "https://localhost:8080/"
        },
        "id": "WPzLSeK_-V7J",
        "outputId": "69eea911-96b2-4b30-b06b-173d4bb6b193"
      },
      "execution_count": 5,
      "outputs": [
        {
          "output_type": "execute_result",
          "data": {
            "text/plain": [
              "Index(['country', 'year', 'gender', 'age_group', 'suicide_count', 'population',\n",
              "       'suicide_rate', 'country-year', 'HDI for year', 'gdp_for_year',\n",
              "       'gdp_per_capita', 'generation'],\n",
              "      dtype='object')"
            ]
          },
          "metadata": {},
          "execution_count": 5
        }
      ]
    },
    {
      "cell_type": "code",
      "source": [
        "df.info()"
      ],
      "metadata": {
        "colab": {
          "base_uri": "https://localhost:8080/"
        },
        "id": "frECwCXf_HHF",
        "outputId": "d4568582-05ae-40df-a578-40ca11daeb48"
      },
      "execution_count": 6,
      "outputs": [
        {
          "output_type": "stream",
          "name": "stdout",
          "text": [
            "<class 'pandas.core.frame.DataFrame'>\n",
            "RangeIndex: 27820 entries, 0 to 27819\n",
            "Data columns (total 12 columns):\n",
            " #   Column          Non-Null Count  Dtype  \n",
            "---  ------          --------------  -----  \n",
            " 0   country         27820 non-null  object \n",
            " 1   year            27820 non-null  int64  \n",
            " 2   gender          27820 non-null  object \n",
            " 3   age_group       27820 non-null  object \n",
            " 4   suicide_count   27820 non-null  int64  \n",
            " 5   population      27820 non-null  int64  \n",
            " 6   suicide_rate    27820 non-null  float64\n",
            " 7   country-year    27820 non-null  object \n",
            " 8   HDI for year    8364 non-null   float64\n",
            " 9   gdp_for_year    27820 non-null  object \n",
            " 10  gdp_per_capita  27820 non-null  int64  \n",
            " 11  generation      27820 non-null  object \n",
            "dtypes: float64(2), int64(4), object(6)\n",
            "memory usage: 2.5+ MB\n"
          ]
        }
      ]
    },
    {
      "cell_type": "code",
      "source": [
        "# Dataset depois das mudancas de nome\n",
        "\n",
        "df.head()"
      ],
      "metadata": {
        "colab": {
          "base_uri": "https://localhost:8080/",
          "height": 392
        },
        "id": "WLEs0bSwKEK8",
        "outputId": "9a29c0df-2993-4b5c-a447-5310b68a202d"
      },
      "execution_count": 7,
      "outputs": [
        {
          "output_type": "execute_result",
          "data": {
            "text/plain": [
              "   country  year  gender    age_group  suicide_count  population  \\\n",
              "0  Albania  1987    male  15-24 years             21      312900   \n",
              "1  Albania  1987    male  35-54 years             16      308000   \n",
              "2  Albania  1987  female  15-24 years             14      289700   \n",
              "3  Albania  1987    male    75+ years              1       21800   \n",
              "4  Albania  1987    male  25-34 years              9      274300   \n",
              "\n",
              "   suicide_rate country-year  HDI for year   gdp_for_year  gdp_per_capita  \\\n",
              "0          6.71  Albania1987           NaN  2,156,624,900             796   \n",
              "1          5.19  Albania1987           NaN  2,156,624,900             796   \n",
              "2          4.83  Albania1987           NaN  2,156,624,900             796   \n",
              "3          4.59  Albania1987           NaN  2,156,624,900             796   \n",
              "4          3.28  Albania1987           NaN  2,156,624,900             796   \n",
              "\n",
              "        generation  \n",
              "0     Generation X  \n",
              "1           Silent  \n",
              "2     Generation X  \n",
              "3  G.I. Generation  \n",
              "4          Boomers  "
            ],
            "text/html": [
              "\n",
              "  <div id=\"df-c7f0b408-78af-4410-af00-d9835a466d91\">\n",
              "    <div class=\"colab-df-container\">\n",
              "      <div>\n",
              "<style scoped>\n",
              "    .dataframe tbody tr th:only-of-type {\n",
              "        vertical-align: middle;\n",
              "    }\n",
              "\n",
              "    .dataframe tbody tr th {\n",
              "        vertical-align: top;\n",
              "    }\n",
              "\n",
              "    .dataframe thead th {\n",
              "        text-align: right;\n",
              "    }\n",
              "</style>\n",
              "<table border=\"1\" class=\"dataframe\">\n",
              "  <thead>\n",
              "    <tr style=\"text-align: right;\">\n",
              "      <th></th>\n",
              "      <th>country</th>\n",
              "      <th>year</th>\n",
              "      <th>gender</th>\n",
              "      <th>age_group</th>\n",
              "      <th>suicide_count</th>\n",
              "      <th>population</th>\n",
              "      <th>suicide_rate</th>\n",
              "      <th>country-year</th>\n",
              "      <th>HDI for year</th>\n",
              "      <th>gdp_for_year</th>\n",
              "      <th>gdp_per_capita</th>\n",
              "      <th>generation</th>\n",
              "    </tr>\n",
              "  </thead>\n",
              "  <tbody>\n",
              "    <tr>\n",
              "      <th>0</th>\n",
              "      <td>Albania</td>\n",
              "      <td>1987</td>\n",
              "      <td>male</td>\n",
              "      <td>15-24 years</td>\n",
              "      <td>21</td>\n",
              "      <td>312900</td>\n",
              "      <td>6.71</td>\n",
              "      <td>Albania1987</td>\n",
              "      <td>NaN</td>\n",
              "      <td>2,156,624,900</td>\n",
              "      <td>796</td>\n",
              "      <td>Generation X</td>\n",
              "    </tr>\n",
              "    <tr>\n",
              "      <th>1</th>\n",
              "      <td>Albania</td>\n",
              "      <td>1987</td>\n",
              "      <td>male</td>\n",
              "      <td>35-54 years</td>\n",
              "      <td>16</td>\n",
              "      <td>308000</td>\n",
              "      <td>5.19</td>\n",
              "      <td>Albania1987</td>\n",
              "      <td>NaN</td>\n",
              "      <td>2,156,624,900</td>\n",
              "      <td>796</td>\n",
              "      <td>Silent</td>\n",
              "    </tr>\n",
              "    <tr>\n",
              "      <th>2</th>\n",
              "      <td>Albania</td>\n",
              "      <td>1987</td>\n",
              "      <td>female</td>\n",
              "      <td>15-24 years</td>\n",
              "      <td>14</td>\n",
              "      <td>289700</td>\n",
              "      <td>4.83</td>\n",
              "      <td>Albania1987</td>\n",
              "      <td>NaN</td>\n",
              "      <td>2,156,624,900</td>\n",
              "      <td>796</td>\n",
              "      <td>Generation X</td>\n",
              "    </tr>\n",
              "    <tr>\n",
              "      <th>3</th>\n",
              "      <td>Albania</td>\n",
              "      <td>1987</td>\n",
              "      <td>male</td>\n",
              "      <td>75+ years</td>\n",
              "      <td>1</td>\n",
              "      <td>21800</td>\n",
              "      <td>4.59</td>\n",
              "      <td>Albania1987</td>\n",
              "      <td>NaN</td>\n",
              "      <td>2,156,624,900</td>\n",
              "      <td>796</td>\n",
              "      <td>G.I. Generation</td>\n",
              "    </tr>\n",
              "    <tr>\n",
              "      <th>4</th>\n",
              "      <td>Albania</td>\n",
              "      <td>1987</td>\n",
              "      <td>male</td>\n",
              "      <td>25-34 years</td>\n",
              "      <td>9</td>\n",
              "      <td>274300</td>\n",
              "      <td>3.28</td>\n",
              "      <td>Albania1987</td>\n",
              "      <td>NaN</td>\n",
              "      <td>2,156,624,900</td>\n",
              "      <td>796</td>\n",
              "      <td>Boomers</td>\n",
              "    </tr>\n",
              "  </tbody>\n",
              "</table>\n",
              "</div>\n",
              "      <button class=\"colab-df-convert\" onclick=\"convertToInteractive('df-c7f0b408-78af-4410-af00-d9835a466d91')\"\n",
              "              title=\"Convert this dataframe to an interactive table.\"\n",
              "              style=\"display:none;\">\n",
              "        \n",
              "  <svg xmlns=\"http://www.w3.org/2000/svg\" height=\"24px\"viewBox=\"0 0 24 24\"\n",
              "       width=\"24px\">\n",
              "    <path d=\"M0 0h24v24H0V0z\" fill=\"none\"/>\n",
              "    <path d=\"M18.56 5.44l.94 2.06.94-2.06 2.06-.94-2.06-.94-.94-2.06-.94 2.06-2.06.94zm-11 1L8.5 8.5l.94-2.06 2.06-.94-2.06-.94L8.5 2.5l-.94 2.06-2.06.94zm10 10l.94 2.06.94-2.06 2.06-.94-2.06-.94-.94-2.06-.94 2.06-2.06.94z\"/><path d=\"M17.41 7.96l-1.37-1.37c-.4-.4-.92-.59-1.43-.59-.52 0-1.04.2-1.43.59L10.3 9.45l-7.72 7.72c-.78.78-.78 2.05 0 2.83L4 21.41c.39.39.9.59 1.41.59.51 0 1.02-.2 1.41-.59l7.78-7.78 2.81-2.81c.8-.78.8-2.07 0-2.86zM5.41 20L4 18.59l7.72-7.72 1.47 1.35L5.41 20z\"/>\n",
              "  </svg>\n",
              "      </button>\n",
              "      \n",
              "  <style>\n",
              "    .colab-df-container {\n",
              "      display:flex;\n",
              "      flex-wrap:wrap;\n",
              "      gap: 12px;\n",
              "    }\n",
              "\n",
              "    .colab-df-convert {\n",
              "      background-color: #E8F0FE;\n",
              "      border: none;\n",
              "      border-radius: 50%;\n",
              "      cursor: pointer;\n",
              "      display: none;\n",
              "      fill: #1967D2;\n",
              "      height: 32px;\n",
              "      padding: 0 0 0 0;\n",
              "      width: 32px;\n",
              "    }\n",
              "\n",
              "    .colab-df-convert:hover {\n",
              "      background-color: #E2EBFA;\n",
              "      box-shadow: 0px 1px 2px rgba(60, 64, 67, 0.3), 0px 1px 3px 1px rgba(60, 64, 67, 0.15);\n",
              "      fill: #174EA6;\n",
              "    }\n",
              "\n",
              "    [theme=dark] .colab-df-convert {\n",
              "      background-color: #3B4455;\n",
              "      fill: #D2E3FC;\n",
              "    }\n",
              "\n",
              "    [theme=dark] .colab-df-convert:hover {\n",
              "      background-color: #434B5C;\n",
              "      box-shadow: 0px 1px 3px 1px rgba(0, 0, 0, 0.15);\n",
              "      filter: drop-shadow(0px 1px 2px rgba(0, 0, 0, 0.3));\n",
              "      fill: #FFFFFF;\n",
              "    }\n",
              "  </style>\n",
              "\n",
              "      <script>\n",
              "        const buttonEl =\n",
              "          document.querySelector('#df-c7f0b408-78af-4410-af00-d9835a466d91 button.colab-df-convert');\n",
              "        buttonEl.style.display =\n",
              "          google.colab.kernel.accessAllowed ? 'block' : 'none';\n",
              "\n",
              "        async function convertToInteractive(key) {\n",
              "          const element = document.querySelector('#df-c7f0b408-78af-4410-af00-d9835a466d91');\n",
              "          const dataTable =\n",
              "            await google.colab.kernel.invokeFunction('convertToInteractive',\n",
              "                                                     [key], {});\n",
              "          if (!dataTable) return;\n",
              "\n",
              "          const docLinkHtml = 'Like what you see? Visit the ' +\n",
              "            '<a target=\"_blank\" href=https://colab.research.google.com/notebooks/data_table.ipynb>data table notebook</a>'\n",
              "            + ' to learn more about interactive tables.';\n",
              "          element.innerHTML = '';\n",
              "          dataTable['output_type'] = 'display_data';\n",
              "          await google.colab.output.renderOutput(dataTable, element);\n",
              "          const docLink = document.createElement('div');\n",
              "          docLink.innerHTML = docLinkHtml;\n",
              "          element.appendChild(docLink);\n",
              "        }\n",
              "      </script>\n",
              "    </div>\n",
              "  </div>\n",
              "  "
            ]
          },
          "metadata": {},
          "execution_count": 7
        }
      ]
    },
    {
      "cell_type": "code",
      "source": [
        "print(\"Quantidade de dados com base no grupo: \")\n",
        "\n",
        "print(\"\\nGrupo de idade: \")\n",
        "print(df.age_group.value_counts())\n",
        "\n",
        "print(\"\\nSexo: \")\n",
        "print(df.gender.value_counts())\n",
        "\n",
        "print(\"\\nGeracao: \")\n",
        "df.generation.value_counts()"
      ],
      "metadata": {
        "colab": {
          "base_uri": "https://localhost:8080/"
        },
        "id": "d34mfuwb_NAO",
        "outputId": "1616566d-d449-48cc-b10f-c5d910a8d2ad"
      },
      "execution_count": 8,
      "outputs": [
        {
          "output_type": "stream",
          "name": "stdout",
          "text": [
            "Quantidade de dados com base no grupo: \n",
            "\n",
            "Grupo de idade: \n",
            "15-24 years    4642\n",
            "35-54 years    4642\n",
            "75+ years      4642\n",
            "25-34 years    4642\n",
            "55-74 years    4642\n",
            "5-14 years     4610\n",
            "Name: age_group, dtype: int64\n",
            "\n",
            "Sexo: \n",
            "male      13910\n",
            "female    13910\n",
            "Name: gender, dtype: int64\n",
            "\n",
            "Geracao: \n"
          ]
        },
        {
          "output_type": "execute_result",
          "data": {
            "text/plain": [
              "Generation X       6408\n",
              "Silent             6364\n",
              "Millenials         5844\n",
              "Boomers            4990\n",
              "G.I. Generation    2744\n",
              "Generation Z       1470\n",
              "Name: generation, dtype: int64"
            ]
          },
          "metadata": {},
          "execution_count": 8
        }
      ]
    },
    {
      "cell_type": "code",
      "source": [
        "countries = df[\"country\"].unique()\n",
        "print(\"Quantidade de paises: \", len(countries))\n",
        "countries"
      ],
      "metadata": {
        "colab": {
          "base_uri": "https://localhost:8080/"
        },
        "id": "GuMp-LkdHdhg",
        "outputId": "f9729260-65f6-49d0-b9a5-2c8522a5d935"
      },
      "execution_count": 9,
      "outputs": [
        {
          "output_type": "stream",
          "name": "stdout",
          "text": [
            "Quantidade de paises:  101\n"
          ]
        },
        {
          "output_type": "execute_result",
          "data": {
            "text/plain": [
              "array(['Albania', 'Antigua and Barbuda', 'Argentina', 'Armenia', 'Aruba',\n",
              "       'Australia', 'Austria', 'Azerbaijan', 'Bahamas', 'Bahrain',\n",
              "       'Barbados', 'Belarus', 'Belgium', 'Belize',\n",
              "       'Bosnia and Herzegovina', 'Brazil', 'Bulgaria', 'Cabo Verde',\n",
              "       'Canada', 'Chile', 'Colombia', 'Costa Rica', 'Croatia', 'Cuba',\n",
              "       'Cyprus', 'Czech Republic', 'Denmark', 'Dominica', 'Ecuador',\n",
              "       'El Salvador', 'Estonia', 'Fiji', 'Finland', 'France', 'Georgia',\n",
              "       'Germany', 'Greece', 'Grenada', 'Guatemala', 'Guyana', 'Hungary',\n",
              "       'Iceland', 'Ireland', 'Israel', 'Italy', 'Jamaica', 'Japan',\n",
              "       'Kazakhstan', 'Kiribati', 'Kuwait', 'Kyrgyzstan', 'Latvia',\n",
              "       'Lithuania', 'Luxembourg', 'Macau', 'Maldives', 'Malta',\n",
              "       'Mauritius', 'Mexico', 'Mongolia', 'Montenegro', 'Netherlands',\n",
              "       'New Zealand', 'Nicaragua', 'Norway', 'Oman', 'Panama', 'Paraguay',\n",
              "       'Philippines', 'Poland', 'Portugal', 'Puerto Rico', 'Qatar',\n",
              "       'Republic of Korea', 'Romania', 'Russian Federation',\n",
              "       'Saint Kitts and Nevis', 'Saint Lucia',\n",
              "       'Saint Vincent and Grenadines', 'San Marino', 'Serbia',\n",
              "       'Seychelles', 'Singapore', 'Slovakia', 'Slovenia', 'South Africa',\n",
              "       'Spain', 'Sri Lanka', 'Suriname', 'Sweden', 'Switzerland',\n",
              "       'Thailand', 'Trinidad and Tobago', 'Turkey', 'Turkmenistan',\n",
              "       'Ukraine', 'United Arab Emirates', 'United Kingdom',\n",
              "       'United States', 'Uruguay', 'Uzbekistan'], dtype=object)"
            ]
          },
          "metadata": {},
          "execution_count": 9
        }
      ]
    },
    {
      "cell_type": "markdown",
      "source": [
        "## Visualizando o dataset"
      ],
      "metadata": {
        "id": "pFl7Sj4KH0I5"
      }
    },
    {
      "cell_type": "code",
      "source": [
        "# Genero e suicidio\n",
        "\n",
        "plt.figure(figsize=(10,3))\n",
        "sns.barplot(x=df.suicide_count, y=df.gender)\n",
        "plt.title(\"Genero - Suicidio\")\n",
        "plt.show()"
      ],
      "metadata": {
        "colab": {
          "base_uri": "https://localhost:8080/",
          "height": 242
        },
        "id": "V7v_TqxqIFRj",
        "outputId": "d138f4c0-bf61-400f-b31a-f21230a93218"
      },
      "execution_count": 10,
      "outputs": [
        {
          "output_type": "display_data",
          "data": {
            "text/plain": [
              "<Figure size 720x216 with 1 Axes>"
            ],
            "image/png": "[encoded data removed]"
          },
          "metadata": {
            "needs_background": "light"
          }
        }
      ]
    },
    {
      "cell_type": "code",
      "source": [
        "# Baseado no grupo de idade \n",
        "\n",
        "plt.figure(figsize=(10,3))\n",
        "sns.barplot(x = \"age_group\", y = \"suicide_count\", hue = \"gender\", data = df)\n",
        "plt.title(\"Grupo de idade - Genero\")\n",
        "plt.show()"
      ],
      "metadata": {
        "colab": {
          "base_uri": "https://localhost:8080/",
          "height": 241
        },
        "id": "CDR8R6qnI09R",
        "outputId": "8cd54927-c971-454f-eaf0-b80f0ad6feaf"
      },
      "execution_count": 11,
      "outputs": [
        {
          "output_type": "display_data",
          "data": {
            "text/plain": [
              "<Figure size 720x216 with 1 Axes>"
            ],
            "image/png": "[encoded data removed]"
          },
          "metadata": {
            "needs_background": "light"
          }
        }
      ]
    },
    {
      "cell_type": "code",
      "source": [
        "#Geracao - Genero\n",
        "\n",
        "plt.figure(figsize=(9,5))\n",
        "sns.barplot(x = \"generation\", y = \"suicide_count\", hue = \"gender\", data = df)\n",
        "plt.title('Geracao - Genero')\n",
        "plt.show()"
      ],
      "metadata": {
        "colab": {
          "base_uri": "https://localhost:8080/",
          "height": 350
        },
        "id": "x454daU5JOkW",
        "outputId": "7f4a2970-554c-473e-ebf8-0bd0329ac8ed"
      },
      "execution_count": 12,
      "outputs": [
        {
          "output_type": "display_data",
          "data": {
            "text/plain": [
              "<Figure size 648x360 with 1 Axes>"
            ],
            "image/png": "[encoded data removed]"
          },
          "metadata": {
            "needs_background": "light"
          }
        }
      ]
    },
    {
      "cell_type": "code",
      "source": [
        "# 5 paises com maiores numeros de suicidio totais\n",
        "\n",
        "top5 = df[['country','suicide_count']].groupby(['country']).sum().sort_values(by=\"suicide_count\", ascending=False)[:5]\n",
        "\n",
        "topdf = pd.DataFrame(top5)\n",
        "\n",
        "plt.figure(figsize=(9,5))\n",
        "topdf.plot.bar(rot=20)\n",
        "plt.title(\"Os 5 maiores paises com numero total de suicidios\")\n",
        "plt.show()\n",
        "\n"
      ],
      "metadata": {
        "colab": {
          "base_uri": "https://localhost:8080/",
          "height": 344
        },
        "id": "FN1PMX0uXoJT",
        "outputId": "f25fdaae-45c1-4284-e9ef-77fd6c461ab8"
      },
      "execution_count": 13,
      "outputs": [
        {
          "output_type": "display_data",
          "data": {
            "text/plain": [
              "<Figure size 648x360 with 0 Axes>"
            ]
          },
          "metadata": {}
        },
        {
          "output_type": "display_data",
          "data": {
            "text/plain": [
              "<Figure size 432x288 with 1 Axes>"
            ],
            "image/png": "[encoded data removed]"
          },
          "metadata": {
            "needs_background": "light"
          }
        }
      ]
    },
    {
      "cell_type": "code",
      "source": [
        "# Grafico de linha continua sobre a quantidade de suicidio com o decorrer dos anos\n",
        "\n",
        "df[['year','suicide_count']].groupby(['year']).sum().plot()"
      ],
      "metadata": {
        "colab": {
          "base_uri": "https://localhost:8080/",
          "height": 296
        },
        "id": "7s4Y1l0iJqP1",
        "outputId": "3d861bdc-02e2-40c1-d571-2f26f742dd89"
      },
      "execution_count": 14,
      "outputs": [
        {
          "output_type": "execute_result",
          "data": {
            "text/plain": [
              "<matplotlib.axes._subplots.AxesSubplot at 0x7f063908f490>"
            ]
          },
          "metadata": {},
          "execution_count": 14
        },
        {
          "output_type": "display_data",
          "data": {
            "text/plain": [
              "<Figure size 432x288 with 1 Axes>"
            ],
            "image/png": "[encoded data removed]"
          },
          "metadata": {
            "needs_background": "light"
          }
        }
      ]
    },
    {
      "cell_type": "markdown",
      "source": [
        "## Pre-processamento do dataset"
      ],
      "metadata": {
        "id": "Eu4C5G9sIQc0"
      }
    },
    {
      "cell_type": "code",
      "execution_count": 15,
      "metadata": {
        "id": "RomeYSCYegxw"
      },
      "outputs": [],
      "source": [
        "# Retira as linhas com dados inconsistentes\n",
        "def dropNanFromCsv(dataset):\n",
        "  notNullDataset = dataset.dropna()\n",
        "  return notNullDataset\n",
        "\n",
        "  \n",
        "def groupBy(self, group):\n",
        "  return self.suicide_dataset.groupby([group])"
      ]
    },
    {
      "cell_type": "code",
      "source": [
        "# Analizando quantos dos dados sao inconsistentes (null)\n",
        "\n",
        "df.isnull().sum()"
      ],
      "metadata": {
        "colab": {
          "base_uri": "https://localhost:8080/"
        },
        "id": "KAmsw3HoKPQD",
        "outputId": "845678be-2574-4693-c631-0da10ee65109"
      },
      "execution_count": 16,
      "outputs": [
        {
          "output_type": "execute_result",
          "data": {
            "text/plain": [
              "country               0\n",
              "year                  0\n",
              "gender                0\n",
              "age_group             0\n",
              "suicide_count         0\n",
              "population            0\n",
              "suicide_rate          0\n",
              "country-year          0\n",
              "HDI for year      19456\n",
              "gdp_for_year          0\n",
              "gdp_per_capita        0\n",
              "generation            0\n",
              "dtype: int64"
            ]
          },
          "metadata": {},
          "execution_count": 16
        }
      ]
    },
    {
      "cell_type": "code",
      "source": [
        "# Como a maioria das linhas possuem HDI_for_year null, vamos remove-la do dataframe\n",
        "\n",
        "df = df.drop([\"HDI for year\"], axis=1)\n",
        "\n",
        "df.head()\n",
        "\n"
      ],
      "metadata": {
        "colab": {
          "base_uri": "https://localhost:8080/",
          "height": 374
        },
        "id": "TNcFe-GqKazp",
        "outputId": "1c66ef02-d8b1-47bc-bb9a-86d989d37e4d"
      },
      "execution_count": 17,
      "outputs": [
        {
          "output_type": "execute_result",
          "data": {
            "text/plain": [
              "   country  year  gender    age_group  suicide_count  population  \\\n",
              "0  Albania  1987    male  15-24 years             21      312900   \n",
              "1  Albania  1987    male  35-54 years             16      308000   \n",
              "2  Albania  1987  female  15-24 years             14      289700   \n",
              "3  Albania  1987    male    75+ years              1       21800   \n",
              "4  Albania  1987    male  25-34 years              9      274300   \n",
              "\n",
              "   suicide_rate country-year   gdp_for_year  gdp_per_capita       generation  \n",
              "0          6.71  Albania1987  2,156,624,900             796     Generation X  \n",
              "1          5.19  Albania1987  2,156,624,900             796           Silent  \n",
              "2          4.83  Albania1987  2,156,624,900             796     Generation X  \n",
              "3          4.59  Albania1987  2,156,624,900             796  G.I. Generation  \n",
              "4          3.28  Albania1987  2,156,624,900             796          Boomers  "
            ],
            "text/html": [
              "\n",
              "  <div id=\"df-e09a0db3-a65b-4c8e-8168-6ffd55b1fbbf\">\n",
              "    <div class=\"colab-df-container\">\n",
              "      <div>\n",
              "<style scoped>\n",
              "    .dataframe tbody tr th:only-of-type {\n",
              "        vertical-align: middle;\n",
              "    }\n",
              "\n",
              "    .dataframe tbody tr th {\n",
              "        vertical-align: top;\n",
              "    }\n",
              "\n",
              "    .dataframe thead th {\n",
              "        text-align: right;\n",
              "    }\n",
              "</style>\n",
              "<table border=\"1\" class=\"dataframe\">\n",
              "  <thead>\n",
              "    <tr style=\"text-align: right;\">\n",
              "      <th></th>\n",
              "      <th>country</th>\n",
              "      <th>year</th>\n",
              "      <th>gender</th>\n",
              "      <th>age_group</th>\n",
              "      <th>suicide_count</th>\n",
              "      <th>population</th>\n",
              "      <th>suicide_rate</th>\n",
              "      <th>country-year</th>\n",
              "      <th>gdp_for_year</th>\n",
              "      <th>gdp_per_capita</th>\n",
              "      <th>generation</th>\n",
              "    </tr>\n",
              "  </thead>\n",
              "  <tbody>\n",
              "    <tr>\n",
              "      <th>0</th>\n",
              "      <td>Albania</td>\n",
              "      <td>1987</td>\n",
              "      <td>male</td>\n",
              "      <td>15-24 years</td>\n",
              "      <td>21</td>\n",
              "      <td>312900</td>\n",
              "      <td>6.71</td>\n",
              "      <td>Albania1987</td>\n",
              "      <td>2,156,624,900</td>\n",
              "      <td>796</td>\n",
              "      <td>Generation X</td>\n",
              "    </tr>\n",
              "    <tr>\n",
              "      <th>1</th>\n",
              "      <td>Albania</td>\n",
              "      <td>1987</td>\n",
              "      <td>male</td>\n",
              "      <td>35-54 years</td>\n",
              "      <td>16</td>\n",
              "      <td>308000</td>\n",
              "      <td>5.19</td>\n",
              "      <td>Albania1987</td>\n",
              "      <td>2,156,624,900</td>\n",
              "      <td>796</td>\n",
              "      <td>Silent</td>\n",
              "    </tr>\n",
              "    <tr>\n",
              "      <th>2</th>\n",
              "      <td>Albania</td>\n",
              "      <td>1987</td>\n",
              "      <td>female</td>\n",
              "      <td>15-24 years</td>\n",
              "      <td>14</td>\n",
              "      <td>289700</td>\n",
              "      <td>4.83</td>\n",
              "      <td>Albania1987</td>\n",
              "      <td>2,156,624,900</td>\n",
              "      <td>796</td>\n",
              "      <td>Generation X</td>\n",
              "    </tr>\n",
              "    <tr>\n",
              "      <th>3</th>\n",
              "      <td>Albania</td>\n",
              "      <td>1987</td>\n",
              "      <td>male</td>\n",
              "      <td>75+ years</td>\n",
              "      <td>1</td>\n",
              "      <td>21800</td>\n",
              "      <td>4.59</td>\n",
              "      <td>Albania1987</td>\n",
              "      <td>2,156,624,900</td>\n",
              "      <td>796</td>\n",
              "      <td>G.I. Generation</td>\n",
              "    </tr>\n",
              "    <tr>\n",
              "      <th>4</th>\n",
              "      <td>Albania</td>\n",
              "      <td>1987</td>\n",
              "      <td>male</td>\n",
              "      <td>25-34 years</td>\n",
              "      <td>9</td>\n",
              "      <td>274300</td>\n",
              "      <td>3.28</td>\n",
              "      <td>Albania1987</td>\n",
              "      <td>2,156,624,900</td>\n",
              "      <td>796</td>\n",
              "      <td>Boomers</td>\n",
              "    </tr>\n",
              "  </tbody>\n",
              "</table>\n",
              "</div>\n",
              "      <button class=\"colab-df-convert\" onclick=\"convertToInteractive('df-e09a0db3-a65b-4c8e-8168-6ffd55b1fbbf')\"\n",
              "              title=\"Convert this dataframe to an interactive table.\"\n",
              "              style=\"display:none;\">\n",
              "        \n",
              "  <svg xmlns=\"http://www.w3.org/2000/svg\" height=\"24px\"viewBox=\"0 0 24 24\"\n",
              "       width=\"24px\">\n",
              "    <path d=\"M0 0h24v24H0V0z\" fill=\"none\"/>\n",
              "    <path d=\"M18.56 5.44l.94 2.06.94-2.06 2.06-.94-2.06-.94-.94-2.06-.94 2.06-2.06.94zm-11 1L8.5 8.5l.94-2.06 2.06-.94-2.06-.94L8.5 2.5l-.94 2.06-2.06.94zm10 10l.94 2.06.94-2.06 2.06-.94-2.06-.94-.94-2.06-.94 2.06-2.06.94z\"/><path d=\"M17.41 7.96l-1.37-1.37c-.4-.4-.92-.59-1.43-.59-.52 0-1.04.2-1.43.59L10.3 9.45l-7.72 7.72c-.78.78-.78 2.05 0 2.83L4 21.41c.39.39.9.59 1.41.59.51 0 1.02-.2 1.41-.59l7.78-7.78 2.81-2.81c.8-.78.8-2.07 0-2.86zM5.41 20L4 18.59l7.72-7.72 1.47 1.35L5.41 20z\"/>\n",
              "  </svg>\n",
              "      </button>\n",
              "      \n",
              "  <style>\n",
              "    .colab-df-container {\n",
              "      display:flex;\n",
              "      flex-wrap:wrap;\n",
              "      gap: 12px;\n",
              "    }\n",
              "\n",
              "    .colab-df-convert {\n",
              "      background-color: #E8F0FE;\n",
              "      border: none;\n",
              "      border-radius: 50%;\n",
              "      cursor: pointer;\n",
              "      display: none;\n",
              "      fill: #1967D2;\n",
              "      height: 32px;\n",
              "      padding: 0 0 0 0;\n",
              "      width: 32px;\n",
              "    }\n",
              "\n",
              "    .colab-df-convert:hover {\n",
              "      background-color: #E2EBFA;\n",
              "      box-shadow: 0px 1px 2px rgba(60, 64, 67, 0.3), 0px 1px 3px 1px rgba(60, 64, 67, 0.15);\n",
              "      fill: #174EA6;\n",
              "    }\n",
              "\n",
              "    [theme=dark] .colab-df-convert {\n",
              "      background-color: #3B4455;\n",
              "      fill: #D2E3FC;\n",
              "    }\n",
              "\n",
              "    [theme=dark] .colab-df-convert:hover {\n",
              "      background-color: #434B5C;\n",
              "      box-shadow: 0px 1px 3px 1px rgba(0, 0, 0, 0.15);\n",
              "      filter: drop-shadow(0px 1px 2px rgba(0, 0, 0, 0.3));\n",
              "      fill: #FFFFFF;\n",
              "    }\n",
              "  </style>\n",
              "\n",
              "      <script>\n",
              "        const buttonEl =\n",
              "          document.querySelector('#df-e09a0db3-a65b-4c8e-8168-6ffd55b1fbbf button.colab-df-convert');\n",
              "        buttonEl.style.display =\n",
              "          google.colab.kernel.accessAllowed ? 'block' : 'none';\n",
              "\n",
              "        async function convertToInteractive(key) {\n",
              "          const element = document.querySelector('#df-e09a0db3-a65b-4c8e-8168-6ffd55b1fbbf');\n",
              "          const dataTable =\n",
              "            await google.colab.kernel.invokeFunction('convertToInteractive',\n",
              "                                                     [key], {});\n",
              "          if (!dataTable) return;\n",
              "\n",
              "          const docLinkHtml = 'Like what you see? Visit the ' +\n",
              "            '<a target=\"_blank\" href=https://colab.research.google.com/notebooks/data_table.ipynb>data table notebook</a>'\n",
              "            + ' to learn more about interactive tables.';\n",
              "          element.innerHTML = '';\n",
              "          dataTable['output_type'] = 'display_data';\n",
              "          await google.colab.output.renderOutput(dataTable, element);\n",
              "          const docLink = document.createElement('div');\n",
              "          docLink.innerHTML = docLinkHtml;\n",
              "          element.appendChild(docLink);\n",
              "        }\n",
              "      </script>\n",
              "    </div>\n",
              "  </div>\n",
              "  "
            ]
          },
          "metadata": {},
          "execution_count": 17
        }
      ]
    },
    {
      "cell_type": "code",
      "source": [
        "# a coluna countr-year eh apenas uma juncao do pais com o ano, nao sera util para nosso estudo, entao vamos remove-la do dataframe\n",
        "\n",
        "df = df.drop([\"country-year\"], axis=1)\n",
        "\n",
        "df.head()"
      ],
      "metadata": {
        "colab": {
          "base_uri": "https://localhost:8080/",
          "height": 357
        },
        "id": "7HJkEe8VKzZ4",
        "outputId": "9286497b-8ee5-4956-ebe2-f76951a1c732"
      },
      "execution_count": 18,
      "outputs": [
        {
          "output_type": "execute_result",
          "data": {
            "text/plain": [
              "   country  year  gender    age_group  suicide_count  population  \\\n",
              "0  Albania  1987    male  15-24 years             21      312900   \n",
              "1  Albania  1987    male  35-54 years             16      308000   \n",
              "2  Albania  1987  female  15-24 years             14      289700   \n",
              "3  Albania  1987    male    75+ years              1       21800   \n",
              "4  Albania  1987    male  25-34 years              9      274300   \n",
              "\n",
              "   suicide_rate   gdp_for_year  gdp_per_capita       generation  \n",
              "0          6.71  2,156,624,900             796     Generation X  \n",
              "1          5.19  2,156,624,900             796           Silent  \n",
              "2          4.83  2,156,624,900             796     Generation X  \n",
              "3          4.59  2,156,624,900             796  G.I. Generation  \n",
              "4          3.28  2,156,624,900             796          Boomers  "
            ],
            "text/html": [
              "\n",
              "  <div id=\"df-879c2103-3d24-49ee-9459-d4707a3f55d3\">\n",
              "    <div class=\"colab-df-container\">\n",
              "      <div>\n",
              "<style scoped>\n",
              "    .dataframe tbody tr th:only-of-type {\n",
              "        vertical-align: middle;\n",
              "    }\n",
              "\n",
              "    .dataframe tbody tr th {\n",
              "        vertical-align: top;\n",
              "    }\n",
              "\n",
              "    .dataframe thead th {\n",
              "        text-align: right;\n",
              "    }\n",
              "</style>\n",
              "<table border=\"1\" class=\"dataframe\">\n",
              "  <thead>\n",
              "    <tr style=\"text-align: right;\">\n",
              "      <th></th>\n",
              "      <th>country</th>\n",
              "      <th>year</th>\n",
              "      <th>gender</th>\n",
              "      <th>age_group</th>\n",
              "      <th>suicide_count</th>\n",
              "      <th>population</th>\n",
              "      <th>suicide_rate</th>\n",
              "      <th>gdp_for_year</th>\n",
              "      <th>gdp_per_capita</th>\n",
              "      <th>generation</th>\n",
              "    </tr>\n",
              "  </thead>\n",
              "  <tbody>\n",
              "    <tr>\n",
              "      <th>0</th>\n",
              "      <td>Albania</td>\n",
              "      <td>1987</td>\n",
              "      <td>male</td>\n",
              "      <td>15-24 years</td>\n",
              "      <td>21</td>\n",
              "      <td>312900</td>\n",
              "      <td>6.71</td>\n",
              "      <td>2,156,624,900</td>\n",
              "      <td>796</td>\n",
              "      <td>Generation X</td>\n",
              "    </tr>\n",
              "    <tr>\n",
              "      <th>1</th>\n",
              "      <td>Albania</td>\n",
              "      <td>1987</td>\n",
              "      <td>male</td>\n",
              "      <td>35-54 years</td>\n",
              "      <td>16</td>\n",
              "      <td>308000</td>\n",
              "      <td>5.19</td>\n",
              "      <td>2,156,624,900</td>\n",
              "      <td>796</td>\n",
              "      <td>Silent</td>\n",
              "    </tr>\n",
              "    <tr>\n",
              "      <th>2</th>\n",
              "      <td>Albania</td>\n",
              "      <td>1987</td>\n",
              "      <td>female</td>\n",
              "      <td>15-24 years</td>\n",
              "      <td>14</td>\n",
              "      <td>289700</td>\n",
              "      <td>4.83</td>\n",
              "      <td>2,156,624,900</td>\n",
              "      <td>796</td>\n",
              "      <td>Generation X</td>\n",
              "    </tr>\n",
              "    <tr>\n",
              "      <th>3</th>\n",
              "      <td>Albania</td>\n",
              "      <td>1987</td>\n",
              "      <td>male</td>\n",
              "      <td>75+ years</td>\n",
              "      <td>1</td>\n",
              "      <td>21800</td>\n",
              "      <td>4.59</td>\n",
              "      <td>2,156,624,900</td>\n",
              "      <td>796</td>\n",
              "      <td>G.I. Generation</td>\n",
              "    </tr>\n",
              "    <tr>\n",
              "      <th>4</th>\n",
              "      <td>Albania</td>\n",
              "      <td>1987</td>\n",
              "      <td>male</td>\n",
              "      <td>25-34 years</td>\n",
              "      <td>9</td>\n",
              "      <td>274300</td>\n",
              "      <td>3.28</td>\n",
              "      <td>2,156,624,900</td>\n",
              "      <td>796</td>\n",
              "      <td>Boomers</td>\n",
              "    </tr>\n",
              "  </tbody>\n",
              "</table>\n",
              "</div>\n",
              "      <button class=\"colab-df-convert\" onclick=\"convertToInteractive('df-879c2103-3d24-49ee-9459-d4707a3f55d3')\"\n",
              "              title=\"Convert this dataframe to an interactive table.\"\n",
              "              style=\"display:none;\">\n",
              "        \n",
              "  <svg xmlns=\"http://www.w3.org/2000/svg\" height=\"24px\"viewBox=\"0 0 24 24\"\n",
              "       width=\"24px\">\n",
              "    <path d=\"M0 0h24v24H0V0z\" fill=\"none\"/>\n",
              "    <path d=\"M18.56 5.44l.94 2.06.94-2.06 2.06-.94-2.06-.94-.94-2.06-.94 2.06-2.06.94zm-11 1L8.5 8.5l.94-2.06 2.06-.94-2.06-.94L8.5 2.5l-.94 2.06-2.06.94zm10 10l.94 2.06.94-2.06 2.06-.94-2.06-.94-.94-2.06-.94 2.06-2.06.94z\"/><path d=\"M17.41 7.96l-1.37-1.37c-.4-.4-.92-.59-1.43-.59-.52 0-1.04.2-1.43.59L10.3 9.45l-7.72 7.72c-.78.78-.78 2.05 0 2.83L4 21.41c.39.39.9.59 1.41.59.51 0 1.02-.2 1.41-.59l7.78-7.78 2.81-2.81c.8-.78.8-2.07 0-2.86zM5.41 20L4 18.59l7.72-7.72 1.47 1.35L5.41 20z\"/>\n",
              "  </svg>\n",
              "      </button>\n",
              "      \n",
              "  <style>\n",
              "    .colab-df-container {\n",
              "      display:flex;\n",
              "      flex-wrap:wrap;\n",
              "      gap: 12px;\n",
              "    }\n",
              "\n",
              "    .colab-df-convert {\n",
              "      background-color: #E8F0FE;\n",
              "      border: none;\n",
              "      border-radius: 50%;\n",
              "      cursor: pointer;\n",
              "      display: none;\n",
              "      fill: #1967D2;\n",
              "      height: 32px;\n",
              "      padding: 0 0 0 0;\n",
              "      width: 32px;\n",
              "    }\n",
              "\n",
              "    .colab-df-convert:hover {\n",
              "      background-color: #E2EBFA;\n",
              "      box-shadow: 0px 1px 2px rgba(60, 64, 67, 0.3), 0px 1px 3px 1px rgba(60, 64, 67, 0.15);\n",
              "      fill: #174EA6;\n",
              "    }\n",
              "\n",
              "    [theme=dark] .colab-df-convert {\n",
              "      background-color: #3B4455;\n",
              "      fill: #D2E3FC;\n",
              "    }\n",
              "\n",
              "    [theme=dark] .colab-df-convert:hover {\n",
              "      background-color: #434B5C;\n",
              "      box-shadow: 0px 1px 3px 1px rgba(0, 0, 0, 0.15);\n",
              "      filter: drop-shadow(0px 1px 2px rgba(0, 0, 0, 0.3));\n",
              "      fill: #FFFFFF;\n",
              "    }\n",
              "  </style>\n",
              "\n",
              "      <script>\n",
              "        const buttonEl =\n",
              "          document.querySelector('#df-879c2103-3d24-49ee-9459-d4707a3f55d3 button.colab-df-convert');\n",
              "        buttonEl.style.display =\n",
              "          google.colab.kernel.accessAllowed ? 'block' : 'none';\n",
              "\n",
              "        async function convertToInteractive(key) {\n",
              "          const element = document.querySelector('#df-879c2103-3d24-49ee-9459-d4707a3f55d3');\n",
              "          const dataTable =\n",
              "            await google.colab.kernel.invokeFunction('convertToInteractive',\n",
              "                                                     [key], {});\n",
              "          if (!dataTable) return;\n",
              "\n",
              "          const docLinkHtml = 'Like what you see? Visit the ' +\n",
              "            '<a target=\"_blank\" href=https://colab.research.google.com/notebooks/data_table.ipynb>data table notebook</a>'\n",
              "            + ' to learn more about interactive tables.';\n",
              "          element.innerHTML = '';\n",
              "          dataTable['output_type'] = 'display_data';\n",
              "          await google.colab.output.renderOutput(dataTable, element);\n",
              "          const docLink = document.createElement('div');\n",
              "          docLink.innerHTML = docLinkHtml;\n",
              "          element.appendChild(docLink);\n",
              "        }\n",
              "      </script>\n",
              "    </div>\n",
              "  </div>\n",
              "  "
            ]
          },
          "metadata": {},
          "execution_count": 18
        }
      ]
    },
    {
      "cell_type": "code",
      "source": [
        "# Agora temos nenhuma linha com dados inconsistentes\n",
        "\n",
        "df.isnull().sum()"
      ],
      "metadata": {
        "colab": {
          "base_uri": "https://localhost:8080/"
        },
        "id": "eSPm3A-RLGyZ",
        "outputId": "7c35143c-c24c-4710-88da-36162cbf3d67"
      },
      "execution_count": 19,
      "outputs": [
        {
          "output_type": "execute_result",
          "data": {
            "text/plain": [
              "country           0\n",
              "year              0\n",
              "gender            0\n",
              "age_group         0\n",
              "suicide_count     0\n",
              "population        0\n",
              "suicide_rate      0\n",
              "gdp_for_year      0\n",
              "gdp_per_capita    0\n",
              "generation        0\n",
              "dtype: int64"
            ]
          },
          "metadata": {},
          "execution_count": 19
        }
      ]
    },
    {
      "cell_type": "markdown",
      "source": [
        "### Transformando as celulas de dados categoricos em numeros (label enconding)"
      ],
      "metadata": {
        "id": "WrRELvLTLRkX"
      }
    },
    {
      "cell_type": "code",
      "source": [
        "# copiando o dataset antes de fazer o encoder para fins de comparacao\n",
        "\n",
        "clean_dataset = df.copy()\n",
        "clean_dataset.info()"
      ],
      "metadata": {
        "colab": {
          "base_uri": "https://localhost:8080/"
        },
        "id": "mVpuJRwgAsgs",
        "outputId": "61a48259-f5fc-4f32-d191-cdb3cb54e023"
      },
      "execution_count": 20,
      "outputs": [
        {
          "output_type": "stream",
          "name": "stdout",
          "text": [
            "<class 'pandas.core.frame.DataFrame'>\n",
            "RangeIndex: 27820 entries, 0 to 27819\n",
            "Data columns (total 10 columns):\n",
            " #   Column          Non-Null Count  Dtype  \n",
            "---  ------          --------------  -----  \n",
            " 0   country         27820 non-null  object \n",
            " 1   year            27820 non-null  int64  \n",
            " 2   gender          27820 non-null  object \n",
            " 3   age_group       27820 non-null  object \n",
            " 4   suicide_count   27820 non-null  int64  \n",
            " 5   population      27820 non-null  int64  \n",
            " 6   suicide_rate    27820 non-null  float64\n",
            " 7   gdp_for_year    27820 non-null  object \n",
            " 8   gdp_per_capita  27820 non-null  int64  \n",
            " 9   generation      27820 non-null  object \n",
            "dtypes: float64(1), int64(4), object(5)\n",
            "memory usage: 2.1+ MB\n"
          ]
        }
      ]
    },
    {
      "cell_type": "code",
      "source": [
        "\n",
        "from sklearn.preprocessing import LabelEncoder\n",
        "categorical = ['year','age_group', 'gender', 'generation' , 'country']\n",
        "le = LabelEncoder()\n",
        "\n",
        "for column in categorical:\n",
        "    df[column] = le.fit_transform(df[column])\n",
        "\n",
        "df.head()"
      ],
      "metadata": {
        "colab": {
          "base_uri": "https://localhost:8080/",
          "height": 270
        },
        "id": "SF8gtK51Lcg5",
        "outputId": "39823aab-231d-41e7-bffd-a7e1c5ebc917"
      },
      "execution_count": 21,
      "outputs": [
        {
          "output_type": "execute_result",
          "data": {
            "text/plain": [
              "   country  year  gender  age_group  suicide_count  population  suicide_rate  \\\n",
              "0        0     2       1          0             21      312900          6.71   \n",
              "1        0     2       1          2             16      308000          5.19   \n",
              "2        0     2       0          0             14      289700          4.83   \n",
              "3        0     2       1          5              1       21800          4.59   \n",
              "4        0     2       1          1              9      274300          3.28   \n",
              "\n",
              "    gdp_for_year  gdp_per_capita  generation  \n",
              "0  2,156,624,900             796           2  \n",
              "1  2,156,624,900             796           5  \n",
              "2  2,156,624,900             796           2  \n",
              "3  2,156,624,900             796           1  \n",
              "4  2,156,624,900             796           0  "
            ],
            "text/html": [
              "\n",
              "  <div id=\"df-14687e84-0c04-45af-9bf8-d9a16c4f9d1e\">\n",
              "    <div class=\"colab-df-container\">\n",
              "      <div>\n",
              "<style scoped>\n",
              "    .dataframe tbody tr th:only-of-type {\n",
              "        vertical-align: middle;\n",
              "    }\n",
              "\n",
              "    .dataframe tbody tr th {\n",
              "        vertical-align: top;\n",
              "    }\n",
              "\n",
              "    .dataframe thead th {\n",
              "        text-align: right;\n",
              "    }\n",
              "</style>\n",
              "<table border=\"1\" class=\"dataframe\">\n",
              "  <thead>\n",
              "    <tr style=\"text-align: right;\">\n",
              "      <th></th>\n",
              "      <th>country</th>\n",
              "      <th>year</th>\n",
              "      <th>gender</th>\n",
              "      <th>age_group</th>\n",
              "      <th>suicide_count</th>\n",
              "      <th>population</th>\n",
              "      <th>suicide_rate</th>\n",
              "      <th>gdp_for_year</th>\n",
              "      <th>gdp_per_capita</th>\n",
              "      <th>generation</th>\n",
              "    </tr>\n",
              "  </thead>\n",
              "  <tbody>\n",
              "    <tr>\n",
              "      <th>0</th>\n",
              "      <td>0</td>\n",
              "      <td>2</td>\n",
              "      <td>1</td>\n",
              "      <td>0</td>\n",
              "      <td>21</td>\n",
              "      <td>312900</td>\n",
              "      <td>6.71</td>\n",
              "      <td>2,156,624,900</td>\n",
              "      <td>796</td>\n",
              "      <td>2</td>\n",
              "    </tr>\n",
              "    <tr>\n",
              "      <th>1</th>\n",
              "      <td>0</td>\n",
              "      <td>2</td>\n",
              "      <td>1</td>\n",
              "      <td>2</td>\n",
              "      <td>16</td>\n",
              "      <td>308000</td>\n",
              "      <td>5.19</td>\n",
              "      <td>2,156,624,900</td>\n",
              "      <td>796</td>\n",
              "      <td>5</td>\n",
              "    </tr>\n",
              "    <tr>\n",
              "      <th>2</th>\n",
              "      <td>0</td>\n",
              "      <td>2</td>\n",
              "      <td>0</td>\n",
              "      <td>0</td>\n",
              "      <td>14</td>\n",
              "      <td>289700</td>\n",
              "      <td>4.83</td>\n",
              "      <td>2,156,624,900</td>\n",
              "      <td>796</td>\n",
              "      <td>2</td>\n",
              "    </tr>\n",
              "    <tr>\n",
              "      <th>3</th>\n",
              "      <td>0</td>\n",
              "      <td>2</td>\n",
              "      <td>1</td>\n",
              "      <td>5</td>\n",
              "      <td>1</td>\n",
              "      <td>21800</td>\n",
              "      <td>4.59</td>\n",
              "      <td>2,156,624,900</td>\n",
              "      <td>796</td>\n",
              "      <td>1</td>\n",
              "    </tr>\n",
              "    <tr>\n",
              "      <th>4</th>\n",
              "      <td>0</td>\n",
              "      <td>2</td>\n",
              "      <td>1</td>\n",
              "      <td>1</td>\n",
              "      <td>9</td>\n",
              "      <td>274300</td>\n",
              "      <td>3.28</td>\n",
              "      <td>2,156,624,900</td>\n",
              "      <td>796</td>\n",
              "      <td>0</td>\n",
              "    </tr>\n",
              "  </tbody>\n",
              "</table>\n",
              "</div>\n",
              "      <button class=\"colab-df-convert\" onclick=\"convertToInteractive('df-14687e84-0c04-45af-9bf8-d9a16c4f9d1e')\"\n",
              "              title=\"Convert this dataframe to an interactive table.\"\n",
              "              style=\"display:none;\">\n",
              "        \n",
              "  <svg xmlns=\"http://www.w3.org/2000/svg\" height=\"24px\"viewBox=\"0 0 24 24\"\n",
              "       width=\"24px\">\n",
              "    <path d=\"M0 0h24v24H0V0z\" fill=\"none\"/>\n",
              "    <path d=\"M18.56 5.44l.94 2.06.94-2.06 2.06-.94-2.06-.94-.94-2.06-.94 2.06-2.06.94zm-11 1L8.5 8.5l.94-2.06 2.06-.94-2.06-.94L8.5 2.5l-.94 2.06-2.06.94zm10 10l.94 2.06.94-2.06 2.06-.94-2.06-.94-.94-2.06-.94 2.06-2.06.94z\"/><path d=\"M17.41 7.96l-1.37-1.37c-.4-.4-.92-.59-1.43-.59-.52 0-1.04.2-1.43.59L10.3 9.45l-7.72 7.72c-.78.78-.78 2.05 0 2.83L4 21.41c.39.39.9.59 1.41.59.51 0 1.02-.2 1.41-.59l7.78-7.78 2.81-2.81c.8-.78.8-2.07 0-2.86zM5.41 20L4 18.59l7.72-7.72 1.47 1.35L5.41 20z\"/>\n",
              "  </svg>\n",
              "      </button>\n",
              "      \n",
              "  <style>\n",
              "    .colab-df-container {\n",
              "      display:flex;\n",
              "      flex-wrap:wrap;\n",
              "      gap: 12px;\n",
              "    }\n",
              "\n",
              "    .colab-df-convert {\n",
              "      background-color: #E8F0FE;\n",
              "      border: none;\n",
              "      border-radius: 50%;\n",
              "      cursor: pointer;\n",
              "      display: none;\n",
              "      fill: #1967D2;\n",
              "      height: 32px;\n",
              "      padding: 0 0 0 0;\n",
              "      width: 32px;\n",
              "    }\n",
              "\n",
              "    .colab-df-convert:hover {\n",
              "      background-color: #E2EBFA;\n",
              "      box-shadow: 0px 1px 2px rgba(60, 64, 67, 0.3), 0px 1px 3px 1px rgba(60, 64, 67, 0.15);\n",
              "      fill: #174EA6;\n",
              "    }\n",
              "\n",
              "    [theme=dark] .colab-df-convert {\n",
              "      background-color: #3B4455;\n",
              "      fill: #D2E3FC;\n",
              "    }\n",
              "\n",
              "    [theme=dark] .colab-df-convert:hover {\n",
              "      background-color: #434B5C;\n",
              "      box-shadow: 0px 1px 3px 1px rgba(0, 0, 0, 0.15);\n",
              "      filter: drop-shadow(0px 1px 2px rgba(0, 0, 0, 0.3));\n",
              "      fill: #FFFFFF;\n",
              "    }\n",
              "  </style>\n",
              "\n",
              "      <script>\n",
              "        const buttonEl =\n",
              "          document.querySelector('#df-14687e84-0c04-45af-9bf8-d9a16c4f9d1e button.colab-df-convert');\n",
              "        buttonEl.style.display =\n",
              "          google.colab.kernel.accessAllowed ? 'block' : 'none';\n",
              "\n",
              "        async function convertToInteractive(key) {\n",
              "          const element = document.querySelector('#df-14687e84-0c04-45af-9bf8-d9a16c4f9d1e');\n",
              "          const dataTable =\n",
              "            await google.colab.kernel.invokeFunction('convertToInteractive',\n",
              "                                                     [key], {});\n",
              "          if (!dataTable) return;\n",
              "\n",
              "          const docLinkHtml = 'Like what you see? Visit the ' +\n",
              "            '<a target=\"_blank\" href=https://colab.research.google.com/notebooks/data_table.ipynb>data table notebook</a>'\n",
              "            + ' to learn more about interactive tables.';\n",
              "          element.innerHTML = '';\n",
              "          dataTable['output_type'] = 'display_data';\n",
              "          await google.colab.output.renderOutput(dataTable, element);\n",
              "          const docLink = document.createElement('div');\n",
              "          docLink.innerHTML = docLinkHtml;\n",
              "          element.appendChild(docLink);\n",
              "        }\n",
              "      </script>\n",
              "    </div>\n",
              "  </div>\n",
              "  "
            ]
          },
          "metadata": {},
          "execution_count": 21
        }
      ]
    },
    {
      "cell_type": "code",
      "source": [
        "df.info()"
      ],
      "metadata": {
        "colab": {
          "base_uri": "https://localhost:8080/"
        },
        "id": "ILxvmWmiV70c",
        "outputId": "72b3f522-5232-44ec-cf8a-2def01c07445"
      },
      "execution_count": 22,
      "outputs": [
        {
          "output_type": "stream",
          "name": "stdout",
          "text": [
            "<class 'pandas.core.frame.DataFrame'>\n",
            "RangeIndex: 27820 entries, 0 to 27819\n",
            "Data columns (total 10 columns):\n",
            " #   Column          Non-Null Count  Dtype  \n",
            "---  ------          --------------  -----  \n",
            " 0   country         27820 non-null  int64  \n",
            " 1   year            27820 non-null  int64  \n",
            " 2   gender          27820 non-null  int64  \n",
            " 3   age_group       27820 non-null  int64  \n",
            " 4   suicide_count   27820 non-null  int64  \n",
            " 5   population      27820 non-null  int64  \n",
            " 6   suicide_rate    27820 non-null  float64\n",
            " 7   gdp_for_year    27820 non-null  object \n",
            " 8   gdp_per_capita  27820 non-null  int64  \n",
            " 9   generation      27820 non-null  int64  \n",
            "dtypes: float64(1), int64(8), object(1)\n",
            "memory usage: 2.1+ MB\n"
          ]
        }
      ]
    },
    {
      "cell_type": "markdown",
      "source": [
        "# Implementacao do modelo"
      ],
      "metadata": {
        "id": "UK75nW2sM4AC"
      }
    },
    {
      "cell_type": "markdown",
      "source": [
        "### Separando o dataframe em teste e validacao"
      ],
      "metadata": {
        "id": "vD-KrghCM8PA"
      }
    },
    {
      "cell_type": "code",
      "source": [
        "y = df[\"suicide_count\"]\n",
        "X = df.drop([\"suicide_rate\", \"suicide_count\", \"generation\", \"gdp_for_year\", \"gdp_per_capita\"], axis=1)\n",
        "\n",
        "\n",
        "print(y.shape)\n",
        "print(X.shape)"
      ],
      "metadata": {
        "colab": {
          "base_uri": "https://localhost:8080/"
        },
        "id": "XM9FNxYwM_aJ",
        "outputId": "af1f80ae-d8b2-4c85-e306-047e415baa5a"
      },
      "execution_count": 23,
      "outputs": [
        {
          "output_type": "stream",
          "name": "stdout",
          "text": [
            "(27820,)\n",
            "(27820, 5)\n"
          ]
        }
      ]
    },
    {
      "cell_type": "code",
      "source": [
        "x_train, x_test, y_train, y_test = train_test_split(X, y, test_size=0.25, random_state=12)\n",
        "\n",
        "print(x_train.shape)\n",
        "print(y_train.shape)\n",
        "print(x_test.shape)\n",
        "print(y_test.shape)"
      ],
      "metadata": {
        "colab": {
          "base_uri": "https://localhost:8080/"
        },
        "id": "_E6HyHqgNSSe",
        "outputId": "d907335f-d38d-4af9-9b39-e72b7465e51c"
      },
      "execution_count": 24,
      "outputs": [
        {
          "output_type": "stream",
          "name": "stdout",
          "text": [
            "(20865, 5)\n",
            "(20865,)\n",
            "(6955, 5)\n",
            "(6955,)\n"
          ]
        }
      ]
    },
    {
      "cell_type": "markdown",
      "source": [
        "## Dados de comparacao entre os metodos"
      ],
      "metadata": {
        "id": "_V4fcmWvc_jr"
      }
    },
    {
      "cell_type": "code",
      "source": [
        "ML_Model = []\n",
        "acc_train_res = []\n",
        "acc_test_res = []\n",
        "rmse_train_res = []\n",
        "rmse_test_res = []\n",
        "r2score_res = []\n",
        "maxError_res = []\n",
        "\n",
        "def storeResults(model, acc_train, acc_test, rmse_train, rmse_test, r2, max):\n",
        "    ML_Model.append(model)\n",
        "    acc_train_res.append(round(acc_train, 3))\n",
        "    acc_test_res.append(round(acc_test, 3))\n",
        "    rmse_train_res.append(round(rmse_train, 3))\n",
        "    rmse_test_res.append(round(rmse_test, 3))\n",
        "    r2score_res.append(round(r2))\n",
        "    maxError_res.append(round(max))\n",
        "\n"
      ],
      "metadata": {
        "id": "K8x45oN6dCuB"
      },
      "execution_count": 25,
      "outputs": []
    },
    {
      "cell_type": "markdown",
      "source": [
        "## Random Forest Regressor"
      ],
      "metadata": {
        "id": "Lin9eDQdNw7G"
      }
    },
    {
      "cell_type": "markdown",
      "source": [
        "### Implementando o modelo"
      ],
      "metadata": {
        "id": "hwF9HwpsN-Fu"
      }
    },
    {
      "cell_type": "code",
      "source": [
        "# RANDOM FOREST REGRESSOR\n",
        "\n",
        "from sklearn.ensemble import RandomForestRegressor\n",
        "\n",
        "forest = RandomForestRegressor(max_depth=20)\n",
        "\n",
        "forest.fit(x_train, y_train)"
      ],
      "metadata": {
        "colab": {
          "base_uri": "https://localhost:8080/"
        },
        "id": "-VWiuaOWNy8f",
        "outputId": "261bf559-c0b2-4842-993f-a55cf7bf65ad"
      },
      "execution_count": 26,
      "outputs": [
        {
          "output_type": "execute_result",
          "data": {
            "text/plain": [
              "RandomForestRegressor(max_depth=20)"
            ]
          },
          "metadata": {},
          "execution_count": 26
        }
      ]
    },
    {
      "cell_type": "code",
      "source": [
        "y_test_forest = forest.predict(x_test)\n",
        "y_train_forest = forest.predict(x_train)"
      ],
      "metadata": {
        "id": "22WXL_TROBBe"
      },
      "execution_count": 27,
      "outputs": []
    },
    {
      "cell_type": "markdown",
      "source": [
        "### Metricas"
      ],
      "metadata": {
        "id": "kUi-WBvTjjcc"
      }
    },
    {
      "cell_type": "code",
      "source": [
        "from sklearn.metrics import mean_squared_error\n",
        "\n",
        "acc_train_forest = forest.score(x_train, y_train) * 100\n",
        "acc_test_forest = forest.score(x_test, y_test) * 100\n",
        "\n",
        "rmse_train_forest = np.sqrt(mean_squared_error(y_train, y_train_forest))\n",
        "rmse_test_forest = np.sqrt(mean_squared_error(y_test, y_test_forest))\n",
        "\n",
        "print(\"Random Forest: Acuracia de treino: {:.3f}%\".format(acc_train_forest))\n",
        "print(\"Random Forest: Acuracia de validacao: {:.3f}%\".format(acc_test_forest))\n",
        "\n",
        "print(\"\\nErro medio de treino: \", rmse_train_forest)\n",
        "print(\"Erro medio de validacao: \", rmse_test_forest)"
      ],
      "metadata": {
        "colab": {
          "base_uri": "https://localhost:8080/"
        },
        "id": "qi24lMF6PGCO",
        "outputId": "e132372e-72b9-4df5-b745-03fa8e4a9829"
      },
      "execution_count": 28,
      "outputs": [
        {
          "output_type": "stream",
          "name": "stdout",
          "text": [
            "Random Forest: Acuracia de treino: 99.743%\n",
            "Random Forest: Acuracia de validacao: 99.114%\n",
            "\n",
            "Erro medio de treino:  46.105675157695266\n",
            "Erro medio de validacao:  82.5345765373461\n"
          ]
        }
      ]
    },
    {
      "cell_type": "code",
      "source": [
        "from sklearn.metrics import r2_score\n",
        "\n",
        "r2score = r2_score(y_test, y_test_forest) * 100\n",
        "\n",
        "print(\"Random Forest R2 score: {:.3f}%\".format(r2score))"
      ],
      "metadata": {
        "colab": {
          "base_uri": "https://localhost:8080/"
        },
        "id": "LPs76jmfjlwC",
        "outputId": "a7298118-81c8-44ba-e093-d0186c3d9c94"
      },
      "execution_count": 29,
      "outputs": [
        {
          "output_type": "stream",
          "name": "stdout",
          "text": [
            "Random Forest R2 score: 99.114%\n"
          ]
        }
      ]
    },
    {
      "cell_type": "code",
      "source": [
        "from sklearn.metrics import max_error\n",
        "\n",
        "maxError = max_error(y_test, y_test_forest)\n",
        "\n",
        "print(\"Random Forest erro maximo: {:.3f}\".format(maxError))"
      ],
      "metadata": {
        "colab": {
          "base_uri": "https://localhost:8080/"
        },
        "id": "-_K9CbkplCsi",
        "outputId": "2fcd7ab1-0e0d-4522-8ed1-dd6bdbc2ebfc"
      },
      "execution_count": 30,
      "outputs": [
        {
          "output_type": "stream",
          "name": "stdout",
          "text": [
            "Random Forest erro maximo: 2110.050\n"
          ]
        }
      ]
    },
    {
      "cell_type": "code",
      "source": [
        "# armazenando os resultados\n",
        "\n",
        "storeResults(\"RandomForest_20\", acc_test=acc_test_forest, acc_train=acc_train_forest, rmse_train=rmse_train_forest, rmse_test=rmse_test_forest, r2=r2score, max=maxError)"
      ],
      "metadata": {
        "id": "cebke6O6gqar"
      },
      "execution_count": 31,
      "outputs": []
    },
    {
      "cell_type": "markdown",
      "source": [
        "### Problemas de overfitting?"
      ],
      "metadata": {
        "id": "P_xjULT4T2TT"
      }
    },
    {
      "cell_type": "code",
      "source": [
        "training_accuracy = []\n",
        "test_accuracy = []\n",
        "\n",
        "depth = range(1, 31)\n",
        "for n in depth:\n",
        "    tree = RandomForestRegressor(max_depth=n)\n",
        "    tree.fit(x_train, y_train)\n",
        "    training_accuracy.append(tree.score(x_train, y_train))\n",
        "    test_accuracy.append(tree.score(x_test, y_test))\n",
        "\n",
        "plt.plot(depth, training_accuracy, label=\"treino\")\n",
        "plt.plot(depth, test_accuracy, label=\"validacao\")\n",
        "plt.ylabel(\"Acuracia\")  \n",
        "plt.xlabel(\"Profundidade\")\n",
        "plt.title(\"Profundidades na Random Forest\")\n",
        "plt.legend()"
      ],
      "metadata": {
        "colab": {
          "base_uri": "https://localhost:8080/",
          "height": 312
        },
        "id": "QAcJuw8OT5je",
        "outputId": "0c8bc7a0-8da6-42be-cacc-67949be7417d"
      },
      "execution_count": 32,
      "outputs": [
        {
          "output_type": "execute_result",
          "data": {
            "text/plain": [
              "<matplotlib.legend.Legend at 0x7f06391aeb10>"
            ]
          },
          "metadata": {},
          "execution_count": 32
        },
        {
          "output_type": "display_data",
          "data": {
            "text/plain": [
              "<Figure size 432x288 with 1 Axes>"
            ],
            "image/png": "[encoded data removed]"
          },
          "metadata": {
            "needs_background": "light"
          }
        }
      ]
    },
    {
      "cell_type": "code",
      "source": [
        "forest = RandomForestRegressor(max_depth=7)\n",
        "\n",
        "forest.fit(x_train, y_train)"
      ],
      "metadata": {
        "colab": {
          "base_uri": "https://localhost:8080/"
        },
        "id": "NqrpKzjqWFiq",
        "outputId": "27889a73-0d96-4d29-e5a1-399e34ff1b2e"
      },
      "execution_count": 33,
      "outputs": [
        {
          "output_type": "execute_result",
          "data": {
            "text/plain": [
              "RandomForestRegressor(max_depth=7)"
            ]
          },
          "metadata": {},
          "execution_count": 33
        }
      ]
    },
    {
      "cell_type": "code",
      "source": [
        "y_test_forest = forest.predict(x_test)\n",
        "y_train_forest = forest.predict(x_train)"
      ],
      "metadata": {
        "id": "-4_P1--FmMLu"
      },
      "execution_count": 34,
      "outputs": []
    },
    {
      "cell_type": "code",
      "source": [
        "acc_train_forest = forest.score(x_train, y_train) * 100\n",
        "acc_test_forest = forest.score(x_test, y_test) * 100\n",
        "\n",
        "rmse_train_forest = np.sqrt(mean_squared_error(y_train, y_train_forest))\n",
        "rmse_test_forest = np.sqrt(mean_squared_error(y_test, y_test_forest))\n",
        "\n",
        "print(\"Random Forest: Acuracia de treino: {:.3f}%\".format(acc_train_forest))\n",
        "print(\"Random Forest: Acuracia de validacao: {:.3f}%\".format(acc_test_forest))\n",
        "\n",
        "print(\"\\nErro medio de treino: \", rmse_train_forest)\n",
        "print(\"Erro medio de validacao: \", rmse_test_forest)\n",
        "\n",
        "from sklearn.metrics import r2_score\n",
        "\n",
        "r2score = r2_score(y_test, y_test_forest) * 100\n",
        "\n",
        "print(\"\\nRandom Forest R2 score: {:.3f}%\".format(r2score))\n",
        "\n",
        "from sklearn.metrics import max_error\n",
        "\n",
        "maxError = max_error(y_test, y_test_forest)\n",
        "\n",
        "print(\"\\nRandom Forest erro maximo: {:.3f}\".format(maxError))"
      ],
      "metadata": {
        "colab": {
          "base_uri": "https://localhost:8080/"
        },
        "id": "gxWTLZDeWLvw",
        "outputId": "85304cae-e10c-4179-cdf8-4fba19db54e1"
      },
      "execution_count": 35,
      "outputs": [
        {
          "output_type": "stream",
          "name": "stdout",
          "text": [
            "Random Forest: Acuracia de treino: 94.308%\n",
            "Random Forest: Acuracia de validacao: 92.371%\n",
            "\n",
            "Erro medio de treino:  217.17413649272058\n",
            "Erro medio de validacao:  242.16660312886805\n",
            "\n",
            "Random Forest R2 score: 92.371%\n",
            "\n",
            "Random Forest erro maximo: 4376.668\n"
          ]
        }
      ]
    },
    {
      "cell_type": "code",
      "source": [
        "# Armazenando para comparacao\n",
        "\n",
        "storeResults(\"RandomForest_7\", acc_test=acc_test_forest, acc_train=acc_train_forest, rmse_train=rmse_train_forest, rmse_test=rmse_test_forest, r2=r2score, max=maxError)"
      ],
      "metadata": {
        "id": "SSZ7045JdRwW"
      },
      "execution_count": 36,
      "outputs": []
    },
    {
      "cell_type": "markdown",
      "source": [
        "### Predicao de uma amostra de tamanho 1"
      ],
      "metadata": {
        "id": "MEtzSG9_OUEN"
      }
    },
    {
      "cell_type": "code",
      "source": [
        "# country, year, gender, age_group, suicide_count, population, gdp_for_year, gdp_per_capta, generation\n",
        "\n",
        "# gdp = PIB\n",
        "\n",
        "\n",
        "# male = 1 | female = 0\n",
        "\n",
        "# 0: 15-24\n",
        "# 1: 25-34\n",
        "# 2: 35-54\n",
        "# 3: 5-14\n",
        "# 4: 55-74\n",
        "# 5: 75+\n",
        "\n",
        "# male: 1 | female: 0\n",
        "\n",
        "# Boomer: 0\n",
        "# GI Generation: 1\n",
        "# Geracao X: 2\n",
        "# Geracao Z: 3\n",
        "# Millenials: 4\n",
        "# Silent: 5\n",
        "\n",
        "# SINGLE PREDICTION\n",
        "\n",
        "pais =  15\n",
        "\n",
        "data = {\n",
        "    'country': [pais],\n",
        "    'year': [40],\n",
        "    'gender': [1],\n",
        "    'age_group': [0],\n",
        "    'population': [31290000],\n",
        "}\n",
        "\n",
        "pred_feat = pd.DataFrame(data)\n",
        "\n",
        "pais = le.inverse_transform([pais])\n",
        "\n",
        "pred = forest.predict(pred_feat)\n",
        "\n",
        "print(\"{} tera {} suicidios aproximadamente\".format(max(pais), max(pred)))\n",
        "\n",
        "#2973.80"
      ],
      "metadata": {
        "colab": {
          "base_uri": "https://localhost:8080/"
        },
        "id": "jr_wRtxTu9gU",
        "outputId": "bcfadcee-9d2a-4e50-fb5f-0ff1180de76b"
      },
      "execution_count": 37,
      "outputs": [
        {
          "output_type": "stream",
          "name": "stdout",
          "text": [
            "Brazil tera 1629.9083962524403 suicidios aproximadamente\n"
          ]
        }
      ]
    },
    {
      "cell_type": "code",
      "source": [
        "def make_prediction(data, model, range, feature):\n",
        "  suicides = []\n",
        "  for i in range:\n",
        "    data[feature] = [i]\n",
        "    pred_feat = pd.DataFrame(data)\n",
        "    pred = model.predict(data)\n",
        "    suicides.append(pred)\n",
        "  return suicides                      "
      ],
      "metadata": {
        "id": "llzEt2Ye7Dg-"
      },
      "execution_count": 38,
      "outputs": []
    },
    {
      "cell_type": "code",
      "source": [
        "a = range(0,6)\n",
        "\n",
        "suicide_per_age_group = []\n",
        "\n",
        "for i in a:\n",
        "  data = {\n",
        "    'country': [57],\n",
        "    'year': [37],\n",
        "    'gender': [1],\n",
        "    'age_group': [i],\n",
        "    'population': [200000000],\n",
        "  }\n",
        "\n",
        "  pred_feat = pd.DataFrame(data)\n",
        "\n",
        "  pred = forest.predict(pred_feat)\n",
        "\n",
        "  suicide_per_age_group.append(pred)\n",
        "\n",
        "print(pd.DataFrame(suicide_per_age_group))\n",
        "\n",
        "pred_feat = pd.DataFrame(data)\n",
        "\n",
        "print(make_prediction(pred_feat, forest, range(0,102), \"country\"))"
      ],
      "metadata": {
        "colab": {
          "base_uri": "https://localhost:8080/"
        },
        "id": "VAka0LvnWwD_",
        "outputId": "2da3abf9-fffd-43d6-c30a-86a93346de59"
      },
      "execution_count": 39,
      "outputs": [
        {
          "output_type": "stream",
          "name": "stdout",
          "text": [
            "             0\n",
            "0  2971.354261\n",
            "1  2975.720701\n",
            "2  4940.822322\n",
            "3   832.413232\n",
            "4  4900.411326\n",
            "5  4900.411326\n",
            "[array([5034.33024561]), array([5034.33024561]), array([5034.33024561]), array([5034.33024561]), array([5034.33024561]), array([5034.33024561]), array([5034.33024561]), array([5034.33024561]), array([5034.33024561]), array([5034.33024561]), array([5034.33024561]), array([5034.33024561]), array([5034.33024561]), array([5034.33024561]), array([5034.33024561]), array([5034.33024561]), array([5034.33024561]), array([5034.33024561]), array([5034.33024561]), array([5034.33024561]), array([5034.33024561]), array([5034.33024561]), array([5034.33024561]), array([5034.33024561]), array([5034.33024561]), array([5110.99324927]), array([5193.78881686]), array([5193.78881686]), array([5193.78881686]), array([5193.78881686]), array([5193.78881686]), array([5193.78881686]), array([5193.78881686]), array([5193.78881686]), array([5193.78881686]), array([5193.78881686]), array([5193.78881686]), array([5193.78881686]), array([5193.78881686]), array([5193.78881686]), array([5136.87612626]), array([5529.02708733]), array([5529.02708733]), array([5529.02708733]), array([5529.02708733]), array([5529.02708733]), array([5705.30756713]), array([5705.30756713]), array([5705.30756713]), array([5705.30756713]), array([5705.30756713]), array([5705.30756713]), array([5705.30756713]), array([4900.41132576]), array([4900.41132576]), array([4900.41132576]), array([4900.41132576]), array([4900.41132576]), array([4900.41132576]), array([4900.41132576]), array([4900.41132576]), array([4900.41132576]), array([4900.41132576]), array([4900.41132576]), array([4900.41132576]), array([4900.41132576]), array([4900.41132576]), array([5067.09965909]), array([5067.09965909]), array([5067.09965909]), array([5067.09965909]), array([5448.43243687]), array([9268.09729365]), array([9268.09729365]), array([9268.09729365]), array([9268.09729365]), array([9268.09729365]), array([9268.09729365]), array([9268.09729365]), array([9268.09729365]), array([9268.09729365]), array([9268.09729365]), array([9268.09729365]), array([9268.09729365]), array([10623.75487302]), array([10623.75487302]), array([10623.75487302]), array([10654.50601443]), array([10654.50601443]), array([10654.50601443]), array([10654.50601443]), array([10654.50601443]), array([10654.50601443]), array([10654.50601443]), array([10654.50601443]), array([10654.50601443]), array([10654.50601443]), array([10654.50601443]), array([10654.50601443]), array([10654.50601443]), array([10654.50601443]), array([10654.50601443])]\n"
          ]
        }
      ]
    },
    {
      "cell_type": "markdown",
      "source": [
        "## Decision tree"
      ],
      "metadata": {
        "id": "TO9vqiXYxGCy"
      }
    },
    {
      "cell_type": "markdown",
      "source": [
        "### Implementando o modelo"
      ],
      "metadata": {
        "id": "hNdW1TJvOGXJ"
      }
    },
    {
      "cell_type": "code",
      "source": [
        "# DECISION TREE\n",
        "\n",
        "from sklearn.tree import DecisionTreeRegressor\n",
        "\n",
        "tree = DecisionTreeRegressor(max_depth = 20)\n",
        "\n",
        "tree.fit(x_train, y_train)"
      ],
      "metadata": {
        "id": "Y-s1mOtcFRMa",
        "colab": {
          "base_uri": "https://localhost:8080/"
        },
        "outputId": "a34260dd-7f09-44a5-9805-3f5cd5a2b800"
      },
      "execution_count": 40,
      "outputs": [
        {
          "output_type": "execute_result",
          "data": {
            "text/plain": [
              "DecisionTreeRegressor(max_depth=20)"
            ]
          },
          "metadata": {},
          "execution_count": 40
        }
      ]
    },
    {
      "cell_type": "markdown",
      "source": [
        "### Metricas"
      ],
      "metadata": {
        "id": "CCj4m9b6NvSX"
      }
    },
    {
      "cell_type": "code",
      "source": [
        "y_test_tree = tree.predict(x_test)\n",
        "y_train_tree = tree.predict(x_train)"
      ],
      "metadata": {
        "id": "m_nbBlZMGOC8"
      },
      "execution_count": 41,
      "outputs": []
    },
    {
      "cell_type": "code",
      "source": [
        "# Erro quadratico medio (mean_squared_error)\n",
        "\n",
        "print(\"======================================================\\nArvore de decisao\\n======================================================\")\n",
        "\n",
        "\n",
        "acc_train_tree = tree.score(x_train, y_train) * 100\n",
        "acc_test_tree = tree.score(x_test, y_test) * 100\n",
        "\n",
        "rmse_train_tree = np.sqrt(mean_squared_error(y_train, y_train_tree))\n",
        "rmse_test_tree = np.sqrt(mean_squared_error(y_test, y_test_tree))\n",
        "\n",
        "print(\"Acuracia nos dados de treino: {:.3f}%\".format(acc_train_tree))\n",
        "print(\"Acuracia nos dados de validacao: {:.3f}%\".format(acc_test_tree))\n",
        "print('\\nA raiz do Erro meio quadrado nos dados de treino:', rmse_train_tree)\n",
        "print('A raiz do Erro medio quadrado nos dados de validacao:', rmse_test_tree)"
      ],
      "metadata": {
        "id": "uLISbbrdGeY_",
        "colab": {
          "base_uri": "https://localhost:8080/"
        },
        "outputId": "fb2ecdfe-e255-4102-ccae-a168c19c1959"
      },
      "execution_count": 42,
      "outputs": [
        {
          "output_type": "stream",
          "name": "stdout",
          "text": [
            "======================================================\n",
            "Arvore de decisao\n",
            "======================================================\n",
            "Acuracia nos dados de treino: 99.999%\n",
            "Acuracia nos dados de validacao: 99.081%\n",
            "\n",
            "A raiz do Erro meio quadrado nos dados de treino: 3.2563804973744723\n",
            "A raiz do Erro medio quadrado nos dados de validacao: 84.06711649592677\n"
          ]
        }
      ]
    },
    {
      "cell_type": "code",
      "source": [
        "from sklearn.metrics import r2_score\n",
        "\n",
        "r2score_tree = r2_score(y_test, y_test_tree) * 100\n",
        "\n",
        "print(\"Arvore de decisao R2 score: {:.5f}%\".format(r2score))"
      ],
      "metadata": {
        "id": "0dKifAKOOa_d",
        "colab": {
          "base_uri": "https://localhost:8080/"
        },
        "outputId": "96e540f3-7116-4ad4-f943-83625a927264"
      },
      "execution_count": 43,
      "outputs": [
        {
          "output_type": "stream",
          "name": "stdout",
          "text": [
            "Arvore de decisao R2 score: 92.37122%\n"
          ]
        }
      ]
    },
    {
      "cell_type": "code",
      "source": [
        "from sklearn.metrics import max_error\n",
        "\n",
        "maxError_tree = max_error(y_test, y_test_tree)\n",
        "\n",
        "print(\"Random Forest erro maximo: {:.3f}\".format(maxError))"
      ],
      "metadata": {
        "id": "mvQa4D2rOiIl",
        "colab": {
          "base_uri": "https://localhost:8080/"
        },
        "outputId": "b1a36893-df80-491a-9787-634e49f2e2e1"
      },
      "execution_count": 44,
      "outputs": [
        {
          "output_type": "stream",
          "name": "stdout",
          "text": [
            "Random Forest erro maximo: 4376.668\n"
          ]
        }
      ]
    },
    {
      "cell_type": "code",
      "source": [
        "# armazenando os resultados\n",
        "\n",
        "storeResults(\"DecisionTree_20\", acc_test=acc_test_tree, acc_train=acc_train_tree, rmse_train=rmse_train_tree, rmse_test=rmse_test_tree, r2=r2score_tree, max=maxError_tree)"
      ],
      "metadata": {
        "id": "tZmEsXKZhArs"
      },
      "execution_count": 45,
      "outputs": []
    },
    {
      "cell_type": "markdown",
      "source": [
        "### Problemas de overfitting?\n",
        "\n",
        "> Vamos entao procurar qual seria a melhor profundidade maxima interessante para nao termos um problema de overfitting"
      ],
      "metadata": {
        "id": "xAo70sXfRShZ"
      }
    },
    {
      "cell_type": "code",
      "source": [
        "training_accuracy = []\n",
        "test_accuracy = []\n",
        "\n",
        "depth = range(1, 31)\n",
        "for n in depth:\n",
        "    tree = DecisionTreeRegressor(max_depth=n)\n",
        "    tree.fit(x_train, y_train)\n",
        "    training_accuracy.append(tree.score(x_train, y_train))\n",
        "    test_accuracy.append(tree.score(x_test, y_test))\n",
        "\n",
        "plt.plot(depth, training_accuracy, label=\"treino\")\n",
        "plt.plot(depth, test_accuracy, label=\"validacao\")\n",
        "plt.ylabel(\"Acuracia\")  \n",
        "plt.xlabel(\"Profundidade\")\n",
        "plt.title(\"Profundidades na Decision Tree\")\n",
        "plt.legend()\n",
        "\n",
        "\n",
        "# A partir desse grafico podemos observar que a profundidade maximo a partir de 10 chegamos em um problema de overfitting\n",
        "# portanto é mais interessante manter a profundidade em 9 para nao ter esse problema"
      ],
      "metadata": {
        "id": "b9LKZjNYRXN3",
        "colab": {
          "base_uri": "https://localhost:8080/",
          "height": 312
        },
        "outputId": "b92884ad-65e7-4a31-e454-65e5133081b6"
      },
      "execution_count": 46,
      "outputs": [
        {
          "output_type": "execute_result",
          "data": {
            "text/plain": [
              "<matplotlib.legend.Legend at 0x7f06384de950>"
            ]
          },
          "metadata": {},
          "execution_count": 46
        },
        {
          "output_type": "display_data",
          "data": {
            "text/plain": [
              "<Figure size 432x288 with 1 Axes>"
            ],
            "image/png": "[encoded data removed]"
          },
          "metadata": {
            "needs_background": "light"
          }
        }
      ]
    },
    {
      "cell_type": "code",
      "source": [
        "tree = DecisionTreeRegressor(max_depth = 7)\n",
        "\n",
        "tree.fit(x_train, y_train)"
      ],
      "metadata": {
        "id": "cszah5mvTHRf",
        "colab": {
          "base_uri": "https://localhost:8080/"
        },
        "outputId": "3fb37b7b-403f-404b-ea9b-d33fc6b2aea7"
      },
      "execution_count": 47,
      "outputs": [
        {
          "output_type": "execute_result",
          "data": {
            "text/plain": [
              "DecisionTreeRegressor(max_depth=7)"
            ]
          },
          "metadata": {},
          "execution_count": 47
        }
      ]
    },
    {
      "cell_type": "code",
      "source": [
        "# Erro quadratico medio (mean_squared_error)\n",
        "\n",
        "print(\"======================================================\\nArvore de decisao\\n======================================================\")\n",
        "\n",
        "y_test_tree = tree.predict(x_test)\n",
        "y_train_tree = tree.predict(x_train)\n",
        "\n",
        "acc_train_tree = tree.score(x_train, y_train) * 100\n",
        "acc_test_tree = tree.score(x_test, y_test) * 100\n",
        "\n",
        "# Armazenando a raiz do erro medio quadratico\n",
        "rmse_train_tree = np.sqrt(mean_squared_error(y_train, y_train_tree))\n",
        "rmse_test_tree = np.sqrt(mean_squared_error(y_test, y_test_tree))\n",
        "\n",
        "print(\"Acuracia nos dados de treino: {:.3f}%\".format(acc_train_tree))\n",
        "print(\"Acuracia nos dados de validacao: {:.3f}%\".format(acc_test_tree))\n",
        "print('\\nA raiz do Erro meio quadrado nos dados de treino:', rmse_train_tree)\n",
        "print('A raiz do Erro medio quadrado nos dados de validacao:', rmse_test_tree)\n",
        "\n",
        "\n",
        "\n",
        "from sklearn.metrics import r2_score\n",
        "\n",
        "r2score_tree = r2_score(y_test, y_test_tree) * 100\n",
        "\n",
        "print(\"\\nArvore de decisao R2 score: {:.5f}%\".format(r2score_tree))\n",
        "\n",
        "\n",
        "from sklearn.metrics import max_error\n",
        "\n",
        "maxError_tree = max_error(y_test, y_test_tree)\n",
        "\n",
        "print(\"\\nRandom Forest erro maximo: {:.3f}\".format(maxError_tree))"
      ],
      "metadata": {
        "id": "69q7x1xyTWBd",
        "colab": {
          "base_uri": "https://localhost:8080/"
        },
        "outputId": "aa4b358a-2da7-4a04-d478-90db49e07f24"
      },
      "execution_count": 48,
      "outputs": [
        {
          "output_type": "stream",
          "name": "stdout",
          "text": [
            "======================================================\n",
            "Arvore de decisao\n",
            "======================================================\n",
            "Acuracia nos dados de treino: 92.646%\n",
            "Acuracia nos dados de validacao: 89.666%\n",
            "\n",
            "A raiz do Erro meio quadrado nos dados de treino: 246.86162463581107\n",
            "A raiz do Erro medio quadrado nos dados de validacao: 281.84759042471626\n",
            "\n",
            "Arvore de decisao R2 score: 89.66632%\n",
            "\n",
            "Random Forest erro maximo: 6169.667\n"
          ]
        }
      ]
    },
    {
      "cell_type": "code",
      "source": [
        "storeResults(\"DecisionTree_7\", acc_test=acc_test_tree, acc_train=acc_train_tree, rmse_train=rmse_train_tree, rmse_test=rmse_test_tree, r2=r2score_tree, max=maxError_tree)"
      ],
      "metadata": {
        "id": "1IngFOCues6u"
      },
      "execution_count": 49,
      "outputs": []
    },
    {
      "cell_type": "markdown",
      "source": [
        "### Predicao de uma amostra de tamanho 1"
      ],
      "metadata": {
        "id": "gcb5QYBzOqRN"
      }
    },
    {
      "cell_type": "code",
      "source": [
        "# SINGLE PREDICTION\n",
        "\n",
        "data = {\n",
        "    'country': [87],\n",
        "    'year': [37],\n",
        "    'gender': [1],\n",
        "    'age_group': [3],\n",
        "    'population': [200000000],\n",
        "}\n",
        "\n",
        "\n",
        "pred_feat = pd.DataFrame(data)\n",
        "\n",
        "pred = tree.predict(pred_feat)\n",
        "\n",
        "print(\"Tera {:.3f} suicidios aproximadamente\".format(max(pred)))"
      ],
      "metadata": {
        "id": "yIW_AJf3Oxll",
        "colab": {
          "base_uri": "https://localhost:8080/"
        },
        "outputId": "a873a165-6caf-4e64-c93e-6e2a912a5f9b"
      },
      "execution_count": 50,
      "outputs": [
        {
          "output_type": "stream",
          "name": "stdout",
          "text": [
            "Tera 11654.750 suicidios aproximadamente\n"
          ]
        }
      ]
    },
    {
      "cell_type": "markdown",
      "source": [
        "# Comparacao entre os modelos"
      ],
      "metadata": {
        "id": "afqztTzhe0F3"
      }
    },
    {
      "cell_type": "code",
      "source": [
        "results = pd.DataFrame({ 'ML Model': ML_Model,    \n",
        "    'Treino Acuracia': acc_train_res,\n",
        "    'Teste Acuracia': acc_test_res,\n",
        "    'Raiz EMQ treino': rmse_train_res,\n",
        "    'Raiz EMQ validacao': rmse_test_res,\n",
        "    'R2 Score': r2score_res,\n",
        "    'Erro máximo': maxError_res\n",
        "    })\n",
        "\n",
        "results"
      ],
      "metadata": {
        "id": "OwurGTTSe1uy",
        "colab": {
          "base_uri": "https://localhost:8080/",
          "height": 236
        },
        "outputId": "71766927-009d-4dfb-ca7c-b1d6680392f4"
      },
      "execution_count": 51,
      "outputs": [
        {
          "output_type": "execute_result",
          "data": {
            "text/plain": [
              "          ML Model  Treino Acuracia  Teste Acuracia  Raiz EMQ treino  \\\n",
              "0  RandomForest_20           99.743          99.114           46.106   \n",
              "1   RandomForest_7           94.308          92.371          217.174   \n",
              "2  DecisionTree_20           99.999          99.081            3.256   \n",
              "3   DecisionTree_7           92.646          89.666          246.862   \n",
              "\n",
              "   Raiz EMQ validacao  R2 Score  Erro máximo  \n",
              "0              82.535        99         2110  \n",
              "1             242.167        92         4377  \n",
              "2              84.067        99         1748  \n",
              "3             281.848        90         6170  "
            ],
            "text/html": [
              "\n",
              "  <div id=\"df-66b9fc61-94ab-4a29-afae-53bcd2251859\">\n",
              "    <div class=\"colab-df-container\">\n",
              "      <div>\n",
              "<style scoped>\n",
              "    .dataframe tbody tr th:only-of-type {\n",
              "        vertical-align: middle;\n",
              "    }\n",
              "\n",
              "    .dataframe tbody tr th {\n",
              "        vertical-align: top;\n",
              "    }\n",
              "\n",
              "    .dataframe thead th {\n",
              "        text-align: right;\n",
              "    }\n",
              "</style>\n",
              "<table border=\"1\" class=\"dataframe\">\n",
              "  <thead>\n",
              "    <tr style=\"text-align: right;\">\n",
              "      <th></th>\n",
              "      <th>ML Model</th>\n",
              "      <th>Treino Acuracia</th>\n",
              "      <th>Teste Acuracia</th>\n",
              "      <th>Raiz EMQ treino</th>\n",
              "      <th>Raiz EMQ validacao</th>\n",
              "      <th>R2 Score</th>\n",
              "      <th>Erro máximo</th>\n",
              "    </tr>\n",
              "  </thead>\n",
              "  <tbody>\n",
              "    <tr>\n",
              "      <th>0</th>\n",
              "      <td>RandomForest_20</td>\n",
              "      <td>99.743</td>\n",
              "      <td>99.114</td>\n",
              "      <td>46.106</td>\n",
              "      <td>82.535</td>\n",
              "      <td>99</td>\n",
              "      <td>2110</td>\n",
              "    </tr>\n",
              "    <tr>\n",
              "      <th>1</th>\n",
              "      <td>RandomForest_7</td>\n",
              "      <td>94.308</td>\n",
              "      <td>92.371</td>\n",
              "      <td>217.174</td>\n",
              "      <td>242.167</td>\n",
              "      <td>92</td>\n",
              "      <td>4377</td>\n",
              "    </tr>\n",
              "    <tr>\n",
              "      <th>2</th>\n",
              "      <td>DecisionTree_20</td>\n",
              "      <td>99.999</td>\n",
              "      <td>99.081</td>\n",
              "      <td>3.256</td>\n",
              "      <td>84.067</td>\n",
              "      <td>99</td>\n",
              "      <td>1748</td>\n",
              "    </tr>\n",
              "    <tr>\n",
              "      <th>3</th>\n",
              "      <td>DecisionTree_7</td>\n",
              "      <td>92.646</td>\n",
              "      <td>89.666</td>\n",
              "      <td>246.862</td>\n",
              "      <td>281.848</td>\n",
              "      <td>90</td>\n",
              "      <td>6170</td>\n",
              "    </tr>\n",
              "  </tbody>\n",
              "</table>\n",
              "</div>\n",
              "      <button class=\"colab-df-convert\" onclick=\"convertToInteractive('df-66b9fc61-94ab-4a29-afae-53bcd2251859')\"\n",
              "              title=\"Convert this dataframe to an interactive table.\"\n",
              "              style=\"display:none;\">\n",
              "        \n",
              "  <svg xmlns=\"http://www.w3.org/2000/svg\" height=\"24px\"viewBox=\"0 0 24 24\"\n",
              "       width=\"24px\">\n",
              "    <path d=\"M0 0h24v24H0V0z\" fill=\"none\"/>\n",
              "    <path d=\"M18.56 5.44l.94 2.06.94-2.06 2.06-.94-2.06-.94-.94-2.06-.94 2.06-2.06.94zm-11 1L8.5 8.5l.94-2.06 2.06-.94-2.06-.94L8.5 2.5l-.94 2.06-2.06.94zm10 10l.94 2.06.94-2.06 2.06-.94-2.06-.94-.94-2.06-.94 2.06-2.06.94z\"/><path d=\"M17.41 7.96l-1.37-1.37c-.4-.4-.92-.59-1.43-.59-.52 0-1.04.2-1.43.59L10.3 9.45l-7.72 7.72c-.78.78-.78 2.05 0 2.83L4 21.41c.39.39.9.59 1.41.59.51 0 1.02-.2 1.41-.59l7.78-7.78 2.81-2.81c.8-.78.8-2.07 0-2.86zM5.41 20L4 18.59l7.72-7.72 1.47 1.35L5.41 20z\"/>\n",
              "  </svg>\n",
              "      </button>\n",
              "      \n",
              "  <style>\n",
              "    .colab-df-container {\n",
              "      display:flex;\n",
              "      flex-wrap:wrap;\n",
              "      gap: 12px;\n",
              "    }\n",
              "\n",
              "    .colab-df-convert {\n",
              "      background-color: #E8F0FE;\n",
              "      border: none;\n",
              "      border-radius: 50%;\n",
              "      cursor: pointer;\n",
              "      display: none;\n",
              "      fill: #1967D2;\n",
              "      height: 32px;\n",
              "      padding: 0 0 0 0;\n",
              "      width: 32px;\n",
              "    }\n",
              "\n",
              "    .colab-df-convert:hover {\n",
              "      background-color: #E2EBFA;\n",
              "      box-shadow: 0px 1px 2px rgba(60, 64, 67, 0.3), 0px 1px 3px 1px rgba(60, 64, 67, 0.15);\n",
              "      fill: #174EA6;\n",
              "    }\n",
              "\n",
              "    [theme=dark] .colab-df-convert {\n",
              "      background-color: #3B4455;\n",
              "      fill: #D2E3FC;\n",
              "    }\n",
              "\n",
              "    [theme=dark] .colab-df-convert:hover {\n",
              "      background-color: #434B5C;\n",
              "      box-shadow: 0px 1px 3px 1px rgba(0, 0, 0, 0.15);\n",
              "      filter: drop-shadow(0px 1px 2px rgba(0, 0, 0, 0.3));\n",
              "      fill: #FFFFFF;\n",
              "    }\n",
              "  </style>\n",
              "\n",
              "      <script>\n",
              "        const buttonEl =\n",
              "          document.querySelector('#df-66b9fc61-94ab-4a29-afae-53bcd2251859 button.colab-df-convert');\n",
              "        buttonEl.style.display =\n",
              "          google.colab.kernel.accessAllowed ? 'block' : 'none';\n",
              "\n",
              "        async function convertToInteractive(key) {\n",
              "          const element = document.querySelector('#df-66b9fc61-94ab-4a29-afae-53bcd2251859');\n",
              "          const dataTable =\n",
              "            await google.colab.kernel.invokeFunction('convertToInteractive',\n",
              "                                                     [key], {});\n",
              "          if (!dataTable) return;\n",
              "\n",
              "          const docLinkHtml = 'Like what you see? Visit the ' +\n",
              "            '<a target=\"_blank\" href=https://colab.research.google.com/notebooks/data_table.ipynb>data table notebook</a>'\n",
              "            + ' to learn more about interactive tables.';\n",
              "          element.innerHTML = '';\n",
              "          dataTable['output_type'] = 'display_data';\n",
              "          await google.colab.output.renderOutput(dataTable, element);\n",
              "          const docLink = document.createElement('div');\n",
              "          docLink.innerHTML = docLinkHtml;\n",
              "          element.appendChild(docLink);\n",
              "        }\n",
              "      </script>\n",
              "    </div>\n",
              "  </div>\n",
              "  "
            ]
          },
          "metadata": {},
          "execution_count": 51
        }
      ]
    }
  ],
  "metadata": {
    "colab": {
      "collapsed_sections": [],
      "name": "TP-final.ipynb",
      "provenance": [],
      "toc_visible": true,
      "mount_file_id": "14gzMjCHt8t_h00fHe_HNccfYJhpnnUIl",
      "authorship_tag": "ABX9TyP+dy1fUvXEZkiE1x0xcvS8",
      "include_colab_link": true
    },
    "kernelspec": {
      "display_name": "Python 3",
      "name": "python3"
    },
    "language_info": {
      "name": "python"
    }
  },
  "nbformat": 4,
  "nbformat_minor": 0
}