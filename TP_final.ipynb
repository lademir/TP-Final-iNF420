{
  "cells": [
    {
      "cell_type": "markdown",
      "metadata": {
        "id": "view-in-github",
        "colab_type": "text"
      },
      "source": [
        "<a href=\"https://colab.research.google.com/github/lademir/TP-Final-iNF420/blob/main/TP_final.ipynb\" target=\"_parent\"><img src=\"https://colab.research.google.com/assets/colab-badge.svg\" alt=\"Open In Colab\"/></a>"
      ]
    },
    {
      "cell_type": "markdown",
      "metadata": {
        "id": "6IeyMTlj8zf6"
      },
      "source": [
        "# Predicao de quantidade de suicidios (DecisionTree & RandomForest)\n",
        "\n",
        "## Sumário\n",
        "> 1. Definição e armazenamento do dataset\n",
        "> 2. Visualizacao rapida do dataset\n",
        "> 3. Pre-processamento dos dados\n",
        "> 4. implementação dos modelos\n",
        "> 5. Comparacao entre os dois modelos\n"
      ]
    },
    {
      "cell_type": "code",
      "execution_count": 792,
      "metadata": {
        "id": "jDWX7Idq5Rsf"
      },
      "outputs": [],
      "source": [
        "import pandas as pd\n",
        "import numpy as np\n",
        "from sklearn.metrics import accuracy_score\n",
        "from sklearn.model_selection import train_test_split\n",
        "from sklearn import preprocessing\n",
        "import matplotlib.pyplot as plt\n",
        "import seaborn as sns"
      ]
    },
    {
      "cell_type": "markdown",
      "metadata": {
        "id": "xXJpwuM2Xbi9"
      },
      "source": [
        "## Armazenando o dataset"
      ]
    },
    {
      "cell_type": "code",
      "execution_count": 793,
      "metadata": {
        "colab": {
          "base_uri": "https://localhost:8080/",
          "height": 372
        },
        "id": "rcjA-UmPX3jp",
        "outputId": "6e876f04-19af-4e6e-a47a-1e7524f4ef9c"
      },
      "outputs": [
        {
          "output_type": "execute_result",
          "data": {
            "text/plain": [
              "   country  year     sex          age  suicides_no  population  \\\n",
              "0  Albania  1987    male  15-24 years           21      312900   \n",
              "1  Albania  1987    male  35-54 years           16      308000   \n",
              "2  Albania  1987  female  15-24 years           14      289700   \n",
              "3  Albania  1987    male    75+ years            1       21800   \n",
              "4  Albania  1987    male  25-34 years            9      274300   \n",
              "\n",
              "   suicides/100k pop country-year  HDI for year  gdp_for_year ($)   \\\n",
              "0               6.71  Albania1987           NaN      2,156,624,900   \n",
              "1               5.19  Albania1987           NaN      2,156,624,900   \n",
              "2               4.83  Albania1987           NaN      2,156,624,900   \n",
              "3               4.59  Albania1987           NaN      2,156,624,900   \n",
              "4               3.28  Albania1987           NaN      2,156,624,900   \n",
              "\n",
              "   gdp_per_capita ($)       generation  \n",
              "0                 796     Generation X  \n",
              "1                 796           Silent  \n",
              "2                 796     Generation X  \n",
              "3                 796  G.I. Generation  \n",
              "4                 796          Boomers  "
            ],
            "text/html": [
              "\n",
              "  <div id=\"df-7bcd243f-3c3c-4055-8bcc-116c58eb4a4c\">\n",
              "    <div class=\"colab-df-container\">\n",
              "      <div>\n",
              "<style scoped>\n",
              "    .dataframe tbody tr th:only-of-type {\n",
              "        vertical-align: middle;\n",
              "    }\n",
              "\n",
              "    .dataframe tbody tr th {\n",
              "        vertical-align: top;\n",
              "    }\n",
              "\n",
              "    .dataframe thead th {\n",
              "        text-align: right;\n",
              "    }\n",
              "</style>\n",
              "<table border=\"1\" class=\"dataframe\">\n",
              "  <thead>\n",
              "    <tr style=\"text-align: right;\">\n",
              "      <th></th>\n",
              "      <th>country</th>\n",
              "      <th>year</th>\n",
              "      <th>sex</th>\n",
              "      <th>age</th>\n",
              "      <th>suicides_no</th>\n",
              "      <th>population</th>\n",
              "      <th>suicides/100k pop</th>\n",
              "      <th>country-year</th>\n",
              "      <th>HDI for year</th>\n",
              "      <th>gdp_for_year ($)</th>\n",
              "      <th>gdp_per_capita ($)</th>\n",
              "      <th>generation</th>\n",
              "    </tr>\n",
              "  </thead>\n",
              "  <tbody>\n",
              "    <tr>\n",
              "      <th>0</th>\n",
              "      <td>Albania</td>\n",
              "      <td>1987</td>\n",
              "      <td>male</td>\n",
              "      <td>15-24 years</td>\n",
              "      <td>21</td>\n",
              "      <td>312900</td>\n",
              "      <td>6.71</td>\n",
              "      <td>Albania1987</td>\n",
              "      <td>NaN</td>\n",
              "      <td>2,156,624,900</td>\n",
              "      <td>796</td>\n",
              "      <td>Generation X</td>\n",
              "    </tr>\n",
              "    <tr>\n",
              "      <th>1</th>\n",
              "      <td>Albania</td>\n",
              "      <td>1987</td>\n",
              "      <td>male</td>\n",
              "      <td>35-54 years</td>\n",
              "      <td>16</td>\n",
              "      <td>308000</td>\n",
              "      <td>5.19</td>\n",
              "      <td>Albania1987</td>\n",
              "      <td>NaN</td>\n",
              "      <td>2,156,624,900</td>\n",
              "      <td>796</td>\n",
              "      <td>Silent</td>\n",
              "    </tr>\n",
              "    <tr>\n",
              "      <th>2</th>\n",
              "      <td>Albania</td>\n",
              "      <td>1987</td>\n",
              "      <td>female</td>\n",
              "      <td>15-24 years</td>\n",
              "      <td>14</td>\n",
              "      <td>289700</td>\n",
              "      <td>4.83</td>\n",
              "      <td>Albania1987</td>\n",
              "      <td>NaN</td>\n",
              "      <td>2,156,624,900</td>\n",
              "      <td>796</td>\n",
              "      <td>Generation X</td>\n",
              "    </tr>\n",
              "    <tr>\n",
              "      <th>3</th>\n",
              "      <td>Albania</td>\n",
              "      <td>1987</td>\n",
              "      <td>male</td>\n",
              "      <td>75+ years</td>\n",
              "      <td>1</td>\n",
              "      <td>21800</td>\n",
              "      <td>4.59</td>\n",
              "      <td>Albania1987</td>\n",
              "      <td>NaN</td>\n",
              "      <td>2,156,624,900</td>\n",
              "      <td>796</td>\n",
              "      <td>G.I. Generation</td>\n",
              "    </tr>\n",
              "    <tr>\n",
              "      <th>4</th>\n",
              "      <td>Albania</td>\n",
              "      <td>1987</td>\n",
              "      <td>male</td>\n",
              "      <td>25-34 years</td>\n",
              "      <td>9</td>\n",
              "      <td>274300</td>\n",
              "      <td>3.28</td>\n",
              "      <td>Albania1987</td>\n",
              "      <td>NaN</td>\n",
              "      <td>2,156,624,900</td>\n",
              "      <td>796</td>\n",
              "      <td>Boomers</td>\n",
              "    </tr>\n",
              "  </tbody>\n",
              "</table>\n",
              "</div>\n",
              "      <button class=\"colab-df-convert\" onclick=\"convertToInteractive('df-7bcd243f-3c3c-4055-8bcc-116c58eb4a4c')\"\n",
              "              title=\"Convert this dataframe to an interactive table.\"\n",
              "              style=\"display:none;\">\n",
              "        \n",
              "  <svg xmlns=\"http://www.w3.org/2000/svg\" height=\"24px\"viewBox=\"0 0 24 24\"\n",
              "       width=\"24px\">\n",
              "    <path d=\"M0 0h24v24H0V0z\" fill=\"none\"/>\n",
              "    <path d=\"M18.56 5.44l.94 2.06.94-2.06 2.06-.94-2.06-.94-.94-2.06-.94 2.06-2.06.94zm-11 1L8.5 8.5l.94-2.06 2.06-.94-2.06-.94L8.5 2.5l-.94 2.06-2.06.94zm10 10l.94 2.06.94-2.06 2.06-.94-2.06-.94-.94-2.06-.94 2.06-2.06.94z\"/><path d=\"M17.41 7.96l-1.37-1.37c-.4-.4-.92-.59-1.43-.59-.52 0-1.04.2-1.43.59L10.3 9.45l-7.72 7.72c-.78.78-.78 2.05 0 2.83L4 21.41c.39.39.9.59 1.41.59.51 0 1.02-.2 1.41-.59l7.78-7.78 2.81-2.81c.8-.78.8-2.07 0-2.86zM5.41 20L4 18.59l7.72-7.72 1.47 1.35L5.41 20z\"/>\n",
              "  </svg>\n",
              "      </button>\n",
              "      \n",
              "  <style>\n",
              "    .colab-df-container {\n",
              "      display:flex;\n",
              "      flex-wrap:wrap;\n",
              "      gap: 12px;\n",
              "    }\n",
              "\n",
              "    .colab-df-convert {\n",
              "      background-color: #E8F0FE;\n",
              "      border: none;\n",
              "      border-radius: 50%;\n",
              "      cursor: pointer;\n",
              "      display: none;\n",
              "      fill: #1967D2;\n",
              "      height: 32px;\n",
              "      padding: 0 0 0 0;\n",
              "      width: 32px;\n",
              "    }\n",
              "\n",
              "    .colab-df-convert:hover {\n",
              "      background-color: #E2EBFA;\n",
              "      box-shadow: 0px 1px 2px rgba(60, 64, 67, 0.3), 0px 1px 3px 1px rgba(60, 64, 67, 0.15);\n",
              "      fill: #174EA6;\n",
              "    }\n",
              "\n",
              "    [theme=dark] .colab-df-convert {\n",
              "      background-color: #3B4455;\n",
              "      fill: #D2E3FC;\n",
              "    }\n",
              "\n",
              "    [theme=dark] .colab-df-convert:hover {\n",
              "      background-color: #434B5C;\n",
              "      box-shadow: 0px 1px 3px 1px rgba(0, 0, 0, 0.15);\n",
              "      filter: drop-shadow(0px 1px 2px rgba(0, 0, 0, 0.3));\n",
              "      fill: #FFFFFF;\n",
              "    }\n",
              "  </style>\n",
              "\n",
              "      <script>\n",
              "        const buttonEl =\n",
              "          document.querySelector('#df-7bcd243f-3c3c-4055-8bcc-116c58eb4a4c button.colab-df-convert');\n",
              "        buttonEl.style.display =\n",
              "          google.colab.kernel.accessAllowed ? 'block' : 'none';\n",
              "\n",
              "        async function convertToInteractive(key) {\n",
              "          const element = document.querySelector('#df-7bcd243f-3c3c-4055-8bcc-116c58eb4a4c');\n",
              "          const dataTable =\n",
              "            await google.colab.kernel.invokeFunction('convertToInteractive',\n",
              "                                                     [key], {});\n",
              "          if (!dataTable) return;\n",
              "\n",
              "          const docLinkHtml = 'Like what you see? Visit the ' +\n",
              "            '<a target=\"_blank\" href=https://colab.research.google.com/notebooks/data_table.ipynb>data table notebook</a>'\n",
              "            + ' to learn more about interactive tables.';\n",
              "          element.innerHTML = '';\n",
              "          dataTable['output_type'] = 'display_data';\n",
              "          await google.colab.output.renderOutput(dataTable, element);\n",
              "          const docLink = document.createElement('div');\n",
              "          docLink.innerHTML = docLinkHtml;\n",
              "          element.appendChild(docLink);\n",
              "        }\n",
              "      </script>\n",
              "    </div>\n",
              "  </div>\n",
              "  "
            ]
          },
          "metadata": {},
          "execution_count": 793
        }
      ],
      "source": [
        "df = pd.read_csv(\"/content/drive/MyDrive/Faculdade/2022.1/INF 420/Trabalhos/Trabalho final/base/suicide_rate.csv\")\n",
        "df.head()"
      ]
    },
    {
      "cell_type": "code",
      "execution_count": 794,
      "metadata": {
        "id": "2vK27PubeZNp",
        "colab": {
          "base_uri": "https://localhost:8080/"
        },
        "outputId": "293d985f-50a7-4e00-f5d0-3b8b146d09fe"
      },
      "outputs": [
        {
          "output_type": "execute_result",
          "data": {
            "text/plain": [
              "(27820, 12)"
            ]
          },
          "metadata": {},
          "execution_count": 794
        }
      ],
      "source": [
        "df.shape"
      ]
    },
    {
      "cell_type": "code",
      "source": [
        "df.columns"
      ],
      "metadata": {
        "colab": {
          "base_uri": "https://localhost:8080/"
        },
        "id": "BrXy4cqv-PAA",
        "outputId": "730ed62b-48fd-4cc2-dce4-76ffef927473"
      },
      "execution_count": 795,
      "outputs": [
        {
          "output_type": "execute_result",
          "data": {
            "text/plain": [
              "Index(['country', 'year', 'sex', 'age', 'suicides_no', 'population',\n",
              "       'suicides/100k pop', 'country-year', 'HDI for year',\n",
              "       ' gdp_for_year ($) ', 'gdp_per_capita ($)', 'generation'],\n",
              "      dtype='object')"
            ]
          },
          "metadata": {},
          "execution_count": 795
        }
      ]
    },
    {
      "cell_type": "code",
      "source": [
        "df.columns = ['country', 'year', 'gender', 'age_group', 'suicide_count', 'population', 'suicide_rate', 'country-year', 'HDI for year',\n",
        "                'gdp_for_year', 'gdp_per_capita', 'generation']\n",
        "df.columns"
      ],
      "metadata": {
        "colab": {
          "base_uri": "https://localhost:8080/"
        },
        "id": "WPzLSeK_-V7J",
        "outputId": "a866f519-758f-4683-88ff-c8af0f4e49a5"
      },
      "execution_count": 796,
      "outputs": [
        {
          "output_type": "execute_result",
          "data": {
            "text/plain": [
              "Index(['country', 'year', 'gender', 'age_group', 'suicide_count', 'population',\n",
              "       'suicide_rate', 'country-year', 'HDI for year', 'gdp_for_year',\n",
              "       'gdp_per_capita', 'generation'],\n",
              "      dtype='object')"
            ]
          },
          "metadata": {},
          "execution_count": 796
        }
      ]
    },
    {
      "cell_type": "code",
      "source": [
        "df.info()"
      ],
      "metadata": {
        "colab": {
          "base_uri": "https://localhost:8080/"
        },
        "id": "frECwCXf_HHF",
        "outputId": "e5cfa8c1-1340-4d45-c223-358fb10f4224"
      },
      "execution_count": 797,
      "outputs": [
        {
          "output_type": "stream",
          "name": "stdout",
          "text": [
            "<class 'pandas.core.frame.DataFrame'>\n",
            "RangeIndex: 27820 entries, 0 to 27819\n",
            "Data columns (total 12 columns):\n",
            " #   Column          Non-Null Count  Dtype  \n",
            "---  ------          --------------  -----  \n",
            " 0   country         27820 non-null  object \n",
            " 1   year            27820 non-null  int64  \n",
            " 2   gender          27820 non-null  object \n",
            " 3   age_group       27820 non-null  object \n",
            " 4   suicide_count   27820 non-null  int64  \n",
            " 5   population      27820 non-null  int64  \n",
            " 6   suicide_rate    27820 non-null  float64\n",
            " 7   country-year    27820 non-null  object \n",
            " 8   HDI for year    8364 non-null   float64\n",
            " 9   gdp_for_year    27820 non-null  object \n",
            " 10  gdp_per_capita  27820 non-null  int64  \n",
            " 11  generation      27820 non-null  object \n",
            "dtypes: float64(2), int64(4), object(6)\n",
            "memory usage: 2.5+ MB\n"
          ]
        }
      ]
    },
    {
      "cell_type": "code",
      "source": [
        "# Dataset depois das mudancas de nome\n",
        "\n",
        "df.head()"
      ],
      "metadata": {
        "colab": {
          "base_uri": "https://localhost:8080/",
          "height": 322
        },
        "id": "WLEs0bSwKEK8",
        "outputId": "8095116e-3467-40fc-ed26-cd4dcb088a98"
      },
      "execution_count": 798,
      "outputs": [
        {
          "output_type": "execute_result",
          "data": {
            "text/plain": [
              "   country  year  gender    age_group  suicide_count  population  \\\n",
              "0  Albania  1987    male  15-24 years             21      312900   \n",
              "1  Albania  1987    male  35-54 years             16      308000   \n",
              "2  Albania  1987  female  15-24 years             14      289700   \n",
              "3  Albania  1987    male    75+ years              1       21800   \n",
              "4  Albania  1987    male  25-34 years              9      274300   \n",
              "\n",
              "   suicide_rate country-year  HDI for year   gdp_for_year  gdp_per_capita  \\\n",
              "0          6.71  Albania1987           NaN  2,156,624,900             796   \n",
              "1          5.19  Albania1987           NaN  2,156,624,900             796   \n",
              "2          4.83  Albania1987           NaN  2,156,624,900             796   \n",
              "3          4.59  Albania1987           NaN  2,156,624,900             796   \n",
              "4          3.28  Albania1987           NaN  2,156,624,900             796   \n",
              "\n",
              "        generation  \n",
              "0     Generation X  \n",
              "1           Silent  \n",
              "2     Generation X  \n",
              "3  G.I. Generation  \n",
              "4          Boomers  "
            ],
            "text/html": [
              "\n",
              "  <div id=\"df-c00a18f6-2be6-4e17-8672-836aa32b71de\">\n",
              "    <div class=\"colab-df-container\">\n",
              "      <div>\n",
              "<style scoped>\n",
              "    .dataframe tbody tr th:only-of-type {\n",
              "        vertical-align: middle;\n",
              "    }\n",
              "\n",
              "    .dataframe tbody tr th {\n",
              "        vertical-align: top;\n",
              "    }\n",
              "\n",
              "    .dataframe thead th {\n",
              "        text-align: right;\n",
              "    }\n",
              "</style>\n",
              "<table border=\"1\" class=\"dataframe\">\n",
              "  <thead>\n",
              "    <tr style=\"text-align: right;\">\n",
              "      <th></th>\n",
              "      <th>country</th>\n",
              "      <th>year</th>\n",
              "      <th>gender</th>\n",
              "      <th>age_group</th>\n",
              "      <th>suicide_count</th>\n",
              "      <th>population</th>\n",
              "      <th>suicide_rate</th>\n",
              "      <th>country-year</th>\n",
              "      <th>HDI for year</th>\n",
              "      <th>gdp_for_year</th>\n",
              "      <th>gdp_per_capita</th>\n",
              "      <th>generation</th>\n",
              "    </tr>\n",
              "  </thead>\n",
              "  <tbody>\n",
              "    <tr>\n",
              "      <th>0</th>\n",
              "      <td>Albania</td>\n",
              "      <td>1987</td>\n",
              "      <td>male</td>\n",
              "      <td>15-24 years</td>\n",
              "      <td>21</td>\n",
              "      <td>312900</td>\n",
              "      <td>6.71</td>\n",
              "      <td>Albania1987</td>\n",
              "      <td>NaN</td>\n",
              "      <td>2,156,624,900</td>\n",
              "      <td>796</td>\n",
              "      <td>Generation X</td>\n",
              "    </tr>\n",
              "    <tr>\n",
              "      <th>1</th>\n",
              "      <td>Albania</td>\n",
              "      <td>1987</td>\n",
              "      <td>male</td>\n",
              "      <td>35-54 years</td>\n",
              "      <td>16</td>\n",
              "      <td>308000</td>\n",
              "      <td>5.19</td>\n",
              "      <td>Albania1987</td>\n",
              "      <td>NaN</td>\n",
              "      <td>2,156,624,900</td>\n",
              "      <td>796</td>\n",
              "      <td>Silent</td>\n",
              "    </tr>\n",
              "    <tr>\n",
              "      <th>2</th>\n",
              "      <td>Albania</td>\n",
              "      <td>1987</td>\n",
              "      <td>female</td>\n",
              "      <td>15-24 years</td>\n",
              "      <td>14</td>\n",
              "      <td>289700</td>\n",
              "      <td>4.83</td>\n",
              "      <td>Albania1987</td>\n",
              "      <td>NaN</td>\n",
              "      <td>2,156,624,900</td>\n",
              "      <td>796</td>\n",
              "      <td>Generation X</td>\n",
              "    </tr>\n",
              "    <tr>\n",
              "      <th>3</th>\n",
              "      <td>Albania</td>\n",
              "      <td>1987</td>\n",
              "      <td>male</td>\n",
              "      <td>75+ years</td>\n",
              "      <td>1</td>\n",
              "      <td>21800</td>\n",
              "      <td>4.59</td>\n",
              "      <td>Albania1987</td>\n",
              "      <td>NaN</td>\n",
              "      <td>2,156,624,900</td>\n",
              "      <td>796</td>\n",
              "      <td>G.I. Generation</td>\n",
              "    </tr>\n",
              "    <tr>\n",
              "      <th>4</th>\n",
              "      <td>Albania</td>\n",
              "      <td>1987</td>\n",
              "      <td>male</td>\n",
              "      <td>25-34 years</td>\n",
              "      <td>9</td>\n",
              "      <td>274300</td>\n",
              "      <td>3.28</td>\n",
              "      <td>Albania1987</td>\n",
              "      <td>NaN</td>\n",
              "      <td>2,156,624,900</td>\n",
              "      <td>796</td>\n",
              "      <td>Boomers</td>\n",
              "    </tr>\n",
              "  </tbody>\n",
              "</table>\n",
              "</div>\n",
              "      <button class=\"colab-df-convert\" onclick=\"convertToInteractive('df-c00a18f6-2be6-4e17-8672-836aa32b71de')\"\n",
              "              title=\"Convert this dataframe to an interactive table.\"\n",
              "              style=\"display:none;\">\n",
              "        \n",
              "  <svg xmlns=\"http://www.w3.org/2000/svg\" height=\"24px\"viewBox=\"0 0 24 24\"\n",
              "       width=\"24px\">\n",
              "    <path d=\"M0 0h24v24H0V0z\" fill=\"none\"/>\n",
              "    <path d=\"M18.56 5.44l.94 2.06.94-2.06 2.06-.94-2.06-.94-.94-2.06-.94 2.06-2.06.94zm-11 1L8.5 8.5l.94-2.06 2.06-.94-2.06-.94L8.5 2.5l-.94 2.06-2.06.94zm10 10l.94 2.06.94-2.06 2.06-.94-2.06-.94-.94-2.06-.94 2.06-2.06.94z\"/><path d=\"M17.41 7.96l-1.37-1.37c-.4-.4-.92-.59-1.43-.59-.52 0-1.04.2-1.43.59L10.3 9.45l-7.72 7.72c-.78.78-.78 2.05 0 2.83L4 21.41c.39.39.9.59 1.41.59.51 0 1.02-.2 1.41-.59l7.78-7.78 2.81-2.81c.8-.78.8-2.07 0-2.86zM5.41 20L4 18.59l7.72-7.72 1.47 1.35L5.41 20z\"/>\n",
              "  </svg>\n",
              "      </button>\n",
              "      \n",
              "  <style>\n",
              "    .colab-df-container {\n",
              "      display:flex;\n",
              "      flex-wrap:wrap;\n",
              "      gap: 12px;\n",
              "    }\n",
              "\n",
              "    .colab-df-convert {\n",
              "      background-color: #E8F0FE;\n",
              "      border: none;\n",
              "      border-radius: 50%;\n",
              "      cursor: pointer;\n",
              "      display: none;\n",
              "      fill: #1967D2;\n",
              "      height: 32px;\n",
              "      padding: 0 0 0 0;\n",
              "      width: 32px;\n",
              "    }\n",
              "\n",
              "    .colab-df-convert:hover {\n",
              "      background-color: #E2EBFA;\n",
              "      box-shadow: 0px 1px 2px rgba(60, 64, 67, 0.3), 0px 1px 3px 1px rgba(60, 64, 67, 0.15);\n",
              "      fill: #174EA6;\n",
              "    }\n",
              "\n",
              "    [theme=dark] .colab-df-convert {\n",
              "      background-color: #3B4455;\n",
              "      fill: #D2E3FC;\n",
              "    }\n",
              "\n",
              "    [theme=dark] .colab-df-convert:hover {\n",
              "      background-color: #434B5C;\n",
              "      box-shadow: 0px 1px 3px 1px rgba(0, 0, 0, 0.15);\n",
              "      filter: drop-shadow(0px 1px 2px rgba(0, 0, 0, 0.3));\n",
              "      fill: #FFFFFF;\n",
              "    }\n",
              "  </style>\n",
              "\n",
              "      <script>\n",
              "        const buttonEl =\n",
              "          document.querySelector('#df-c00a18f6-2be6-4e17-8672-836aa32b71de button.colab-df-convert');\n",
              "        buttonEl.style.display =\n",
              "          google.colab.kernel.accessAllowed ? 'block' : 'none';\n",
              "\n",
              "        async function convertToInteractive(key) {\n",
              "          const element = document.querySelector('#df-c00a18f6-2be6-4e17-8672-836aa32b71de');\n",
              "          const dataTable =\n",
              "            await google.colab.kernel.invokeFunction('convertToInteractive',\n",
              "                                                     [key], {});\n",
              "          if (!dataTable) return;\n",
              "\n",
              "          const docLinkHtml = 'Like what you see? Visit the ' +\n",
              "            '<a target=\"_blank\" href=https://colab.research.google.com/notebooks/data_table.ipynb>data table notebook</a>'\n",
              "            + ' to learn more about interactive tables.';\n",
              "          element.innerHTML = '';\n",
              "          dataTable['output_type'] = 'display_data';\n",
              "          await google.colab.output.renderOutput(dataTable, element);\n",
              "          const docLink = document.createElement('div');\n",
              "          docLink.innerHTML = docLinkHtml;\n",
              "          element.appendChild(docLink);\n",
              "        }\n",
              "      </script>\n",
              "    </div>\n",
              "  </div>\n",
              "  "
            ]
          },
          "metadata": {},
          "execution_count": 798
        }
      ]
    },
    {
      "cell_type": "code",
      "source": [
        "print(\"Quantidade de dados com base no grupo: \")\n",
        "\n",
        "print(\"\\nGrupo de idade: \")\n",
        "print(df.age_group.value_counts())\n",
        "\n",
        "print(\"\\nSexo: \")\n",
        "print(df.gender.value_counts())\n",
        "\n",
        "print(\"\\nGeracao: \")\n",
        "df.generation.value_counts()"
      ],
      "metadata": {
        "colab": {
          "base_uri": "https://localhost:8080/"
        },
        "id": "d34mfuwb_NAO",
        "outputId": "cffd0c11-6cce-4dc4-a5e1-1e97d9590144"
      },
      "execution_count": 799,
      "outputs": [
        {
          "output_type": "stream",
          "name": "stdout",
          "text": [
            "Quantidade de dados com base no grupo: \n",
            "\n",
            "Grupo de idade: \n",
            "15-24 years    4642\n",
            "35-54 years    4642\n",
            "75+ years      4642\n",
            "25-34 years    4642\n",
            "55-74 years    4642\n",
            "5-14 years     4610\n",
            "Name: age_group, dtype: int64\n",
            "\n",
            "Sexo: \n",
            "male      13910\n",
            "female    13910\n",
            "Name: gender, dtype: int64\n",
            "\n",
            "Geracao: \n"
          ]
        },
        {
          "output_type": "execute_result",
          "data": {
            "text/plain": [
              "Generation X       6408\n",
              "Silent             6364\n",
              "Millenials         5844\n",
              "Boomers            4990\n",
              "G.I. Generation    2744\n",
              "Generation Z       1470\n",
              "Name: generation, dtype: int64"
            ]
          },
          "metadata": {},
          "execution_count": 799
        }
      ]
    },
    {
      "cell_type": "code",
      "source": [
        "countries = df[\"country\"].unique()\n",
        "print(\"Quantidade de paises: \", len(countries))\n",
        "countries"
      ],
      "metadata": {
        "colab": {
          "base_uri": "https://localhost:8080/"
        },
        "id": "GuMp-LkdHdhg",
        "outputId": "8a149e78-3bd2-479c-8c0e-ca4831329676"
      },
      "execution_count": 800,
      "outputs": [
        {
          "output_type": "stream",
          "name": "stdout",
          "text": [
            "Quantidade de paises:  101\n"
          ]
        },
        {
          "output_type": "execute_result",
          "data": {
            "text/plain": [
              "array(['Albania', 'Antigua and Barbuda', 'Argentina', 'Armenia', 'Aruba',\n",
              "       'Australia', 'Austria', 'Azerbaijan', 'Bahamas', 'Bahrain',\n",
              "       'Barbados', 'Belarus', 'Belgium', 'Belize',\n",
              "       'Bosnia and Herzegovina', 'Brazil', 'Bulgaria', 'Cabo Verde',\n",
              "       'Canada', 'Chile', 'Colombia', 'Costa Rica', 'Croatia', 'Cuba',\n",
              "       'Cyprus', 'Czech Republic', 'Denmark', 'Dominica', 'Ecuador',\n",
              "       'El Salvador', 'Estonia', 'Fiji', 'Finland', 'France', 'Georgia',\n",
              "       'Germany', 'Greece', 'Grenada', 'Guatemala', 'Guyana', 'Hungary',\n",
              "       'Iceland', 'Ireland', 'Israel', 'Italy', 'Jamaica', 'Japan',\n",
              "       'Kazakhstan', 'Kiribati', 'Kuwait', 'Kyrgyzstan', 'Latvia',\n",
              "       'Lithuania', 'Luxembourg', 'Macau', 'Maldives', 'Malta',\n",
              "       'Mauritius', 'Mexico', 'Mongolia', 'Montenegro', 'Netherlands',\n",
              "       'New Zealand', 'Nicaragua', 'Norway', 'Oman', 'Panama', 'Paraguay',\n",
              "       'Philippines', 'Poland', 'Portugal', 'Puerto Rico', 'Qatar',\n",
              "       'Republic of Korea', 'Romania', 'Russian Federation',\n",
              "       'Saint Kitts and Nevis', 'Saint Lucia',\n",
              "       'Saint Vincent and Grenadines', 'San Marino', 'Serbia',\n",
              "       'Seychelles', 'Singapore', 'Slovakia', 'Slovenia', 'South Africa',\n",
              "       'Spain', 'Sri Lanka', 'Suriname', 'Sweden', 'Switzerland',\n",
              "       'Thailand', 'Trinidad and Tobago', 'Turkey', 'Turkmenistan',\n",
              "       'Ukraine', 'United Arab Emirates', 'United Kingdom',\n",
              "       'United States', 'Uruguay', 'Uzbekistan'], dtype=object)"
            ]
          },
          "metadata": {},
          "execution_count": 800
        }
      ]
    },
    {
      "cell_type": "markdown",
      "source": [
        "## Visualizando o dataset"
      ],
      "metadata": {
        "id": "pFl7Sj4KH0I5"
      }
    },
    {
      "cell_type": "code",
      "source": [
        "# Genero e suicidio\n",
        "\n",
        "plt.figure(figsize=(10,3))\n",
        "sns.barplot(x=df.suicide_count, y=df.gender)\n",
        "plt.title(\"Genero - Suicidio\")\n",
        "plt.show()"
      ],
      "metadata": {
        "colab": {
          "base_uri": "https://localhost:8080/",
          "height": 242
        },
        "id": "V7v_TqxqIFRj",
        "outputId": "2d55990c-85e6-4944-b29f-ad6af97ae576"
      },
      "execution_count": 801,
      "outputs": [
        {
          "output_type": "display_data",
          "data": {
            "text/plain": [
              "<Figure size 720x216 with 1 Axes>"
            ],
            "image/png": "[encoded data removed]"
          },
          "metadata": {
            "needs_background": "light"
          }
        }
      ]
    },
    {
      "cell_type": "code",
      "source": [
        "# Baseado no grupo de idade \n",
        "\n",
        "plt.figure(figsize=(10,3))\n",
        "sns.barplot(x = \"age_group\", y = \"suicide_count\", hue = \"gender\", data = df)\n",
        "plt.title(\"Grupo de idade - Genero\")\n",
        "plt.show()"
      ],
      "metadata": {
        "colab": {
          "base_uri": "https://localhost:8080/",
          "height": 241
        },
        "id": "CDR8R6qnI09R",
        "outputId": "0133120a-7da1-4ec7-9f3d-7e263599607a"
      },
      "execution_count": 802,
      "outputs": [
        {
          "output_type": "display_data",
          "data": {
            "text/plain": [
              "<Figure size 720x216 with 1 Axes>"
            ],
            "image/png": "[encoded data removed]"
          },
          "metadata": {
            "needs_background": "light"
          }
        }
      ]
    },
    {
      "cell_type": "code",
      "source": [
        "#Geracao - Genero\n",
        "\n",
        "plt.figure(figsize=(9,5))\n",
        "sns.barplot(x = \"generation\", y = \"suicide_count\", hue = \"gender\", data = df)\n",
        "plt.title('Geracao - Genero')\n",
        "plt.show()"
      ],
      "metadata": {
        "colab": {
          "base_uri": "https://localhost:8080/",
          "height": 350
        },
        "id": "x454daU5JOkW",
        "outputId": "4a392175-34f1-4c08-bd1a-69cc61824d4c"
      },
      "execution_count": 803,
      "outputs": [
        {
          "output_type": "display_data",
          "data": {
            "text/plain": [
              "<Figure size 648x360 with 1 Axes>"
            ],
            "image/png": "[encoded data removed]"
          },
          "metadata": {
            "needs_background": "light"
          }
        }
      ]
    },
    {
      "cell_type": "code",
      "source": [
        "# 5 paises com maiores numeros de suicidio totais\n",
        "\n",
        "top5 = df[['country','suicide_count']].groupby(['country']).sum().sort_values(by=\"suicide_count\", ascending=False)[:5]\n",
        "\n",
        "topdf = pd.DataFrame(top5)\n",
        "\n",
        "plt.figure(figsize=(9,5))\n",
        "topdf.plot.bar(rot=20)\n",
        "plt.title(\"Os 5 maiores paises com numero total de suicidios\")\n",
        "plt.show()\n",
        "\n"
      ],
      "metadata": {
        "colab": {
          "base_uri": "https://localhost:8080/",
          "height": 345
        },
        "id": "FN1PMX0uXoJT",
        "outputId": "cfc87f07-479d-44e9-9e4e-9652396b2e97"
      },
      "execution_count": 804,
      "outputs": [
        {
          "output_type": "display_data",
          "data": {
            "text/plain": [
              "<Figure size 648x360 with 0 Axes>"
            ]
          },
          "metadata": {}
        },
        {
          "output_type": "display_data",
          "data": {
            "text/plain": [
              "<Figure size 432x288 with 1 Axes>"
            ],
            "image/png": "[encoded data removed]"
          },
          "metadata": {
            "needs_background": "light"
          }
        }
      ]
    },
    {
      "cell_type": "code",
      "source": [
        "# Grafico de linha continua sobre a quantidade de suicidio com o decorrer dos anos\n",
        "\n",
        "df[['year','suicide_count']].groupby(['year']).sum().plot()"
      ],
      "metadata": {
        "colab": {
          "base_uri": "https://localhost:8080/",
          "height": 297
        },
        "id": "7s4Y1l0iJqP1",
        "outputId": "a759fb82-034f-4904-c267-1d9cf5633e62"
      },
      "execution_count": 805,
      "outputs": [
        {
          "output_type": "execute_result",
          "data": {
            "text/plain": [
              "<matplotlib.axes._subplots.AxesSubplot at 0x7f46cff56b90>"
            ]
          },
          "metadata": {},
          "execution_count": 805
        },
        {
          "output_type": "display_data",
          "data": {
            "text/plain": [
              "<Figure size 432x288 with 1 Axes>"
            ],
            "image/png": "[encoded data removed]"
          },
          "metadata": {
            "needs_background": "light"
          }
        }
      ]
    },
    {
      "cell_type": "markdown",
      "source": [
        "## Pre-processamento do dataset"
      ],
      "metadata": {
        "id": "Eu4C5G9sIQc0"
      }
    },
    {
      "cell_type": "code",
      "execution_count": 754,
      "metadata": {
        "id": "RomeYSCYegxw"
      },
      "outputs": [],
      "source": [
        "# Retira as linhas com dados inconsistentes\n",
        "def dropNanFromCsv(dataset):\n",
        "  notNullDataset = dataset.dropna()\n",
        "  return notNullDataset\n",
        "\n",
        "  \n",
        "def groupBy(self, group):\n",
        "  return self.suicide_dataset.groupby([group])"
      ]
    },
    {
      "cell_type": "code",
      "source": [
        "# Analizando quantos dos dados sao inconsistentes (null)\n",
        "\n",
        "df.isnull().sum()"
      ],
      "metadata": {
        "colab": {
          "base_uri": "https://localhost:8080/"
        },
        "id": "KAmsw3HoKPQD",
        "outputId": "0f6fd0f8-494d-433c-ff53-56dd35a3ce1b"
      },
      "execution_count": 755,
      "outputs": [
        {
          "output_type": "execute_result",
          "data": {
            "text/plain": [
              "country               0\n",
              "year                  0\n",
              "gender                0\n",
              "age_group             0\n",
              "suicide_count         0\n",
              "population            0\n",
              "suicide_rate          0\n",
              "country-year          0\n",
              "HDI for year      19456\n",
              "gdp_for_year          0\n",
              "gdp_per_capita        0\n",
              "generation            0\n",
              "dtype: int64"
            ]
          },
          "metadata": {},
          "execution_count": 755
        }
      ]
    },
    {
      "cell_type": "code",
      "source": [
        "# Como a maioria das linhas possuem HDI_for_year null, vamos remove-la do dataframe\n",
        "\n",
        "df = df.drop([\"HDI for year\"], axis=1)\n",
        "\n",
        "df.head()\n",
        "\n"
      ],
      "metadata": {
        "colab": {
          "base_uri": "https://localhost:8080/",
          "height": 305
        },
        "id": "TNcFe-GqKazp",
        "outputId": "8a40164e-7f87-4cf6-fe23-cd2f1b916898"
      },
      "execution_count": 756,
      "outputs": [
        {
          "output_type": "execute_result",
          "data": {
            "text/plain": [
              "   country  year  gender    age_group  suicide_count  population  \\\n",
              "0  Albania  1987    male  15-24 years             21      312900   \n",
              "1  Albania  1987    male  35-54 years             16      308000   \n",
              "2  Albania  1987  female  15-24 years             14      289700   \n",
              "3  Albania  1987    male    75+ years              1       21800   \n",
              "4  Albania  1987    male  25-34 years              9      274300   \n",
              "\n",
              "   suicide_rate country-year   gdp_for_year  gdp_per_capita       generation  \n",
              "0          6.71  Albania1987  2,156,624,900             796     Generation X  \n",
              "1          5.19  Albania1987  2,156,624,900             796           Silent  \n",
              "2          4.83  Albania1987  2,156,624,900             796     Generation X  \n",
              "3          4.59  Albania1987  2,156,624,900             796  G.I. Generation  \n",
              "4          3.28  Albania1987  2,156,624,900             796          Boomers  "
            ],
            "text/html": [
              "\n",
              "  <div id=\"df-260d29c3-540f-4038-9c77-14c8ab21fac6\">\n",
              "    <div class=\"colab-df-container\">\n",
              "      <div>\n",
              "<style scoped>\n",
              "    .dataframe tbody tr th:only-of-type {\n",
              "        vertical-align: middle;\n",
              "    }\n",
              "\n",
              "    .dataframe tbody tr th {\n",
              "        vertical-align: top;\n",
              "    }\n",
              "\n",
              "    .dataframe thead th {\n",
              "        text-align: right;\n",
              "    }\n",
              "</style>\n",
              "<table border=\"1\" class=\"dataframe\">\n",
              "  <thead>\n",
              "    <tr style=\"text-align: right;\">\n",
              "      <th></th>\n",
              "      <th>country</th>\n",
              "      <th>year</th>\n",
              "      <th>gender</th>\n",
              "      <th>age_group</th>\n",
              "      <th>suicide_count</th>\n",
              "      <th>population</th>\n",
              "      <th>suicide_rate</th>\n",
              "      <th>country-year</th>\n",
              "      <th>gdp_for_year</th>\n",
              "      <th>gdp_per_capita</th>\n",
              "      <th>generation</th>\n",
              "    </tr>\n",
              "  </thead>\n",
              "  <tbody>\n",
              "    <tr>\n",
              "      <th>0</th>\n",
              "      <td>Albania</td>\n",
              "      <td>1987</td>\n",
              "      <td>male</td>\n",
              "      <td>15-24 years</td>\n",
              "      <td>21</td>\n",
              "      <td>312900</td>\n",
              "      <td>6.71</td>\n",
              "      <td>Albania1987</td>\n",
              "      <td>2,156,624,900</td>\n",
              "      <td>796</td>\n",
              "      <td>Generation X</td>\n",
              "    </tr>\n",
              "    <tr>\n",
              "      <th>1</th>\n",
              "      <td>Albania</td>\n",
              "      <td>1987</td>\n",
              "      <td>male</td>\n",
              "      <td>35-54 years</td>\n",
              "      <td>16</td>\n",
              "      <td>308000</td>\n",
              "      <td>5.19</td>\n",
              "      <td>Albania1987</td>\n",
              "      <td>2,156,624,900</td>\n",
              "      <td>796</td>\n",
              "      <td>Silent</td>\n",
              "    </tr>\n",
              "    <tr>\n",
              "      <th>2</th>\n",
              "      <td>Albania</td>\n",
              "      <td>1987</td>\n",
              "      <td>female</td>\n",
              "      <td>15-24 years</td>\n",
              "      <td>14</td>\n",
              "      <td>289700</td>\n",
              "      <td>4.83</td>\n",
              "      <td>Albania1987</td>\n",
              "      <td>2,156,624,900</td>\n",
              "      <td>796</td>\n",
              "      <td>Generation X</td>\n",
              "    </tr>\n",
              "    <tr>\n",
              "      <th>3</th>\n",
              "      <td>Albania</td>\n",
              "      <td>1987</td>\n",
              "      <td>male</td>\n",
              "      <td>75+ years</td>\n",
              "      <td>1</td>\n",
              "      <td>21800</td>\n",
              "      <td>4.59</td>\n",
              "      <td>Albania1987</td>\n",
              "      <td>2,156,624,900</td>\n",
              "      <td>796</td>\n",
              "      <td>G.I. Generation</td>\n",
              "    </tr>\n",
              "    <tr>\n",
              "      <th>4</th>\n",
              "      <td>Albania</td>\n",
              "      <td>1987</td>\n",
              "      <td>male</td>\n",
              "      <td>25-34 years</td>\n",
              "      <td>9</td>\n",
              "      <td>274300</td>\n",
              "      <td>3.28</td>\n",
              "      <td>Albania1987</td>\n",
              "      <td>2,156,624,900</td>\n",
              "      <td>796</td>\n",
              "      <td>Boomers</td>\n",
              "    </tr>\n",
              "  </tbody>\n",
              "</table>\n",
              "</div>\n",
              "      <button class=\"colab-df-convert\" onclick=\"convertToInteractive('df-260d29c3-540f-4038-9c77-14c8ab21fac6')\"\n",
              "              title=\"Convert this dataframe to an interactive table.\"\n",
              "              style=\"display:none;\">\n",
              "        \n",
              "  <svg xmlns=\"http://www.w3.org/2000/svg\" height=\"24px\"viewBox=\"0 0 24 24\"\n",
              "       width=\"24px\">\n",
              "    <path d=\"M0 0h24v24H0V0z\" fill=\"none\"/>\n",
              "    <path d=\"M18.56 5.44l.94 2.06.94-2.06 2.06-.94-2.06-.94-.94-2.06-.94 2.06-2.06.94zm-11 1L8.5 8.5l.94-2.06 2.06-.94-2.06-.94L8.5 2.5l-.94 2.06-2.06.94zm10 10l.94 2.06.94-2.06 2.06-.94-2.06-.94-.94-2.06-.94 2.06-2.06.94z\"/><path d=\"M17.41 7.96l-1.37-1.37c-.4-.4-.92-.59-1.43-.59-.52 0-1.04.2-1.43.59L10.3 9.45l-7.72 7.72c-.78.78-.78 2.05 0 2.83L4 21.41c.39.39.9.59 1.41.59.51 0 1.02-.2 1.41-.59l7.78-7.78 2.81-2.81c.8-.78.8-2.07 0-2.86zM5.41 20L4 18.59l7.72-7.72 1.47 1.35L5.41 20z\"/>\n",
              "  </svg>\n",
              "      </button>\n",
              "      \n",
              "  <style>\n",
              "    .colab-df-container {\n",
              "      display:flex;\n",
              "      flex-wrap:wrap;\n",
              "      gap: 12px;\n",
              "    }\n",
              "\n",
              "    .colab-df-convert {\n",
              "      background-color: #E8F0FE;\n",
              "      border: none;\n",
              "      border-radius: 50%;\n",
              "      cursor: pointer;\n",
              "      display: none;\n",
              "      fill: #1967D2;\n",
              "      height: 32px;\n",
              "      padding: 0 0 0 0;\n",
              "      width: 32px;\n",
              "    }\n",
              "\n",
              "    .colab-df-convert:hover {\n",
              "      background-color: #E2EBFA;\n",
              "      box-shadow: 0px 1px 2px rgba(60, 64, 67, 0.3), 0px 1px 3px 1px rgba(60, 64, 67, 0.15);\n",
              "      fill: #174EA6;\n",
              "    }\n",
              "\n",
              "    [theme=dark] .colab-df-convert {\n",
              "      background-color: #3B4455;\n",
              "      fill: #D2E3FC;\n",
              "    }\n",
              "\n",
              "    [theme=dark] .colab-df-convert:hover {\n",
              "      background-color: #434B5C;\n",
              "      box-shadow: 0px 1px 3px 1px rgba(0, 0, 0, 0.15);\n",
              "      filter: drop-shadow(0px 1px 2px rgba(0, 0, 0, 0.3));\n",
              "      fill: #FFFFFF;\n",
              "    }\n",
              "  </style>\n",
              "\n",
              "      <script>\n",
              "        const buttonEl =\n",
              "          document.querySelector('#df-260d29c3-540f-4038-9c77-14c8ab21fac6 button.colab-df-convert');\n",
              "        buttonEl.style.display =\n",
              "          google.colab.kernel.accessAllowed ? 'block' : 'none';\n",
              "\n",
              "        async function convertToInteractive(key) {\n",
              "          const element = document.querySelector('#df-260d29c3-540f-4038-9c77-14c8ab21fac6');\n",
              "          const dataTable =\n",
              "            await google.colab.kernel.invokeFunction('convertToInteractive',\n",
              "                                                     [key], {});\n",
              "          if (!dataTable) return;\n",
              "\n",
              "          const docLinkHtml = 'Like what you see? Visit the ' +\n",
              "            '<a target=\"_blank\" href=https://colab.research.google.com/notebooks/data_table.ipynb>data table notebook</a>'\n",
              "            + ' to learn more about interactive tables.';\n",
              "          element.innerHTML = '';\n",
              "          dataTable['output_type'] = 'display_data';\n",
              "          await google.colab.output.renderOutput(dataTable, element);\n",
              "          const docLink = document.createElement('div');\n",
              "          docLink.innerHTML = docLinkHtml;\n",
              "          element.appendChild(docLink);\n",
              "        }\n",
              "      </script>\n",
              "    </div>\n",
              "  </div>\n",
              "  "
            ]
          },
          "metadata": {},
          "execution_count": 756
        }
      ]
    },
    {
      "cell_type": "code",
      "source": [
        "# a coluna countr-year eh apenas uma juncao do pais com o ano, nao sera util para nosso estudo, entao vamos remove-la do dataframe\n",
        "\n",
        "df = df.drop([\"country-year\"], axis=1)\n",
        "\n",
        "df.head()"
      ],
      "metadata": {
        "colab": {
          "base_uri": "https://localhost:8080/",
          "height": 206
        },
        "id": "7HJkEe8VKzZ4",
        "outputId": "629f63ab-e23d-4678-9471-576ec833807e"
      },
      "execution_count": 757,
      "outputs": [
        {
          "output_type": "execute_result",
          "data": {
            "text/plain": [
              "   country  year  gender    age_group  suicide_count  population  \\\n",
              "0  Albania  1987    male  15-24 years             21      312900   \n",
              "1  Albania  1987    male  35-54 years             16      308000   \n",
              "2  Albania  1987  female  15-24 years             14      289700   \n",
              "3  Albania  1987    male    75+ years              1       21800   \n",
              "4  Albania  1987    male  25-34 years              9      274300   \n",
              "\n",
              "   suicide_rate   gdp_for_year  gdp_per_capita       generation  \n",
              "0          6.71  2,156,624,900             796     Generation X  \n",
              "1          5.19  2,156,624,900             796           Silent  \n",
              "2          4.83  2,156,624,900             796     Generation X  \n",
              "3          4.59  2,156,624,900             796  G.I. Generation  \n",
              "4          3.28  2,156,624,900             796          Boomers  "
            ],
            "text/html": [
              "\n",
              "  <div id=\"df-f4ff11d9-ec1b-4c50-bb01-ac4b1d7b78c1\">\n",
              "    <div class=\"colab-df-container\">\n",
              "      <div>\n",
              "<style scoped>\n",
              "    .dataframe tbody tr th:only-of-type {\n",
              "        vertical-align: middle;\n",
              "    }\n",
              "\n",
              "    .dataframe tbody tr th {\n",
              "        vertical-align: top;\n",
              "    }\n",
              "\n",
              "    .dataframe thead th {\n",
              "        text-align: right;\n",
              "    }\n",
              "</style>\n",
              "<table border=\"1\" class=\"dataframe\">\n",
              "  <thead>\n",
              "    <tr style=\"text-align: right;\">\n",
              "      <th></th>\n",
              "      <th>country</th>\n",
              "      <th>year</th>\n",
              "      <th>gender</th>\n",
              "      <th>age_group</th>\n",
              "      <th>suicide_count</th>\n",
              "      <th>population</th>\n",
              "      <th>suicide_rate</th>\n",
              "      <th>gdp_for_year</th>\n",
              "      <th>gdp_per_capita</th>\n",
              "      <th>generation</th>\n",
              "    </tr>\n",
              "  </thead>\n",
              "  <tbody>\n",
              "    <tr>\n",
              "      <th>0</th>\n",
              "      <td>Albania</td>\n",
              "      <td>1987</td>\n",
              "      <td>male</td>\n",
              "      <td>15-24 years</td>\n",
              "      <td>21</td>\n",
              "      <td>312900</td>\n",
              "      <td>6.71</td>\n",
              "      <td>2,156,624,900</td>\n",
              "      <td>796</td>\n",
              "      <td>Generation X</td>\n",
              "    </tr>\n",
              "    <tr>\n",
              "      <th>1</th>\n",
              "      <td>Albania</td>\n",
              "      <td>1987</td>\n",
              "      <td>male</td>\n",
              "      <td>35-54 years</td>\n",
              "      <td>16</td>\n",
              "      <td>308000</td>\n",
              "      <td>5.19</td>\n",
              "      <td>2,156,624,900</td>\n",
              "      <td>796</td>\n",
              "      <td>Silent</td>\n",
              "    </tr>\n",
              "    <tr>\n",
              "      <th>2</th>\n",
              "      <td>Albania</td>\n",
              "      <td>1987</td>\n",
              "      <td>female</td>\n",
              "      <td>15-24 years</td>\n",
              "      <td>14</td>\n",
              "      <td>289700</td>\n",
              "      <td>4.83</td>\n",
              "      <td>2,156,624,900</td>\n",
              "      <td>796</td>\n",
              "      <td>Generation X</td>\n",
              "    </tr>\n",
              "    <tr>\n",
              "      <th>3</th>\n",
              "      <td>Albania</td>\n",
              "      <td>1987</td>\n",
              "      <td>male</td>\n",
              "      <td>75+ years</td>\n",
              "      <td>1</td>\n",
              "      <td>21800</td>\n",
              "      <td>4.59</td>\n",
              "      <td>2,156,624,900</td>\n",
              "      <td>796</td>\n",
              "      <td>G.I. Generation</td>\n",
              "    </tr>\n",
              "    <tr>\n",
              "      <th>4</th>\n",
              "      <td>Albania</td>\n",
              "      <td>1987</td>\n",
              "      <td>male</td>\n",
              "      <td>25-34 years</td>\n",
              "      <td>9</td>\n",
              "      <td>274300</td>\n",
              "      <td>3.28</td>\n",
              "      <td>2,156,624,900</td>\n",
              "      <td>796</td>\n",
              "      <td>Boomers</td>\n",
              "    </tr>\n",
              "  </tbody>\n",
              "</table>\n",
              "</div>\n",
              "      <button class=\"colab-df-convert\" onclick=\"convertToInteractive('df-f4ff11d9-ec1b-4c50-bb01-ac4b1d7b78c1')\"\n",
              "              title=\"Convert this dataframe to an interactive table.\"\n",
              "              style=\"display:none;\">\n",
              "        \n",
              "  <svg xmlns=\"http://www.w3.org/2000/svg\" height=\"24px\"viewBox=\"0 0 24 24\"\n",
              "       width=\"24px\">\n",
              "    <path d=\"M0 0h24v24H0V0z\" fill=\"none\"/>\n",
              "    <path d=\"M18.56 5.44l.94 2.06.94-2.06 2.06-.94-2.06-.94-.94-2.06-.94 2.06-2.06.94zm-11 1L8.5 8.5l.94-2.06 2.06-.94-2.06-.94L8.5 2.5l-.94 2.06-2.06.94zm10 10l.94 2.06.94-2.06 2.06-.94-2.06-.94-.94-2.06-.94 2.06-2.06.94z\"/><path d=\"M17.41 7.96l-1.37-1.37c-.4-.4-.92-.59-1.43-.59-.52 0-1.04.2-1.43.59L10.3 9.45l-7.72 7.72c-.78.78-.78 2.05 0 2.83L4 21.41c.39.39.9.59 1.41.59.51 0 1.02-.2 1.41-.59l7.78-7.78 2.81-2.81c.8-.78.8-2.07 0-2.86zM5.41 20L4 18.59l7.72-7.72 1.47 1.35L5.41 20z\"/>\n",
              "  </svg>\n",
              "      </button>\n",
              "      \n",
              "  <style>\n",
              "    .colab-df-container {\n",
              "      display:flex;\n",
              "      flex-wrap:wrap;\n",
              "      gap: 12px;\n",
              "    }\n",
              "\n",
              "    .colab-df-convert {\n",
              "      background-color: #E8F0FE;\n",
              "      border: none;\n",
              "      border-radius: 50%;\n",
              "      cursor: pointer;\n",
              "      display: none;\n",
              "      fill: #1967D2;\n",
              "      height: 32px;\n",
              "      padding: 0 0 0 0;\n",
              "      width: 32px;\n",
              "    }\n",
              "\n",
              "    .colab-df-convert:hover {\n",
              "      background-color: #E2EBFA;\n",
              "      box-shadow: 0px 1px 2px rgba(60, 64, 67, 0.3), 0px 1px 3px 1px rgba(60, 64, 67, 0.15);\n",
              "      fill: #174EA6;\n",
              "    }\n",
              "\n",
              "    [theme=dark] .colab-df-convert {\n",
              "      background-color: #3B4455;\n",
              "      fill: #D2E3FC;\n",
              "    }\n",
              "\n",
              "    [theme=dark] .colab-df-convert:hover {\n",
              "      background-color: #434B5C;\n",
              "      box-shadow: 0px 1px 3px 1px rgba(0, 0, 0, 0.15);\n",
              "      filter: drop-shadow(0px 1px 2px rgba(0, 0, 0, 0.3));\n",
              "      fill: #FFFFFF;\n",
              "    }\n",
              "  </style>\n",
              "\n",
              "      <script>\n",
              "        const buttonEl =\n",
              "          document.querySelector('#df-f4ff11d9-ec1b-4c50-bb01-ac4b1d7b78c1 button.colab-df-convert');\n",
              "        buttonEl.style.display =\n",
              "          google.colab.kernel.accessAllowed ? 'block' : 'none';\n",
              "\n",
              "        async function convertToInteractive(key) {\n",
              "          const element = document.querySelector('#df-f4ff11d9-ec1b-4c50-bb01-ac4b1d7b78c1');\n",
              "          const dataTable =\n",
              "            await google.colab.kernel.invokeFunction('convertToInteractive',\n",
              "                                                     [key], {});\n",
              "          if (!dataTable) return;\n",
              "\n",
              "          const docLinkHtml = 'Like what you see? Visit the ' +\n",
              "            '<a target=\"_blank\" href=https://colab.research.google.com/notebooks/data_table.ipynb>data table notebook</a>'\n",
              "            + ' to learn more about interactive tables.';\n",
              "          element.innerHTML = '';\n",
              "          dataTable['output_type'] = 'display_data';\n",
              "          await google.colab.output.renderOutput(dataTable, element);\n",
              "          const docLink = document.createElement('div');\n",
              "          docLink.innerHTML = docLinkHtml;\n",
              "          element.appendChild(docLink);\n",
              "        }\n",
              "      </script>\n",
              "    </div>\n",
              "  </div>\n",
              "  "
            ]
          },
          "metadata": {},
          "execution_count": 757
        }
      ]
    },
    {
      "cell_type": "code",
      "source": [
        "# Agora temos nenhuma linha com dados inconsistentes\n",
        "\n",
        "df.isnull().sum()"
      ],
      "metadata": {
        "colab": {
          "base_uri": "https://localhost:8080/"
        },
        "id": "eSPm3A-RLGyZ",
        "outputId": "0292035f-673a-4449-f38a-23e432bee1e6"
      },
      "execution_count": 758,
      "outputs": [
        {
          "output_type": "execute_result",
          "data": {
            "text/plain": [
              "country           0\n",
              "year              0\n",
              "gender            0\n",
              "age_group         0\n",
              "suicide_count     0\n",
              "population        0\n",
              "suicide_rate      0\n",
              "gdp_for_year      0\n",
              "gdp_per_capita    0\n",
              "generation        0\n",
              "dtype: int64"
            ]
          },
          "metadata": {},
          "execution_count": 758
        }
      ]
    },
    {
      "cell_type": "markdown",
      "source": [
        "### Transformando as celulas de dados categoricos em numeros (label enconding)"
      ],
      "metadata": {
        "id": "WrRELvLTLRkX"
      }
    },
    {
      "cell_type": "code",
      "source": [
        "# copiando o dataset antes de fazer o encoder para fins de comparacao\n",
        "\n",
        "clean_dataset = df.copy()\n",
        "clean_dataset.info()"
      ],
      "metadata": {
        "colab": {
          "base_uri": "https://localhost:8080/"
        },
        "id": "mVpuJRwgAsgs",
        "outputId": "5ec6500b-f398-484a-bbc4-eed01da08ba4"
      },
      "execution_count": 759,
      "outputs": [
        {
          "output_type": "stream",
          "name": "stdout",
          "text": [
            "<class 'pandas.core.frame.DataFrame'>\n",
            "RangeIndex: 27820 entries, 0 to 27819\n",
            "Data columns (total 10 columns):\n",
            " #   Column          Non-Null Count  Dtype  \n",
            "---  ------          --------------  -----  \n",
            " 0   country         27820 non-null  object \n",
            " 1   year            27820 non-null  int64  \n",
            " 2   gender          27820 non-null  object \n",
            " 3   age_group       27820 non-null  object \n",
            " 4   suicide_count   27820 non-null  int64  \n",
            " 5   population      27820 non-null  int64  \n",
            " 6   suicide_rate    27820 non-null  float64\n",
            " 7   gdp_for_year    27820 non-null  object \n",
            " 8   gdp_per_capita  27820 non-null  int64  \n",
            " 9   generation      27820 non-null  object \n",
            "dtypes: float64(1), int64(4), object(5)\n",
            "memory usage: 2.1+ MB\n"
          ]
        }
      ]
    },
    {
      "cell_type": "code",
      "source": [
        "\n",
        "from sklearn.preprocessing import LabelEncoder\n",
        "categorical = ['year','age_group', 'gender', 'generation' , 'country']\n",
        "le = LabelEncoder()\n",
        "\n",
        "for column in categorical:\n",
        "    df[column] = le.fit_transform(df[column])\n",
        "\n",
        "df.head()"
      ],
      "metadata": {
        "colab": {
          "base_uri": "https://localhost:8080/",
          "height": 206
        },
        "id": "SF8gtK51Lcg5",
        "outputId": "38db8921-cd7e-45b9-df27-ee988717c3aa"
      },
      "execution_count": 760,
      "outputs": [
        {
          "output_type": "execute_result",
          "data": {
            "text/plain": [
              "   country  year  gender  age_group  suicide_count  population  suicide_rate  \\\n",
              "0        0     2       1          0             21      312900          6.71   \n",
              "1        0     2       1          2             16      308000          5.19   \n",
              "2        0     2       0          0             14      289700          4.83   \n",
              "3        0     2       1          5              1       21800          4.59   \n",
              "4        0     2       1          1              9      274300          3.28   \n",
              "\n",
              "    gdp_for_year  gdp_per_capita  generation  \n",
              "0  2,156,624,900             796           2  \n",
              "1  2,156,624,900             796           5  \n",
              "2  2,156,624,900             796           2  \n",
              "3  2,156,624,900             796           1  \n",
              "4  2,156,624,900             796           0  "
            ],
            "text/html": [
              "\n",
              "  <div id=\"df-0b811a8a-a367-4f1b-94df-a4c44db5c8c7\">\n",
              "    <div class=\"colab-df-container\">\n",
              "      <div>\n",
              "<style scoped>\n",
              "    .dataframe tbody tr th:only-of-type {\n",
              "        vertical-align: middle;\n",
              "    }\n",
              "\n",
              "    .dataframe tbody tr th {\n",
              "        vertical-align: top;\n",
              "    }\n",
              "\n",
              "    .dataframe thead th {\n",
              "        text-align: right;\n",
              "    }\n",
              "</style>\n",
              "<table border=\"1\" class=\"dataframe\">\n",
              "  <thead>\n",
              "    <tr style=\"text-align: right;\">\n",
              "      <th></th>\n",
              "      <th>country</th>\n",
              "      <th>year</th>\n",
              "      <th>gender</th>\n",
              "      <th>age_group</th>\n",
              "      <th>suicide_count</th>\n",
              "      <th>population</th>\n",
              "      <th>suicide_rate</th>\n",
              "      <th>gdp_for_year</th>\n",
              "      <th>gdp_per_capita</th>\n",
              "      <th>generation</th>\n",
              "    </tr>\n",
              "  </thead>\n",
              "  <tbody>\n",
              "    <tr>\n",
              "      <th>0</th>\n",
              "      <td>0</td>\n",
              "      <td>2</td>\n",
              "      <td>1</td>\n",
              "      <td>0</td>\n",
              "      <td>21</td>\n",
              "      <td>312900</td>\n",
              "      <td>6.71</td>\n",
              "      <td>2,156,624,900</td>\n",
              "      <td>796</td>\n",
              "      <td>2</td>\n",
              "    </tr>\n",
              "    <tr>\n",
              "      <th>1</th>\n",
              "      <td>0</td>\n",
              "      <td>2</td>\n",
              "      <td>1</td>\n",
              "      <td>2</td>\n",
              "      <td>16</td>\n",
              "      <td>308000</td>\n",
              "      <td>5.19</td>\n",
              "      <td>2,156,624,900</td>\n",
              "      <td>796</td>\n",
              "      <td>5</td>\n",
              "    </tr>\n",
              "    <tr>\n",
              "      <th>2</th>\n",
              "      <td>0</td>\n",
              "      <td>2</td>\n",
              "      <td>0</td>\n",
              "      <td>0</td>\n",
              "      <td>14</td>\n",
              "      <td>289700</td>\n",
              "      <td>4.83</td>\n",
              "      <td>2,156,624,900</td>\n",
              "      <td>796</td>\n",
              "      <td>2</td>\n",
              "    </tr>\n",
              "    <tr>\n",
              "      <th>3</th>\n",
              "      <td>0</td>\n",
              "      <td>2</td>\n",
              "      <td>1</td>\n",
              "      <td>5</td>\n",
              "      <td>1</td>\n",
              "      <td>21800</td>\n",
              "      <td>4.59</td>\n",
              "      <td>2,156,624,900</td>\n",
              "      <td>796</td>\n",
              "      <td>1</td>\n",
              "    </tr>\n",
              "    <tr>\n",
              "      <th>4</th>\n",
              "      <td>0</td>\n",
              "      <td>2</td>\n",
              "      <td>1</td>\n",
              "      <td>1</td>\n",
              "      <td>9</td>\n",
              "      <td>274300</td>\n",
              "      <td>3.28</td>\n",
              "      <td>2,156,624,900</td>\n",
              "      <td>796</td>\n",
              "      <td>0</td>\n",
              "    </tr>\n",
              "  </tbody>\n",
              "</table>\n",
              "</div>\n",
              "      <button class=\"colab-df-convert\" onclick=\"convertToInteractive('df-0b811a8a-a367-4f1b-94df-a4c44db5c8c7')\"\n",
              "              title=\"Convert this dataframe to an interactive table.\"\n",
              "              style=\"display:none;\">\n",
              "        \n",
              "  <svg xmlns=\"http://www.w3.org/2000/svg\" height=\"24px\"viewBox=\"0 0 24 24\"\n",
              "       width=\"24px\">\n",
              "    <path d=\"M0 0h24v24H0V0z\" fill=\"none\"/>\n",
              "    <path d=\"M18.56 5.44l.94 2.06.94-2.06 2.06-.94-2.06-.94-.94-2.06-.94 2.06-2.06.94zm-11 1L8.5 8.5l.94-2.06 2.06-.94-2.06-.94L8.5 2.5l-.94 2.06-2.06.94zm10 10l.94 2.06.94-2.06 2.06-.94-2.06-.94-.94-2.06-.94 2.06-2.06.94z\"/><path d=\"M17.41 7.96l-1.37-1.37c-.4-.4-.92-.59-1.43-.59-.52 0-1.04.2-1.43.59L10.3 9.45l-7.72 7.72c-.78.78-.78 2.05 0 2.83L4 21.41c.39.39.9.59 1.41.59.51 0 1.02-.2 1.41-.59l7.78-7.78 2.81-2.81c.8-.78.8-2.07 0-2.86zM5.41 20L4 18.59l7.72-7.72 1.47 1.35L5.41 20z\"/>\n",
              "  </svg>\n",
              "      </button>\n",
              "      \n",
              "  <style>\n",
              "    .colab-df-container {\n",
              "      display:flex;\n",
              "      flex-wrap:wrap;\n",
              "      gap: 12px;\n",
              "    }\n",
              "\n",
              "    .colab-df-convert {\n",
              "      background-color: #E8F0FE;\n",
              "      border: none;\n",
              "      border-radius: 50%;\n",
              "      cursor: pointer;\n",
              "      display: none;\n",
              "      fill: #1967D2;\n",
              "      height: 32px;\n",
              "      padding: 0 0 0 0;\n",
              "      width: 32px;\n",
              "    }\n",
              "\n",
              "    .colab-df-convert:hover {\n",
              "      background-color: #E2EBFA;\n",
              "      box-shadow: 0px 1px 2px rgba(60, 64, 67, 0.3), 0px 1px 3px 1px rgba(60, 64, 67, 0.15);\n",
              "      fill: #174EA6;\n",
              "    }\n",
              "\n",
              "    [theme=dark] .colab-df-convert {\n",
              "      background-color: #3B4455;\n",
              "      fill: #D2E3FC;\n",
              "    }\n",
              "\n",
              "    [theme=dark] .colab-df-convert:hover {\n",
              "      background-color: #434B5C;\n",
              "      box-shadow: 0px 1px 3px 1px rgba(0, 0, 0, 0.15);\n",
              "      filter: drop-shadow(0px 1px 2px rgba(0, 0, 0, 0.3));\n",
              "      fill: #FFFFFF;\n",
              "    }\n",
              "  </style>\n",
              "\n",
              "      <script>\n",
              "        const buttonEl =\n",
              "          document.querySelector('#df-0b811a8a-a367-4f1b-94df-a4c44db5c8c7 button.colab-df-convert');\n",
              "        buttonEl.style.display =\n",
              "          google.colab.kernel.accessAllowed ? 'block' : 'none';\n",
              "\n",
              "        async function convertToInteractive(key) {\n",
              "          const element = document.querySelector('#df-0b811a8a-a367-4f1b-94df-a4c44db5c8c7');\n",
              "          const dataTable =\n",
              "            await google.colab.kernel.invokeFunction('convertToInteractive',\n",
              "                                                     [key], {});\n",
              "          if (!dataTable) return;\n",
              "\n",
              "          const docLinkHtml = 'Like what you see? Visit the ' +\n",
              "            '<a target=\"_blank\" href=https://colab.research.google.com/notebooks/data_table.ipynb>data table notebook</a>'\n",
              "            + ' to learn more about interactive tables.';\n",
              "          element.innerHTML = '';\n",
              "          dataTable['output_type'] = 'display_data';\n",
              "          await google.colab.output.renderOutput(dataTable, element);\n",
              "          const docLink = document.createElement('div');\n",
              "          docLink.innerHTML = docLinkHtml;\n",
              "          element.appendChild(docLink);\n",
              "        }\n",
              "      </script>\n",
              "    </div>\n",
              "  </div>\n",
              "  "
            ]
          },
          "metadata": {},
          "execution_count": 760
        }
      ]
    },
    {
      "cell_type": "code",
      "source": [
        "df.info()"
      ],
      "metadata": {
        "colab": {
          "base_uri": "https://localhost:8080/"
        },
        "id": "ILxvmWmiV70c",
        "outputId": "32d5b8b0-16ae-451c-b6bd-885b93061f7b"
      },
      "execution_count": 761,
      "outputs": [
        {
          "output_type": "stream",
          "name": "stdout",
          "text": [
            "<class 'pandas.core.frame.DataFrame'>\n",
            "RangeIndex: 27820 entries, 0 to 27819\n",
            "Data columns (total 10 columns):\n",
            " #   Column          Non-Null Count  Dtype  \n",
            "---  ------          --------------  -----  \n",
            " 0   country         27820 non-null  int64  \n",
            " 1   year            27820 non-null  int64  \n",
            " 2   gender          27820 non-null  int64  \n",
            " 3   age_group       27820 non-null  int64  \n",
            " 4   suicide_count   27820 non-null  int64  \n",
            " 5   population      27820 non-null  int64  \n",
            " 6   suicide_rate    27820 non-null  float64\n",
            " 7   gdp_for_year    27820 non-null  object \n",
            " 8   gdp_per_capita  27820 non-null  int64  \n",
            " 9   generation      27820 non-null  int64  \n",
            "dtypes: float64(1), int64(8), object(1)\n",
            "memory usage: 2.1+ MB\n"
          ]
        }
      ]
    },
    {
      "cell_type": "markdown",
      "source": [
        "# Implementacao do modelo"
      ],
      "metadata": {
        "id": "UK75nW2sM4AC"
      }
    },
    {
      "cell_type": "markdown",
      "source": [
        "### Separando o dataframe em teste e validacao"
      ],
      "metadata": {
        "id": "vD-KrghCM8PA"
      }
    },
    {
      "cell_type": "code",
      "source": [
        "y = df[\"suicide_count\"]\n",
        "X = df.drop([\"suicide_rate\", \"suicide_count\", \"generation\", \"gdp_for_year\", \"gdp_per_capita\"], axis=1)\n",
        "\n",
        "\n",
        "print(y.shape)\n",
        "print(X.shape)"
      ],
      "metadata": {
        "colab": {
          "base_uri": "https://localhost:8080/"
        },
        "id": "XM9FNxYwM_aJ",
        "outputId": "0d0def4e-1732-4fde-d103-3aae3c3b3b1d"
      },
      "execution_count": 762,
      "outputs": [
        {
          "output_type": "stream",
          "name": "stdout",
          "text": [
            "(27820,)\n",
            "(27820, 5)\n"
          ]
        }
      ]
    },
    {
      "cell_type": "code",
      "source": [
        "x_train, x_test, y_train, y_test = train_test_split(X, y, test_size=0.25, random_state=12)\n",
        "\n",
        "print(x_train.shape)\n",
        "print(y_train.shape)\n",
        "print(x_test.shape)\n",
        "print(y_test.shape)"
      ],
      "metadata": {
        "colab": {
          "base_uri": "https://localhost:8080/"
        },
        "id": "_E6HyHqgNSSe",
        "outputId": "abb539c2-c065-48d9-bd7d-9380d7bfa9ee"
      },
      "execution_count": 763,
      "outputs": [
        {
          "output_type": "stream",
          "name": "stdout",
          "text": [
            "(20865, 5)\n",
            "(20865,)\n",
            "(6955, 5)\n",
            "(6955,)\n"
          ]
        }
      ]
    },
    {
      "cell_type": "markdown",
      "source": [
        "## Dados de comparacao entre os metodos"
      ],
      "metadata": {
        "id": "_V4fcmWvc_jr"
      }
    },
    {
      "cell_type": "code",
      "source": [
        "ML_Model = []\n",
        "acc_train_res = []\n",
        "acc_test_res = []\n",
        "rmse_train_res = []\n",
        "rmse_test_res = []\n",
        "r2score_res = []\n",
        "maxError_res = []\n",
        "\n",
        "def storeResults(model, acc_train, acc_test, rmse_train, rmse_test, r2, max):\n",
        "    ML_Model.append(model)\n",
        "    acc_train_res.append(round(acc_train, 3))\n",
        "    acc_test_res.append(round(acc_test, 3))\n",
        "    rmse_train_res.append(round(rmse_train, 3))\n",
        "    rmse_test_res.append(round(rmse_test, 3))\n",
        "    r2score_res.append(round(r2))\n",
        "    maxError_res.append(round(max))\n",
        "\n"
      ],
      "metadata": {
        "id": "K8x45oN6dCuB"
      },
      "execution_count": 764,
      "outputs": []
    },
    {
      "cell_type": "markdown",
      "source": [
        "## Random Forest Regressor"
      ],
      "metadata": {
        "id": "Lin9eDQdNw7G"
      }
    },
    {
      "cell_type": "markdown",
      "source": [
        "### Implementando o modelo"
      ],
      "metadata": {
        "id": "hwF9HwpsN-Fu"
      }
    },
    {
      "cell_type": "code",
      "source": [
        "# RANDOM FOREST REGRESSOR\n",
        "\n",
        "from sklearn.ensemble import RandomForestRegressor\n",
        "\n",
        "forest = RandomForestRegressor(max_depth=20)\n",
        "\n",
        "forest.fit(x_train, y_train)"
      ],
      "metadata": {
        "colab": {
          "base_uri": "https://localhost:8080/"
        },
        "id": "-VWiuaOWNy8f",
        "outputId": "2d85b7a5-acf3-4aee-86b9-377bba930a51"
      },
      "execution_count": 765,
      "outputs": [
        {
          "output_type": "execute_result",
          "data": {
            "text/plain": [
              "RandomForestRegressor(max_depth=20)"
            ]
          },
          "metadata": {},
          "execution_count": 765
        }
      ]
    },
    {
      "cell_type": "code",
      "source": [
        "y_test_forest = forest.predict(x_test)\n",
        "y_train_forest = forest.predict(x_train)"
      ],
      "metadata": {
        "id": "22WXL_TROBBe"
      },
      "execution_count": 766,
      "outputs": []
    },
    {
      "cell_type": "markdown",
      "source": [
        "### Metricas"
      ],
      "metadata": {
        "id": "kUi-WBvTjjcc"
      }
    },
    {
      "cell_type": "code",
      "source": [
        "from sklearn.metrics import mean_squared_error\n",
        "\n",
        "acc_train_forest = forest.score(x_train, y_train) * 100\n",
        "acc_test_forest = forest.score(x_test, y_test) * 100\n",
        "\n",
        "rmse_train_forest = np.sqrt(mean_squared_error(y_train, y_train_forest))\n",
        "rmse_test_forest = np.sqrt(mean_squared_error(y_test, y_test_forest))\n",
        "\n",
        "print(\"Random Forest: Acuracia de treino: {:.3f}%\".format(acc_train_forest))\n",
        "print(\"Random Forest: Acuracia de validacao: {:.3f}%\".format(acc_test_forest))\n",
        "\n",
        "print(\"\\nErro medio de treino: \", rmse_train_forest)\n",
        "print(\"Erro medio de validacao: \", rmse_test_forest)"
      ],
      "metadata": {
        "colab": {
          "base_uri": "https://localhost:8080/"
        },
        "id": "qi24lMF6PGCO",
        "outputId": "beb6193e-d9da-4c79-fc7d-25cf6b2eddc6"
      },
      "execution_count": 767,
      "outputs": [
        {
          "output_type": "stream",
          "name": "stdout",
          "text": [
            "Random Forest: Acuracia de treino: 99.771%\n",
            "Random Forest: Acuracia de validacao: 99.082%\n",
            "\n",
            "Erro medio de treino:  43.54681717104046\n",
            "Erro medio de validacao:  84.02203299486338\n"
          ]
        }
      ]
    },
    {
      "cell_type": "code",
      "source": [
        "from sklearn.metrics import r2_score\n",
        "\n",
        "r2score = r2_score(y_test, y_test_forest) * 100\n",
        "\n",
        "print(\"Random Forest R2 score: {:.3f}%\".format(r2score))"
      ],
      "metadata": {
        "colab": {
          "base_uri": "https://localhost:8080/"
        },
        "id": "LPs76jmfjlwC",
        "outputId": "774dd1fd-6f2a-4385-a5d9-09889b7cd423"
      },
      "execution_count": 768,
      "outputs": [
        {
          "output_type": "stream",
          "name": "stdout",
          "text": [
            "Random Forest R2 score: 99.082%\n"
          ]
        }
      ]
    },
    {
      "cell_type": "code",
      "source": [
        "from sklearn.metrics import max_error\n",
        "\n",
        "maxError = max_error(y_test, y_test_forest)\n",
        "\n",
        "print(\"Random Forest erro maximo: {:.3f}\".format(maxError))"
      ],
      "metadata": {
        "colab": {
          "base_uri": "https://localhost:8080/"
        },
        "id": "-_K9CbkplCsi",
        "outputId": "c1342e01-5554-43a6-8cb9-a3ad055cccb6"
      },
      "execution_count": 769,
      "outputs": [
        {
          "output_type": "stream",
          "name": "stdout",
          "text": [
            "Random Forest erro maximo: 2679.220\n"
          ]
        }
      ]
    },
    {
      "cell_type": "code",
      "source": [
        "# armazenando os resultados\n",
        "\n",
        "storeResults(\"RandomForest_20\", acc_test=acc_test_forest, acc_train=acc_train_forest, rmse_train=rmse_train_forest, rmse_test=rmse_test_forest, r2=r2score, max=maxError)"
      ],
      "metadata": {
        "id": "cebke6O6gqar"
      },
      "execution_count": 770,
      "outputs": []
    },
    {
      "cell_type": "markdown",
      "source": [
        "### Problemas de overfitting?"
      ],
      "metadata": {
        "id": "P_xjULT4T2TT"
      }
    },
    {
      "cell_type": "code",
      "source": [
        "training_accuracy = []\n",
        "test_accuracy = []\n",
        "\n",
        "depth = range(1, 31)\n",
        "for n in depth:\n",
        "    tree = RandomForestRegressor(max_depth=n)\n",
        "    tree.fit(x_train, y_train)\n",
        "    training_accuracy.append(tree.score(x_train, y_train))\n",
        "    test_accuracy.append(tree.score(x_test, y_test))\n",
        "\n",
        "plt.plot(depth, training_accuracy, label=\"treino\")\n",
        "plt.plot(depth, test_accuracy, label=\"validacao\")\n",
        "plt.ylabel(\"Acuracia\")  \n",
        "plt.xlabel(\"Profundidade\")\n",
        "plt.title(\"Profundidades na Random Forest\")\n",
        "plt.legend()"
      ],
      "metadata": {
        "colab": {
          "base_uri": "https://localhost:8080/",
          "height": 313
        },
        "id": "QAcJuw8OT5je",
        "outputId": "2bdd2eda-74c5-44fc-99f5-ba116caef424"
      },
      "execution_count": 771,
      "outputs": [
        {
          "output_type": "execute_result",
          "data": {
            "text/plain": [
              "<matplotlib.legend.Legend at 0x7f46d0125f50>"
            ]
          },
          "metadata": {},
          "execution_count": 771
        },
        {
          "output_type": "display_data",
          "data": {
            "text/plain": [
              "<Figure size 432x288 with 1 Axes>"
            ],
            "image/png": "[encoded data removed]"
          },
          "metadata": {
            "needs_background": "light"
          }
        }
      ]
    },
    {
      "cell_type": "code",
      "source": [
        "forest = RandomForestRegressor(max_depth=7)\n",
        "\n",
        "forest.fit(x_train, y_train)"
      ],
      "metadata": {
        "colab": {
          "base_uri": "https://localhost:8080/"
        },
        "id": "NqrpKzjqWFiq",
        "outputId": "04fb3880-af72-4d68-91b5-695cfe5db4c4"
      },
      "execution_count": 772,
      "outputs": [
        {
          "output_type": "execute_result",
          "data": {
            "text/plain": [
              "RandomForestRegressor(max_depth=7)"
            ]
          },
          "metadata": {},
          "execution_count": 772
        }
      ]
    },
    {
      "cell_type": "code",
      "source": [
        "y_test_forest = forest.predict(x_test)\n",
        "y_train_forest = forest.predict(x_train)"
      ],
      "metadata": {
        "id": "-4_P1--FmMLu"
      },
      "execution_count": 773,
      "outputs": []
    },
    {
      "cell_type": "code",
      "source": [
        "acc_train_forest = forest.score(x_train, y_train) * 100\n",
        "acc_test_forest = forest.score(x_test, y_test) * 100\n",
        "\n",
        "rmse_train_forest = np.sqrt(mean_squared_error(y_train, y_train_forest))\n",
        "rmse_test_forest = np.sqrt(mean_squared_error(y_test, y_test_forest))\n",
        "\n",
        "print(\"Random Forest: Acuracia de treino: {:.3f}%\".format(acc_train_forest))\n",
        "print(\"Random Forest: Acuracia de validacao: {:.3f}%\".format(acc_test_forest))\n",
        "\n",
        "print(\"\\nErro medio de treino: \", rmse_train_forest)\n",
        "print(\"Erro medio de validacao: \", rmse_test_forest)\n",
        "\n",
        "from sklearn.metrics import r2_score\n",
        "\n",
        "r2score = r2_score(y_test, y_test_forest) * 100\n",
        "\n",
        "print(\"\\nRandom Forest R2 score: {:.3f}%\".format(r2score))\n",
        "\n",
        "from sklearn.metrics import max_error\n",
        "\n",
        "maxError = max_error(y_test, y_test_forest)\n",
        "\n",
        "print(\"\\nRandom Forest erro maximo: {:.3f}\".format(maxError))"
      ],
      "metadata": {
        "colab": {
          "base_uri": "https://localhost:8080/"
        },
        "id": "gxWTLZDeWLvw",
        "outputId": "4b38d6de-cb01-4c39-ba9c-ce8bf6c890e2"
      },
      "execution_count": 774,
      "outputs": [
        {
          "output_type": "stream",
          "name": "stdout",
          "text": [
            "Random Forest: Acuracia de treino: 94.109%\n",
            "Random Forest: Acuracia de validacao: 92.116%\n",
            "\n",
            "Erro medio de treino:  220.93757100914917\n",
            "Erro medio de validacao:  246.1900888693334\n",
            "\n",
            "Random Forest R2 score: 92.116%\n",
            "\n",
            "Random Forest erro maximo: 4236.109\n"
          ]
        }
      ]
    },
    {
      "cell_type": "code",
      "source": [
        "# Armazenando para comparacao\n",
        "\n",
        "storeResults(\"RandomForest_7\", acc_test=acc_test_forest, acc_train=acc_train_forest, rmse_train=rmse_train_forest, rmse_test=rmse_test_forest, r2=r2score, max=maxError)"
      ],
      "metadata": {
        "id": "SSZ7045JdRwW"
      },
      "execution_count": 775,
      "outputs": []
    },
    {
      "cell_type": "markdown",
      "source": [
        "### Predicao de uma amostra de tamanho 1"
      ],
      "metadata": {
        "id": "MEtzSG9_OUEN"
      }
    },
    {
      "cell_type": "code",
      "source": [
        "# country, year, gender, age_group, suicide_count, population, gdp_for_year, gdp_per_capta, generation\n",
        "\n",
        "# gdp = PIB\n",
        "\n",
        "\n",
        "# male = 1 | female = 0\n",
        "\n",
        "# 0: 15-24\n",
        "# 1: 25-34\n",
        "# 2: 35-54\n",
        "# 3: 5-14\n",
        "# 4: 55-74\n",
        "# 5: 75+\n",
        "\n",
        "# male: 1 | female: 0\n",
        "\n",
        "# Boomer: 0\n",
        "# GI Generation: 1\n",
        "# Geracao X: 2\n",
        "# Geracao Z: 3\n",
        "# Millenials: 4\n",
        "# Silent: 5\n",
        "\n",
        "# SINGLE PREDICTION\n",
        "\n",
        "pais =  15\n",
        "\n",
        "data = {\n",
        "    'country': [pais],\n",
        "    'year': [40],\n",
        "    'gender': [1],\n",
        "    'age_group': [0],\n",
        "    'population': [31290000],\n",
        "}\n",
        "\n",
        "pred_feat = pd.DataFrame(data)\n",
        "\n",
        "print(le.inverse_transform([pais]))\n",
        "\n",
        "pred = forest.predict(pred_feat)\n",
        "\n",
        "print(\"Tera {} suicidios aproximadamente\".format(max(pred)))\n",
        "\n",
        "#2973.80"
      ],
      "metadata": {
        "colab": {
          "base_uri": "https://localhost:8080/"
        },
        "id": "jr_wRtxTu9gU",
        "outputId": "51911d42-6d14-43fc-e316-c379b4cb4426"
      },
      "execution_count": 832,
      "outputs": [
        {
          "output_type": "stream",
          "name": "stdout",
          "text": [
            "['Brazil']\n",
            "Tera 1679.0805581304166 suicidios aproximadamente\n"
          ]
        }
      ]
    },
    {
      "cell_type": "code",
      "source": [
        "def make_prediction(data, model, range, feature):\n",
        "  suicides = []\n",
        "  for i in range:\n",
        "    data[feature] = [i]\n",
        "    pred_feat = pd.DataFrame(data)\n",
        "    pred = model.predict(data)\n",
        "    suicides.append(pred)\n",
        "  return suicides                      "
      ],
      "metadata": {
        "id": "llzEt2Ye7Dg-"
      },
      "execution_count": 777,
      "outputs": []
    },
    {
      "cell_type": "code",
      "source": [
        "a = range(0,6)\n",
        "\n",
        "suicide_per_age_group = []\n",
        "\n",
        "for i in a:\n",
        "  data = {\n",
        "    'country': [57],\n",
        "    'year': [37],\n",
        "    'gender': [1],\n",
        "    'age_group': [i],\n",
        "    'population': [200000000],\n",
        "  }\n",
        "\n",
        "  pred_feat = pd.DataFrame(data)\n",
        "\n",
        "  pred = forest.predict(pred_feat)\n",
        "\n",
        "  suicide_per_age_group.append(pred)\n",
        "\n",
        "print(pd.DataFrame(suicide_per_age_group))\n",
        "\n",
        "pred_feat = pd.DataFrame(data)\n",
        "\n",
        "print(make_prediction(pred_feat, forest, range(0,102), \"country\"))"
      ],
      "metadata": {
        "colab": {
          "base_uri": "https://localhost:8080/"
        },
        "id": "VAka0LvnWwD_",
        "outputId": "d211a351-f714-48be-e6f8-04dc1d3cee55"
      },
      "execution_count": 778,
      "outputs": [
        {
          "output_type": "stream",
          "name": "stdout",
          "text": [
            "             0\n",
            "0  2951.094327\n",
            "1  2955.788394\n",
            "2  4796.406585\n",
            "3   610.566879\n",
            "4  4668.801558\n",
            "5  4668.801558\n",
            "[array([4472.8578866]), array([4472.8578866]), array([4472.8578866]), array([4472.8578866]), array([4472.8578866]), array([4472.8578866]), array([4472.8578866]), array([4472.8578866]), array([4472.8578866]), array([4472.8578866]), array([4472.8578866]), array([4472.8578866]), array([4472.8578866]), array([4472.8578866]), array([4472.8578866]), array([4472.8578866]), array([4472.8578866]), array([4472.8578866]), array([4472.8578866]), array([4472.8578866]), array([4472.8578866]), array([4472.8578866]), array([4472.8578866]), array([4472.8578866]), array([4472.8578866]), array([4472.8578866]), array([4791.95281612]), array([4791.95281612]), array([4791.95281612]), array([4791.95281612]), array([4791.95281612]), array([4941.55224469]), array([4941.55224469]), array([4941.55224469]), array([4941.55224469]), array([4941.55224469]), array([4941.55224469]), array([4941.55224469]), array([4941.55224469]), array([4941.55224469]), array([4941.55224469]), array([5621.62842827]), array([5621.62842827]), array([5621.62842827]), array([5621.62842827]), array([5621.62842827]), array([5669.95342827]), array([5669.95342827]), array([5669.95342827]), array([5669.95342827]), array([5669.95342827]), array([5669.95342827]), array([5669.95342827]), array([4668.80155833]), array([4668.80155833]), array([4668.80155833]), array([4668.80155833]), array([4668.80155833]), array([4668.80155833]), array([4668.80155833]), array([4668.80155833]), array([4668.80155833]), array([4668.80155833]), array([4668.80155833]), array([4668.80155833]), array([4668.80155833]), array([4668.80155833]), array([4870.46210595]), array([4870.46210595]), array([4870.46210595]), array([4870.46210595]), array([5027.50210595]), array([9829.11297619]), array([9829.11297619]), array([9829.11297619]), array([9829.11297619]), array([9829.11297619]), array([9829.11297619]), array([9829.11297619]), array([9829.11297619]), array([9829.11297619]), array([9829.11297619]), array([9829.11297619]), array([9829.11297619]), array([10969.2131746]), array([10968.5171746]), array([10968.5171746]), array([11133.55623016]), array([11133.55623016]), array([11133.55623016]), array([11133.55623016]), array([11133.55623016]), array([11133.55623016]), array([11133.55623016]), array([11133.55623016]), array([11133.55623016]), array([11133.55623016]), array([11133.55623016]), array([11133.55623016]), array([11133.55623016]), array([11133.55623016]), array([11133.55623016])]\n"
          ]
        }
      ]
    },
    {
      "cell_type": "markdown",
      "source": [
        "## Decision tree"
      ],
      "metadata": {
        "id": "TO9vqiXYxGCy"
      }
    },
    {
      "cell_type": "markdown",
      "source": [
        "### Implementando o modelo"
      ],
      "metadata": {
        "id": "hNdW1TJvOGXJ"
      }
    },
    {
      "cell_type": "code",
      "source": [
        "# DECISION TREE\n",
        "\n",
        "from sklearn.tree import DecisionTreeRegressor\n",
        "\n",
        "tree = DecisionTreeRegressor(max_depth = 20)\n",
        "\n",
        "tree.fit(x_train, y_train)"
      ],
      "metadata": {
        "id": "Y-s1mOtcFRMa",
        "colab": {
          "base_uri": "https://localhost:8080/"
        },
        "outputId": "c380e19b-d5aa-4dd0-fc51-71a9878f9f88"
      },
      "execution_count": 779,
      "outputs": [
        {
          "output_type": "execute_result",
          "data": {
            "text/plain": [
              "DecisionTreeRegressor(max_depth=20)"
            ]
          },
          "metadata": {},
          "execution_count": 779
        }
      ]
    },
    {
      "cell_type": "markdown",
      "source": [
        "### Metricas"
      ],
      "metadata": {
        "id": "CCj4m9b6NvSX"
      }
    },
    {
      "cell_type": "code",
      "source": [
        "y_test_tree = tree.predict(x_test)\n",
        "y_train_tree = tree.predict(x_train)"
      ],
      "metadata": {
        "id": "m_nbBlZMGOC8"
      },
      "execution_count": 780,
      "outputs": []
    },
    {
      "cell_type": "code",
      "source": [
        "# Erro quadratico medio (mean_squared_error)\n",
        "\n",
        "print(\"======================================================\\nArvore de decisao\\n======================================================\")\n",
        "\n",
        "\n",
        "acc_train_tree = tree.score(x_train, y_train) * 100\n",
        "acc_test_tree = tree.score(x_test, y_test) * 100\n",
        "\n",
        "rmse_train_tree = np.sqrt(mean_squared_error(y_train, y_train_tree))\n",
        "rmse_test_tree = np.sqrt(mean_squared_error(y_test, y_test_tree))\n",
        "\n",
        "print(\"Acuracia nos dados de treino: {:.3f}%\".format(acc_train_tree))\n",
        "print(\"Acuracia nos dados de validacao: {:.3f}%\".format(acc_test_tree))\n",
        "print('\\nA raiz do Erro meio quadrado nos dados de treino:', rmse_train_tree)\n",
        "print('A raiz do Erro medio quadrado nos dados de validacao:', rmse_test_tree)"
      ],
      "metadata": {
        "id": "uLISbbrdGeY_",
        "colab": {
          "base_uri": "https://localhost:8080/"
        },
        "outputId": "6d9af530-2c00-4db8-d1f8-9983ec47f7f1"
      },
      "execution_count": 781,
      "outputs": [
        {
          "output_type": "stream",
          "name": "stdout",
          "text": [
            "======================================================\n",
            "Arvore de decisao\n",
            "======================================================\n",
            "Acuracia nos dados de treino: 99.999%\n",
            "Acuracia nos dados de validacao: 98.866%\n",
            "\n",
            "A raiz do Erro meio quadrado nos dados de treino: 3.2566512349153536\n",
            "A raiz do Erro medio quadrado nos dados de validacao: 93.38381051061488\n"
          ]
        }
      ]
    },
    {
      "cell_type": "code",
      "source": [
        "from sklearn.metrics import r2_score\n",
        "\n",
        "r2score_tree = r2_score(y_test, y_test_tree) * 100\n",
        "\n",
        "print(\"Arvore de decisao R2 score: {:.5f}%\".format(r2score))"
      ],
      "metadata": {
        "id": "0dKifAKOOa_d",
        "colab": {
          "base_uri": "https://localhost:8080/"
        },
        "outputId": "bec357a4-b5ba-416b-e9f3-1f3b70a30e3a"
      },
      "execution_count": 782,
      "outputs": [
        {
          "output_type": "stream",
          "name": "stdout",
          "text": [
            "Arvore de decisao R2 score: 92.11562%\n"
          ]
        }
      ]
    },
    {
      "cell_type": "code",
      "source": [
        "from sklearn.metrics import max_error\n",
        "\n",
        "maxError_tree = max_error(y_test, y_test_tree)\n",
        "\n",
        "print(\"Random Forest erro maximo: {:.3f}\".format(maxError))"
      ],
      "metadata": {
        "id": "mvQa4D2rOiIl",
        "colab": {
          "base_uri": "https://localhost:8080/"
        },
        "outputId": "c5403e92-5fa2-4fda-e1ca-2d18dc6372dd"
      },
      "execution_count": 783,
      "outputs": [
        {
          "output_type": "stream",
          "name": "stdout",
          "text": [
            "Random Forest erro maximo: 4236.109\n"
          ]
        }
      ]
    },
    {
      "cell_type": "code",
      "source": [
        "# armazenando os resultados\n",
        "\n",
        "storeResults(\"DecisionTree_20\", acc_test=acc_test_tree, acc_train=acc_train_tree, rmse_train=rmse_train_tree, rmse_test=rmse_test_tree, r2=r2score_tree, max=maxError_tree)"
      ],
      "metadata": {
        "id": "tZmEsXKZhArs"
      },
      "execution_count": 784,
      "outputs": []
    },
    {
      "cell_type": "markdown",
      "source": [
        "### Problemas de overfitting?\n",
        "\n",
        "> Vamos entao procurar qual seria a melhor profundidade maxima interessante para nao termos um problema de overfitting"
      ],
      "metadata": {
        "id": "xAo70sXfRShZ"
      }
    },
    {
      "cell_type": "code",
      "source": [
        "training_accuracy = []\n",
        "test_accuracy = []\n",
        "\n",
        "depth = range(1, 31)\n",
        "for n in depth:\n",
        "    tree = DecisionTreeRegressor(max_depth=n)\n",
        "    tree.fit(x_train, y_train)\n",
        "    training_accuracy.append(tree.score(x_train, y_train))\n",
        "    test_accuracy.append(tree.score(x_test, y_test))\n",
        "\n",
        "plt.plot(depth, training_accuracy, label=\"treino\")\n",
        "plt.plot(depth, test_accuracy, label=\"validacao\")\n",
        "plt.ylabel(\"Acuracia\")  \n",
        "plt.xlabel(\"Profundidade\")\n",
        "plt.title(\"Profundidades na Decision Tree\")\n",
        "plt.legend()\n",
        "\n",
        "\n",
        "# A partir desse grafico podemos observar que a profundidade maximo a partir de 10 chegamos em um problema de overfitting\n",
        "# portanto é mais interessante manter a profundidade em 9 para nao ter esse problema"
      ],
      "metadata": {
        "id": "b9LKZjNYRXN3",
        "colab": {
          "base_uri": "https://localhost:8080/",
          "height": 313
        },
        "outputId": "81cd2b07-af8d-4aa6-8a02-c0545691f4c9"
      },
      "execution_count": 785,
      "outputs": [
        {
          "output_type": "execute_result",
          "data": {
            "text/plain": [
              "<matplotlib.legend.Legend at 0x7f46d0021390>"
            ]
          },
          "metadata": {},
          "execution_count": 785
        },
        {
          "output_type": "display_data",
          "data": {
            "text/plain": [
              "<Figure size 432x288 with 1 Axes>"
            ],
            "image/png": "[encoded data removed]"
          },
          "metadata": {
            "needs_background": "light"
          }
        }
      ]
    },
    {
      "cell_type": "code",
      "source": [
        "tree = DecisionTreeRegressor(max_depth = 7)\n",
        "\n",
        "tree.fit(x_train, y_train)"
      ],
      "metadata": {
        "id": "cszah5mvTHRf",
        "colab": {
          "base_uri": "https://localhost:8080/"
        },
        "outputId": "c61b68a0-57e6-4d33-87dd-5000b1534f52"
      },
      "execution_count": 786,
      "outputs": [
        {
          "output_type": "execute_result",
          "data": {
            "text/plain": [
              "DecisionTreeRegressor(max_depth=7)"
            ]
          },
          "metadata": {},
          "execution_count": 786
        }
      ]
    },
    {
      "cell_type": "code",
      "source": [
        "# Erro quadratico medio (mean_squared_error)\n",
        "\n",
        "print(\"======================================================\\nArvore de decisao\\n======================================================\")\n",
        "\n",
        "y_test_tree = tree.predict(x_test)\n",
        "y_train_tree = tree.predict(x_train)\n",
        "\n",
        "acc_train_tree = tree.score(x_train, y_train) * 100\n",
        "acc_test_tree = tree.score(x_test, y_test) * 100\n",
        "\n",
        "# Armazenando a raiz do erro medio quadratico\n",
        "rmse_train_tree = np.sqrt(mean_squared_error(y_train, y_train_tree))\n",
        "rmse_test_tree = np.sqrt(mean_squared_error(y_test, y_test_tree))\n",
        "\n",
        "print(\"Acuracia nos dados de treino: {:.3f}%\".format(acc_train_tree))\n",
        "print(\"Acuracia nos dados de validacao: {:.3f}%\".format(acc_test_tree))\n",
        "print('\\nA raiz do Erro meio quadrado nos dados de treino:', rmse_train_tree)\n",
        "print('A raiz do Erro medio quadrado nos dados de validacao:', rmse_test_tree)\n",
        "\n",
        "\n",
        "\n",
        "from sklearn.metrics import r2_score\n",
        "\n",
        "r2score_tree = r2_score(y_test, y_test_tree) * 100\n",
        "\n",
        "print(\"\\nArvore de decisao R2 score: {:.5f}%\".format(r2score_tree))\n",
        "\n",
        "\n",
        "from sklearn.metrics import max_error\n",
        "\n",
        "maxError_tree = max_error(y_test, y_test_tree)\n",
        "\n",
        "print(\"\\nRandom Forest erro maximo: {:.3f}\".format(maxError_tree))"
      ],
      "metadata": {
        "id": "69q7x1xyTWBd",
        "colab": {
          "base_uri": "https://localhost:8080/"
        },
        "outputId": "4a989f96-e329-4792-abdb-b6954161c606"
      },
      "execution_count": 787,
      "outputs": [
        {
          "output_type": "stream",
          "name": "stdout",
          "text": [
            "======================================================\n",
            "Arvore de decisao\n",
            "======================================================\n",
            "Acuracia nos dados de treino: 92.646%\n",
            "Acuracia nos dados de validacao: 89.666%\n",
            "\n",
            "A raiz do Erro meio quadrado nos dados de treino: 246.86162463581107\n",
            "A raiz do Erro medio quadrado nos dados de validacao: 281.84759042471626\n",
            "\n",
            "Arvore de decisao R2 score: 89.66632%\n",
            "\n",
            "Random Forest erro maximo: 6169.667\n"
          ]
        }
      ]
    },
    {
      "cell_type": "code",
      "source": [
        "storeResults(\"DecisionTree_7\", acc_test=acc_test_tree, acc_train=acc_train_tree, rmse_train=rmse_train_tree, rmse_test=rmse_test_tree, r2=r2score_tree, max=maxError_tree)"
      ],
      "metadata": {
        "id": "1IngFOCues6u"
      },
      "execution_count": 788,
      "outputs": []
    },
    {
      "cell_type": "markdown",
      "source": [
        "### Predicao de uma amostra de tamanho 1"
      ],
      "metadata": {
        "id": "gcb5QYBzOqRN"
      }
    },
    {
      "cell_type": "code",
      "source": [
        "# SINGLE PREDICTION\n",
        "\n",
        "data = {\n",
        "    'country': [87],\n",
        "    'year': [37],\n",
        "    'gender': [1],\n",
        "    'age_group': [3],\n",
        "    'population': [200000000],\n",
        "}\n",
        "\n",
        "\n",
        "pred_feat = pd.DataFrame(data)\n",
        "\n",
        "pred = tree.predict(pred_feat)\n",
        "\n",
        "print(\"Tera {:.3f} suicidios aproximadamente\".format(max(pred)))"
      ],
      "metadata": {
        "id": "yIW_AJf3Oxll",
        "colab": {
          "base_uri": "https://localhost:8080/"
        },
        "outputId": "9f1804e0-9c8f-4aae-c592-64db4a44490e"
      },
      "execution_count": 789,
      "outputs": [
        {
          "output_type": "stream",
          "name": "stdout",
          "text": [
            "Tera 11654.750 suicidios aproximadamente\n"
          ]
        }
      ]
    },
    {
      "cell_type": "markdown",
      "source": [
        "# Comparacao entre os modelos"
      ],
      "metadata": {
        "id": "afqztTzhe0F3"
      }
    },
    {
      "cell_type": "code",
      "source": [
        "results = pd.DataFrame({ 'ML Model': ML_Model,    \n",
        "    'Treino Acuracia': acc_train_res,\n",
        "    'Teste Acuracia': acc_test_res,\n",
        "    'Raiz EMQ treio': rmse_train_res,\n",
        "    'Raiz EMQ validacao': rmse_test_res,\n",
        "    'R2 Score': r2score_res,\n",
        "    'Erro máximo': maxError_res\n",
        "    })\n",
        "\n",
        "results"
      ],
      "metadata": {
        "id": "OwurGTTSe1uy",
        "colab": {
          "base_uri": "https://localhost:8080/",
          "height": 175
        },
        "outputId": "8f180a58-8d27-4bdd-a3ef-3de732d1f6d4"
      },
      "execution_count": 790,
      "outputs": [
        {
          "output_type": "execute_result",
          "data": {
            "text/plain": [
              "          ML Model  Treino Acuracia  Teste Acuracia  Raiz EMQ treio  \\\n",
              "0  RandomForest_20           99.771          99.082          43.547   \n",
              "1   RandomForest_7           94.109          92.116         220.938   \n",
              "2  DecisionTree_20           99.999          98.866           3.257   \n",
              "3   DecisionTree_7           92.646          89.666         246.862   \n",
              "\n",
              "   Raiz EMQ validacao  R2 Score  Erro máximo  \n",
              "0              84.022        99         2679  \n",
              "1             246.190        92         4236  \n",
              "2              93.384        99         2083  \n",
              "3             281.848        90         6170  "
            ],
            "text/html": [
              "\n",
              "  <div id=\"df-c45c7eb4-190e-4eaa-844f-49d84d3c4abc\">\n",
              "    <div class=\"colab-df-container\">\n",
              "      <div>\n",
              "<style scoped>\n",
              "    .dataframe tbody tr th:only-of-type {\n",
              "        vertical-align: middle;\n",
              "    }\n",
              "\n",
              "    .dataframe tbody tr th {\n",
              "        vertical-align: top;\n",
              "    }\n",
              "\n",
              "    .dataframe thead th {\n",
              "        text-align: right;\n",
              "    }\n",
              "</style>\n",
              "<table border=\"1\" class=\"dataframe\">\n",
              "  <thead>\n",
              "    <tr style=\"text-align: right;\">\n",
              "      <th></th>\n",
              "      <th>ML Model</th>\n",
              "      <th>Treino Acuracia</th>\n",
              "      <th>Teste Acuracia</th>\n",
              "      <th>Raiz EMQ treio</th>\n",
              "      <th>Raiz EMQ validacao</th>\n",
              "      <th>R2 Score</th>\n",
              "      <th>Erro máximo</th>\n",
              "    </tr>\n",
              "  </thead>\n",
              "  <tbody>\n",
              "    <tr>\n",
              "      <th>0</th>\n",
              "      <td>RandomForest_20</td>\n",
              "      <td>99.771</td>\n",
              "      <td>99.082</td>\n",
              "      <td>43.547</td>\n",
              "      <td>84.022</td>\n",
              "      <td>99</td>\n",
              "      <td>2679</td>\n",
              "    </tr>\n",
              "    <tr>\n",
              "      <th>1</th>\n",
              "      <td>RandomForest_7</td>\n",
              "      <td>94.109</td>\n",
              "      <td>92.116</td>\n",
              "      <td>220.938</td>\n",
              "      <td>246.190</td>\n",
              "      <td>92</td>\n",
              "      <td>4236</td>\n",
              "    </tr>\n",
              "    <tr>\n",
              "      <th>2</th>\n",
              "      <td>DecisionTree_20</td>\n",
              "      <td>99.999</td>\n",
              "      <td>98.866</td>\n",
              "      <td>3.257</td>\n",
              "      <td>93.384</td>\n",
              "      <td>99</td>\n",
              "      <td>2083</td>\n",
              "    </tr>\n",
              "    <tr>\n",
              "      <th>3</th>\n",
              "      <td>DecisionTree_7</td>\n",
              "      <td>92.646</td>\n",
              "      <td>89.666</td>\n",
              "      <td>246.862</td>\n",
              "      <td>281.848</td>\n",
              "      <td>90</td>\n",
              "      <td>6170</td>\n",
              "    </tr>\n",
              "  </tbody>\n",
              "</table>\n",
              "</div>\n",
              "      <button class=\"colab-df-convert\" onclick=\"convertToInteractive('df-c45c7eb4-190e-4eaa-844f-49d84d3c4abc')\"\n",
              "              title=\"Convert this dataframe to an interactive table.\"\n",
              "              style=\"display:none;\">\n",
              "        \n",
              "  <svg xmlns=\"http://www.w3.org/2000/svg\" height=\"24px\"viewBox=\"0 0 24 24\"\n",
              "       width=\"24px\">\n",
              "    <path d=\"M0 0h24v24H0V0z\" fill=\"none\"/>\n",
              "    <path d=\"M18.56 5.44l.94 2.06.94-2.06 2.06-.94-2.06-.94-.94-2.06-.94 2.06-2.06.94zm-11 1L8.5 8.5l.94-2.06 2.06-.94-2.06-.94L8.5 2.5l-.94 2.06-2.06.94zm10 10l.94 2.06.94-2.06 2.06-.94-2.06-.94-.94-2.06-.94 2.06-2.06.94z\"/><path d=\"M17.41 7.96l-1.37-1.37c-.4-.4-.92-.59-1.43-.59-.52 0-1.04.2-1.43.59L10.3 9.45l-7.72 7.72c-.78.78-.78 2.05 0 2.83L4 21.41c.39.39.9.59 1.41.59.51 0 1.02-.2 1.41-.59l7.78-7.78 2.81-2.81c.8-.78.8-2.07 0-2.86zM5.41 20L4 18.59l7.72-7.72 1.47 1.35L5.41 20z\"/>\n",
              "  </svg>\n",
              "      </button>\n",
              "      \n",
              "  <style>\n",
              "    .colab-df-container {\n",
              "      display:flex;\n",
              "      flex-wrap:wrap;\n",
              "      gap: 12px;\n",
              "    }\n",
              "\n",
              "    .colab-df-convert {\n",
              "      background-color: #E8F0FE;\n",
              "      border: none;\n",
              "      border-radius: 50%;\n",
              "      cursor: pointer;\n",
              "      display: none;\n",
              "      fill: #1967D2;\n",
              "      height: 32px;\n",
              "      padding: 0 0 0 0;\n",
              "      width: 32px;\n",
              "    }\n",
              "\n",
              "    .colab-df-convert:hover {\n",
              "      background-color: #E2EBFA;\n",
              "      box-shadow: 0px 1px 2px rgba(60, 64, 67, 0.3), 0px 1px 3px 1px rgba(60, 64, 67, 0.15);\n",
              "      fill: #174EA6;\n",
              "    }\n",
              "\n",
              "    [theme=dark] .colab-df-convert {\n",
              "      background-color: #3B4455;\n",
              "      fill: #D2E3FC;\n",
              "    }\n",
              "\n",
              "    [theme=dark] .colab-df-convert:hover {\n",
              "      background-color: #434B5C;\n",
              "      box-shadow: 0px 1px 3px 1px rgba(0, 0, 0, 0.15);\n",
              "      filter: drop-shadow(0px 1px 2px rgba(0, 0, 0, 0.3));\n",
              "      fill: #FFFFFF;\n",
              "    }\n",
              "  </style>\n",
              "\n",
              "      <script>\n",
              "        const buttonEl =\n",
              "          document.querySelector('#df-c45c7eb4-190e-4eaa-844f-49d84d3c4abc button.colab-df-convert');\n",
              "        buttonEl.style.display =\n",
              "          google.colab.kernel.accessAllowed ? 'block' : 'none';\n",
              "\n",
              "        async function convertToInteractive(key) {\n",
              "          const element = document.querySelector('#df-c45c7eb4-190e-4eaa-844f-49d84d3c4abc');\n",
              "          const dataTable =\n",
              "            await google.colab.kernel.invokeFunction('convertToInteractive',\n",
              "                                                     [key], {});\n",
              "          if (!dataTable) return;\n",
              "\n",
              "          const docLinkHtml = 'Like what you see? Visit the ' +\n",
              "            '<a target=\"_blank\" href=https://colab.research.google.com/notebooks/data_table.ipynb>data table notebook</a>'\n",
              "            + ' to learn more about interactive tables.';\n",
              "          element.innerHTML = '';\n",
              "          dataTable['output_type'] = 'display_data';\n",
              "          await google.colab.output.renderOutput(dataTable, element);\n",
              "          const docLink = document.createElement('div');\n",
              "          docLink.innerHTML = docLinkHtml;\n",
              "          element.appendChild(docLink);\n",
              "        }\n",
              "      </script>\n",
              "    </div>\n",
              "  </div>\n",
              "  "
            ]
          },
          "metadata": {},
          "execution_count": 790
        }
      ]
    }
  ],
  "metadata": {
    "colab": {
      "collapsed_sections": [
        "afqztTzhe0F3"
      ],
      "name": "TP-final.ipynb",
      "provenance": [],
      "toc_visible": true,
      "mount_file_id": "14gzMjCHt8t_h00fHe_HNccfYJhpnnUIl",
      "authorship_tag": "ABX9TyN1e7WPLz8VeeQu/3/gLKmE",
      "include_colab_link": true
    },
    "kernelspec": {
      "display_name": "Python 3",
      "name": "python3"
    },
    "language_info": {
      "name": "python"
    }
  },
  "nbformat": 4,
  "nbformat_minor": 0
}